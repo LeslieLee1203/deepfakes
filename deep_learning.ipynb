{
  "nbformat": 4,
  "nbformat_minor": 0,
  "metadata": {
    "colab": {
      "name": "deep_learning.ipynb",
      "provenance": [],
      "collapsed_sections": []
    },
    "kernelspec": {
      "name": "python3",
      "display_name": "Python 3"
    },
    "language_info": {
      "name": "python"
    }
  },
  "cells": [
    {
      "cell_type": "code",
      "execution_count": 1,
      "metadata": {
        "colab": {
          "base_uri": "https://localhost:8080/",
          "height": 283
        },
        "cellView": "form",
        "id": "UfR_tuivfjxJ",
        "outputId": "b5bf7297-a55e-4983-e7df-2b8edf853927"
      },
      "outputs": [
        {
          "output_type": "execute_result",
          "data": {
            "text/plain": [
              "<matplotlib.image.AxesImage at 0x7f0c3b953f50>"
            ]
          },
          "metadata": {},
          "execution_count": 1
        },
        {
          "output_type": "display_data",
          "data": {
            "image/png": "[encoded data removed]",
            "text/plain": [
              "<Figure size 432x288 with 1 Axes>"
            ]
          },
          "metadata": {
            "needs_background": "light"
          }
        }
      ],
      "source": [
        "#@markdown 載入MNIST資料\n",
        "from tensorflow import keras\n",
        "from matplotlib import pyplot as plt\n",
        "mnist = keras.datasets.mnist\n",
        "(x_train, y_train), (x_test, y_test) = mnist.load_data()\n",
        "\n",
        "plt.imshow(x_train[0])"
      ]
    },
    {
      "cell_type": "code",
      "source": [
        "#@markdown 資料預處理\n",
        "x_train = x_train.reshape(60000, 784)\n",
        "x_test = x_test.reshape(10000, 784)\n",
        "x_train = x_train / 255.0\n",
        "x_test = x_test / 255.0"
      ],
      "metadata": {
        "cellView": "form",
        "id": "bpCIcTWRf-WX"
      },
      "execution_count": 2,
      "outputs": []
    },
    {
      "cell_type": "code",
      "source": [
        "#@markdown 建立模型\n",
        "from tensorflow.keras.models import Sequential\n",
        "from tensorflow.keras.layers import Dense\n",
        "model = Sequential()\n",
        "# Dense: x * w + b\n",
        "model.add(Dense(256, activation = 'relu', input_shape = (784,)))\n",
        "model.add(Dense(256, activation = 'relu'))\n",
        "model.add(Dense(10))\n",
        "model.summary()"
      ],
      "metadata": {
        "colab": {
          "base_uri": "https://localhost:8080/"
        },
        "cellView": "form",
        "id": "aewwg8DegI3u",
        "outputId": "9c7c8c30-73d8-4f62-9f79-b3cd427f019d"
      },
      "execution_count": 3,
      "outputs": [
        {
          "output_type": "stream",
          "name": "stdout",
          "text": [
            "Model: \"sequential\"\n",
            "_________________________________________________________________\n",
            " Layer (type)                Output Shape              Param #   \n",
            "=================================================================\n",
            " dense (Dense)               (None, 256)               200960    \n",
            "                                                                 \n",
            " dense_1 (Dense)             (None, 256)               65792     \n",
            "                                                                 \n",
            " dense_2 (Dense)             (None, 10)                2570      \n",
            "                                                                 \n",
            "=================================================================\n",
            "Total params: 269,322\n",
            "Trainable params: 269,322\n",
            "Non-trainable params: 0\n",
            "_________________________________________________________________\n"
          ]
        }
      ]
    },
    {
      "cell_type": "code",
      "source": [
        "#@markdown 訓練神經網路\n",
        "from tensorflow.keras.losses import SparseCategoricalCrossentropy\n",
        "loss_fn = SparseCategoricalCrossentropy(from_logits=True)\n",
        "\n",
        "model.compile(optimizer='sgd',\n",
        "       loss=loss_fn,\n",
        "       metrics=['accuracy'])\n",
        "model.fit(x_train, y_train, \n",
        "    epochs=5, batch_size = 256,\n",
        "    validation_data = (x_test, y_test))"
      ],
      "metadata": {
        "colab": {
          "base_uri": "https://localhost:8080/"
        },
        "cellView": "form",
        "id": "1BYOP6HngOK8",
        "outputId": "6e66baef-853f-49ce-adc1-a2f6cbcb4c4a"
      },
      "execution_count": 4,
      "outputs": [
        {
          "output_type": "stream",
          "name": "stdout",
          "text": [
            "Epoch 1/5\n",
            "235/235 [==============================] - 3s 12ms/step - loss: 1.5949 - accuracy: 0.6078 - val_loss: 0.9294 - val_accuracy: 0.8091\n",
            "Epoch 2/5\n",
            "235/235 [==============================] - 3s 11ms/step - loss: 0.7160 - accuracy: 0.8348 - val_loss: 0.5460 - val_accuracy: 0.8644\n",
            "Epoch 3/5\n",
            "235/235 [==============================] - 3s 11ms/step - loss: 0.5048 - accuracy: 0.8687 - val_loss: 0.4343 - val_accuracy: 0.8837\n",
            "Epoch 4/5\n",
            "235/235 [==============================] - 3s 11ms/step - loss: 0.4256 - accuracy: 0.8850 - val_loss: 0.3802 - val_accuracy: 0.8957\n",
            "Epoch 5/5\n",
            "235/235 [==============================] - 3s 11ms/step - loss: 0.3830 - accuracy: 0.8946 - val_loss: 0.3503 - val_accuracy: 0.9018\n"
          ]
        },
        {
          "output_type": "execute_result",
          "data": {
            "text/plain": [
              "<keras.callbacks.History at 0x7f0c35dc4a10>"
            ]
          },
          "metadata": {},
          "execution_count": 4
        }
      ]
    },
    {
      "cell_type": "code",
      "source": [
        "#@markdown 檢視模型參數\n",
        "model.get_weights()[0]"
      ],
      "metadata": {
        "colab": {
          "base_uri": "https://localhost:8080/"
        },
        "cellView": "form",
        "id": "03kzpWrJgyE7",
        "outputId": "bb472b5f-07a1-49fe-e3b8-85bdc836c55a"
      },
      "execution_count": 5,
      "outputs": [
        {
          "output_type": "execute_result",
          "data": {
            "text/plain": [
              "array([[ 0.05994482,  0.06124961, -0.05692293, ...,  0.00625271,\n",
              "         0.01937528, -0.07058074],\n",
              "       [ 0.05519925,  0.07535307,  0.0292355 , ...,  0.00047046,\n",
              "        -0.00720945, -0.00116774],\n",
              "       [ 0.01967245,  0.00324795, -0.00221717, ..., -0.06419246,\n",
              "         0.03110179, -0.01718106],\n",
              "       ...,\n",
              "       [-0.07350729,  0.06650227, -0.01896512, ..., -0.05152155,\n",
              "        -0.06347677,  0.00932804],\n",
              "       [ 0.05872527, -0.01350743,  0.07304108, ...,  0.00521869,\n",
              "         0.01080064,  0.02053613],\n",
              "       [-0.00625276,  0.0703622 , -0.04307812, ...,  0.05544233,\n",
              "        -0.03720701,  0.06678911]], dtype=float32)"
            ]
          },
          "metadata": {},
          "execution_count": 5
        }
      ]
    },
    {
      "cell_type": "code",
      "source": [
        "#@markdown 檢視精準度變化\n",
        "plt.plot(range(len(model.history.history['accuracy'])), model.history.history['accuracy'])"
      ],
      "metadata": {
        "colab": {
          "base_uri": "https://localhost:8080/",
          "height": 283
        },
        "cellView": "form",
        "id": "vi2HdCF8gV6m",
        "outputId": "aab943a9-2660-41cd-87f7-9001137b95aa"
      },
      "execution_count": 6,
      "outputs": [
        {
          "output_type": "execute_result",
          "data": {
            "text/plain": [
              "[<matplotlib.lines.Line2D at 0x7f0c344015d0>]"
            ]
          },
          "metadata": {},
          "execution_count": 6
        },
        {
          "output_type": "display_data",
          "data": {
            "image/png": "[encoded data removed]",
            "text/plain": [
              "<Figure size 432x288 with 1 Axes>"
            ]
          },
          "metadata": {
            "needs_background": "light"
          }
        }
      ]
    },
    {
      "cell_type": "code",
      "source": [
        "#@markdown 檢視Loss變化\n",
        "plt.plot(range(len(model.history.history['loss'])), model.history.history['loss'])"
      ],
      "metadata": {
        "colab": {
          "base_uri": "https://localhost:8080/",
          "height": 283
        },
        "cellView": "form",
        "id": "6vQSd3ejgjrc",
        "outputId": "2f5845f6-ecd7-48b6-8325-cb33d119c369"
      },
      "execution_count": 7,
      "outputs": [
        {
          "output_type": "execute_result",
          "data": {
            "text/plain": [
              "[<matplotlib.lines.Line2D at 0x7f0c35cf7c50>]"
            ]
          },
          "metadata": {},
          "execution_count": 7
        },
        {
          "output_type": "display_data",
          "data": {
            "image/png": "[encoded data removed]",
            "text/plain": [
              "<Figure size 432x288 with 1 Axes>"
            ]
          },
          "metadata": {
            "needs_background": "light"
          }
        }
      ]
    }
  ]
}