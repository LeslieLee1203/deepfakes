{
  "cells": [
    {
      "cell_type": "code",
      "execution_count": 1,
      "metadata": {
        "cellView": "form",
        "colab": {
          "base_uri": "https://localhost:8080/"
        },
        "id": "sdJ7nZcubQDf",
        "outputId": "5ad645d7-2594-4b34-e66a-b341aa354364"
      },
      "outputs": [
        {
          "output_type": "stream",
          "name": "stdout",
          "text": [
            "Sat Mar 19 00:27:01 2022       \n",
            "+-----------------------------------------------------------------------------+\n",
            "| NVIDIA-SMI 460.32.03    Driver Version: 460.32.03    CUDA Version: 11.2     |\n",
            "|-------------------------------+----------------------+----------------------+\n",
            "| GPU  Name        Persistence-M| Bus-Id        Disp.A | Volatile Uncorr. ECC |\n",
            "| Fan  Temp  Perf  Pwr:Usage/Cap|         Memory-Usage | GPU-Util  Compute M. |\n",
            "|                               |                      |               MIG M. |\n",
            "|===============================+======================+======================|\n",
            "|   0  Tesla P100-PCIE...  Off  | 00000000:00:04.0 Off |                    0 |\n",
            "| N/A   37C    P0    27W / 250W |      0MiB / 16280MiB |      0%      Default |\n",
            "|                               |                      |                  N/A |\n",
            "+-------------------------------+----------------------+----------------------+\n",
            "                                                                               \n",
            "+-----------------------------------------------------------------------------+\n",
            "| Processes:                                                                  |\n",
            "|  GPU   GI   CI        PID   Type   Process name                  GPU Memory |\n",
            "|        ID   ID                                                   Usage      |\n",
            "|=============================================================================|\n",
            "|  No running processes found                                                 |\n",
            "+-----------------------------------------------------------------------------+\n"
          ]
        }
      ],
      "source": [
        "#@title 檢視 GPU\n",
        "! nvidia-smi"
      ]
    },
    {
      "cell_type": "code",
      "execution_count": null,
      "metadata": {
        "cellView": "form",
        "id": "QNtYV2KjZ_DS"
      },
      "outputs": [],
      "source": [
        "#@title 安裝 colorama, ffmpeg\n",
        "\n",
        "! pip install colorama\n",
        "! pip install ffmpeg-python"
      ]
    },
    {
      "cell_type": "code",
      "execution_count": null,
      "metadata": {
        "cellView": "form",
        "id": "g-0BaNcladl4"
      },
      "outputs": [],
      "source": [
        "#@title 安裝 DeepFaceLab\n",
        "!git clone https://github.com/iperov/DeepFaceLab.git"
      ]
    },
    {
      "cell_type": "code",
      "execution_count": 4,
      "metadata": {
        "cellView": "form",
        "colab": {
          "base_uri": "https://localhost:8080/"
        },
        "id": "KwlV62qxcY4v",
        "outputId": "6db46e2f-ea18-4503-cb7f-d2cc10b4f828"
      },
      "outputs": [
        {
          "output_type": "stream",
          "name": "stdout",
          "text": [
            "Mounted at /content/drive\n"
          ]
        }
      ],
      "source": [
        "#@title Mount Google Drive\n",
        "from google.colab import drive\n",
        "drive.mount('/content/drive')"
      ]
    },
    {
      "cell_type": "code",
      "execution_count": 5,
      "metadata": {
        "cellView": "form",
        "colab": {
          "base_uri": "https://localhost:8080/",
          "height": 35
        },
        "id": "7HbURJTmgM1t",
        "outputId": "51b68ba9-7bc9-4230-fdd2-b78f40e4d8e4"
      },
      "outputs": [
        {
          "output_type": "display_data",
          "data": {
            "text/plain": [
              "<IPython.core.display.Javascript object>"
            ],
            "application/javascript": [
              "\n",
              " function ClickConnect(){\n",
              "   btn = document.querySelector(\"colab-connect-button\")\n",
              "   if (btn != null){\n",
              "     console.log(\"Click colab-connect-button\"); \n",
              "     btn.click() \n",
              "     }\n",
              "   \n",
              "   btn = document.getElementById('ok')\n",
              "   if (btn != null){\n",
              "     console.log(\"Click reconnect\"); \n",
              "     btn.click() \n",
              "     }\n",
              "  }\n",
              "  \n",
              "setInterval(ClickConnect,60000)\n"
            ]
          },
          "metadata": {}
        },
        {
          "output_type": "stream",
          "name": "stdout",
          "text": [
            "Done.\n"
          ]
        }
      ],
      "source": [
        "#@title 防止 Google Colab 斷開連線\n",
        "\n",
        "import IPython\n",
        "from google.colab import output\n",
        "\n",
        "display(IPython.display.Javascript('''\n",
        " function ClickConnect(){\n",
        "   btn = document.querySelector(\"colab-connect-button\")\n",
        "   if (btn != null){\n",
        "     console.log(\"Click colab-connect-button\"); \n",
        "     btn.click() \n",
        "     }\n",
        "   \n",
        "   btn = document.getElementById('ok')\n",
        "   if (btn != null){\n",
        "     console.log(\"Click reconnect\"); \n",
        "     btn.click() \n",
        "     }\n",
        "  }\n",
        "  \n",
        "setInterval(ClickConnect,60000)\n",
        "'''))\n",
        "\n",
        "print(\"Done.\")"
      ]
    },
    {
      "cell_type": "code",
      "execution_count": 7,
      "metadata": {
        "cellView": "form",
        "id": "Zqb6s37kqzrq"
      },
      "outputs": [],
      "source": [
        "#@title 將原素材從 Google Drive 搬回 VM\n",
        "workspace_file = '/content/drive/MyDrive/aidataset/deepfacelab/deepfacelab_ws2.zip' #@param {type:\"string\"}\n",
        "cmd  = f'cp {workspace_file} ./'\n",
        "! $cmd"
      ]
    },
    {
      "cell_type": "code",
      "execution_count": null,
      "metadata": {
        "id": "Scqv3ILhtLF2",
        "cellView": "form"
      },
      "outputs": [],
      "source": [
        "#@title 解壓縮原素材Workspace\n",
        "zip_file = 'deepfacelab_ws2.zip' #@param {type:\"string\"}\n",
        "cmd  = f'unzip  {zip_file}'\n",
        "! $cmd"
      ]
    },
    {
      "cell_type": "code",
      "source": [
        "#@title 移除 data_dst 既有素材\n",
        "\n",
        "! rm -f /content/workspace/data_dst.mp4\n",
        "! rm -rf /content/workspace/data_dst/*"
      ],
      "metadata": {
        "cellView": "form",
        "id": "ePby82h4lqgs"
      },
      "execution_count": 13,
      "outputs": []
    },
    {
      "cell_type": "markdown",
      "source": [
        "#如果要處理新的影片"
      ],
      "metadata": {
        "id": "HstZmEefnGMw"
      }
    },
    {
      "cell_type": "code",
      "source": [
        "#@title 從 Google Drive 複製新data_dst影片到workspace\n",
        "\n",
        "dst_mp4 = '/content/drive/MyDrive/aidataset/deepfacelab/data_dst_xseg.mp4' #@param {type:\"string\"}\n",
        "dst_cmd=f\"cp {dst_mp4} /content/workspace/data_dst.mp4\" \n",
        "! $dst_cmd"
      ],
      "metadata": {
        "cellView": "form",
        "id": "qIBQb183k9dI"
      },
      "execution_count": 14,
      "outputs": []
    },
    {
      "cell_type": "code",
      "source": [
        "#@title 從新 data_dst 影片擷取人物圖片\n",
        "# 開始擷取 dst\n",
        "%cd /content/DeepFaceLab/\n",
        "! python main.py videoed extract-video --input-file /content/workspace/data_dst.mp4 --output-dir /content/workspace/data_dst/"
      ],
      "metadata": {
        "cellView": "form",
        "id": "8Cp8HHT4ks7w"
      },
      "execution_count": null,
      "outputs": []
    },
    {
      "cell_type": "code",
      "source": [
        "#@title 新 data_dst 影片降噪 (選擇性)\n",
        "%cd /content/DeepFaceLab/\n",
        "! python  main.py videoed denoise-image-sequence --input-dir /content/workspace/data_dst "
      ],
      "metadata": {
        "cellView": "form",
        "id": "2lB2p5J7laWe"
      },
      "execution_count": null,
      "outputs": []
    },
    {
      "cell_type": "code",
      "source": [
        "#@title 校正新 data_dst 影片\n",
        "%cd /content/DeepFaceLab/\n",
        "! python main.py extract --input-dir /content/workspace/data_dst --output-dir /content/workspace/data_dst/aligned --detector s3fd"
      ],
      "metadata": {
        "cellView": "form",
        "id": "ZZigNCxoljdM"
      },
      "execution_count": null,
      "outputs": []
    },
    {
      "cell_type": "code",
      "source": [
        "#@title 排序 data_dst 影格 (選擇性)\n",
        "%cd /content/DeepFaceLab/\n",
        "! python main.py sort --input-dir /content/workspace/data_dst/aligned --by hist"
      ],
      "metadata": {
        "cellView": "form",
        "id": "4fpF3Tdtmi7H"
      },
      "execution_count": null,
      "outputs": []
    },
    {
      "cell_type": "code",
      "source": [
        "#@title 打包 data_dst 影格\n",
        "%cd /content/DeepFaceLab/\n",
        "!python main.py util --input-dir /content/workspace/data_dst/aligned  --pack-faceset"
      ],
      "metadata": {
        "cellView": "form",
        "id": "oib_PFqamr-a"
      },
      "execution_count": null,
      "outputs": []
    },
    {
      "cell_type": "code",
      "source": [
        "#@title 壓縮素材\n",
        "% cd /content/\n",
        "workspace = 'deepfacelab_ws_new' #@param {type:\"string\"}\n",
        "cmd = f'zip -r {workspace} workspace/*'\n",
        "! $cmd"
      ],
      "metadata": {
        "cellView": "form",
        "id": "g1C73qAQmxGY"
      },
      "execution_count": null,
      "outputs": []
    },
    {
      "cell_type": "code",
      "source": [
        "#@title 將素材搬移至 Google Drive\n",
        "workspace_dir = '/content/drive/MyDrive/aidataset/deepfacelab/' #@param {type:\"string\"}\n",
        "cmd  = f'cp {workspace}.zip {workspace_dir}'\n",
        "! $cmd"
      ],
      "metadata": {
        "cellView": "form",
        "id": "4gumsBTmm3Gi"
      },
      "execution_count": null,
      "outputs": []
    },
    {
      "cell_type": "markdown",
      "source": [
        "#如果已經整理好新的 Workspace"
      ],
      "metadata": {
        "id": "1ypfBGPRnZr_"
      }
    },
    {
      "cell_type": "code",
      "execution_count": null,
      "metadata": {
        "id": "9BymJSndm0U4",
        "cellView": "form"
      },
      "outputs": [],
      "source": [
        "#@title 替換 data_dst 素材\n",
        "zip_file = 'deepfacelab_ws_new.zip' #@param {type:\"string\"}\n",
        "\n",
        "%cd /content/\n",
        "! mkdir -p tmp\n",
        "cmd =  f'cp /content/drive/MyDrive/aidataset/deepfacelab/{zip_file}  tmp/'\n",
        "! $cmd\n",
        "cmd =  f'cd tmp; unzip {zip_file}'\n",
        "! $cmd\n",
        "\n",
        "! rm /content/workspace/data_dst/*\n",
        "! rm /content/workspace/data_dst.mp4\n",
        "! rm /content/workspace/data_dst/aligned/*\n",
        "! cp /content/tmp/workspace/data_dst/*.png workspace/data_dst/\n",
        "! cp /content/tmp/workspace/data_dst/aligned/* workspace/data_dst/aligned/\n",
        "! cp /content/tmp/workspace/data_dst.mp4 /content/workspace/"
      ]
    },
    {
      "cell_type": "code",
      "execution_count": null,
      "metadata": {
        "id": "kS6aM5PbV2Nh",
        "cellView": "form"
      },
      "outputs": [],
      "source": [
        "A#@title 打包 data_dst 影格\n",
        "%cd /content/DeepFaceLab/\n",
        "!python main.py util --input-dir /content/workspace/data_dst/aligned  --pack-faceset"
      ]
    },
    {
      "cell_type": "markdown",
      "source": [
        "# 影像合併"
      ],
      "metadata": {
        "id": "EMH5Yaq9n592"
      }
    },
    {
      "cell_type": "code",
      "execution_count": null,
      "metadata": {
        "cellView": "form",
        "id": "Xb0nRCnNc2YM"
      },
      "outputs": [],
      "source": [
        "#@title 合併影格\n",
        "%cd /content/DeepFaceLab/\n",
        "model_path = '/content/drive/MyDrive/aidataset/deepfacelab/model_20220312/' #@param {type:\"string\"}\n",
        "cmd = f'python main.py merge --input-dir /content/workspace/data_dst --output-dir /content/workspace/data_dst/merged --output-mask-dir /content/workspace/data_dst/merged_mask --aligned-dir /content/workspace/data_dst/aligned --model-dir {model_path} --model SAEHD'\n",
        "! $cmd"
      ]
    },
    {
      "cell_type": "code",
      "execution_count": null,
      "metadata": {
        "id": "F-BMk0_IdkEi",
        "cellView": "form"
      },
      "outputs": [],
      "source": [
        "#@title 影片生成\n",
        "%cd /content/DeepFaceLab/\n",
        "output_mp4 = '/content/workspace/result17.mp4' #@param {type:\"string\"}\n",
        "cmd = f'python main.py videoed video-from-sequence --input-dir /content/workspace/data_dst/merged --output-file {output_mp4} --reference-file /content/workspace/data_dst.mp4 --include-audio'\n",
        "! $cmd"
      ]
    },
    {
      "cell_type": "code",
      "execution_count": null,
      "metadata": {
        "id": "02YsOSVUd7av",
        "cellView": "form"
      },
      "outputs": [],
      "source": [
        "#@title 將影片搬至Google Drive\n",
        "gd_path = '/content/drive/MyDrive/aidataset/' #@param {type:\"string\"}\n",
        "cmd = f'cp {output_mp4} {gd_path}'\n",
        "! $cmd"
      ]
    }
  ],
  "metadata": {
    "accelerator": "GPU",
    "colab": {
      "collapsed_sections": [],
      "name": "deepfacelab_replacement.ipynb",
      "provenance": [],
      "toc_visible": true
    },
    "kernelspec": {
      "display_name": "Python 3",
      "name": "python3"
    },
    "language_info": {
      "name": "python"
    }
  },
  "nbformat": 4,
  "nbformat_minor": 0
}