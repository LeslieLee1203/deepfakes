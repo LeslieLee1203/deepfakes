{
  "nbformat": 4,
  "nbformat_minor": 0,
  "metadata": {
    "colab": {
      "name": "df_detection_lstm_cnn_newvideo.ipynb",
      "provenance": [],
      "collapsed_sections": []
    },
    "kernelspec": {
      "name": "python3",
      "display_name": "Python 3"
    },
    "language_info": {
      "name": "python"
    },
    "accelerator": "GPU"
  },
  "cells": [
    {
      "cell_type": "markdown",
      "source": [
        "**data & label 資料位置**\n",
        "\n",
        "- https://drive.google.com/file/d/1a7IPxCNENdIj_UmU0qM-nl3-WRwkMa_6/view?usp=sharing\n",
        "- https://drive.google.com/file/d/1oNj8b-rnJiYcAKRKMxu4kGCow-mELTkG/view?usp=sharing\n"
      ],
      "metadata": {
        "id": "BGQj-SZRp8nk"
      }
    },
    {
      "cell_type": "code",
      "execution_count": 1,
      "metadata": {
        "colab": {
          "base_uri": "https://localhost:8080/"
        },
        "cellView": "form",
        "id": "y_Me6b2vmJBO",
        "outputId": "c5a77723-8929-4560-f83e-367d926552cb"
      },
      "outputs": [
        {
          "output_type": "stream",
          "name": "stdout",
          "text": [
            "Mounted at /content/drive\n"
          ]
        }
      ],
      "source": [
        "#@title Mount Google Drive\n",
        "from google.colab import drive\n",
        "drive.mount('/content/drive')"
      ]
    },
    {
      "cell_type": "code",
      "source": [
        "#@title 從Google Drive 匯入 data & label 資料\n",
        "train_data_path = '/content/drive/MyDrive/aidataset/lstm_40fpv_data.npy' #@param {type:\"string\"}\n",
        "train_label_path =  '/content/drive/MyDrive/aidataset/lstm_40fpv_labels.npy' #@param {type:\"string\"}\n",
        "cmd  = f'cp {train_data_path} ./lstm_data.npy'\n",
        "! $cmd\n",
        "cmd  = f'cp {train_label_path} ./lstm_labels.npy'\n",
        "! $cmd"
      ],
      "metadata": {
        "cellView": "form",
        "id": "bYd0OaCSm6QH"
      },
      "execution_count": 2,
      "outputs": []
    },
    {
      "cell_type": "code",
      "source": [
        "#@title 載入 rnn 模型函數\n",
        "def rnn_models(model_name, train_data):\n",
        "    main_input = Input(\n",
        "        shape=(train_data.shape[1],\n",
        "               train_data.shape[2]),\n",
        "        name=\"main_input\"\n",
        "    )   \n",
        "\n",
        "    if model_name == \"lstm\":\n",
        "        headModel = LSTM(32)(main_input)\n",
        "\n",
        "    elif model_name == \"bidirectional\":\n",
        "        headModel = Bidirectional(LSTM(256, return_sequences=True))(main_input)\n",
        "        headModel = LSTM(32)(headModel)\n",
        "\n",
        "    predictions = Dense(\n",
        "        2,\n",
        "        activation=\"softmax\",\n",
        "        kernel_initializer=\"he_uniform\"\n",
        "    )(headModel)\n",
        "    model = Model(inputs=main_input, outputs=predictions)\n",
        "\n",
        "    # Model compilation\n",
        "    # opt = SGD(lr=1e-4, momentum=0.9, decay=1e-4 / EPOCHS)\n",
        "    optimizer = Nadam(\n",
        "        lr=0.002, beta_1=0.9, beta_2=0.999, epsilon=1e-08, schedule_decay=0.004\n",
        "    )\n",
        "    model.compile(\n",
        "        loss=\"categorical_crossentropy\",\n",
        "        optimizer=optimizer,\n",
        "        metrics=[\"accuracy\"]\n",
        "    )\n",
        "\n",
        "    return model"
      ],
      "metadata": {
        "cellView": "form",
        "id": "hQj_g4IumcPO"
      },
      "execution_count": 23,
      "outputs": []
    },
    {
      "cell_type": "code",
      "source": [
        "#@title 建立 rnn 模型\n",
        "from tensorflow.keras.layers import GlobalAveragePooling2D\n",
        "from tensorflow.keras.layers import Dropout, Dense\n",
        "from keras.models import Model\n",
        "import numpy as np\n",
        "import imageio.core.util\n",
        "from PIL import Image\n",
        "import cv2\n",
        "from tensorflow.keras.optimizers import Nadam\n",
        "from tensorflow.keras.applications.xception import Xception\n",
        "from tensorflow.keras.applications.resnet50 import ResNet50\n",
        "from tensorflow.keras.applications.inception_v3 import InceptionV3\n",
        "from tensorflow.keras.applications.inception_resnet_v2 import InceptionResNetV2\n",
        "from tensorflow.keras.applications.nasnet import NASNetLarge\n",
        "from tensorflow.keras.layers import Input, LSTM, Bidirectional\n",
        "from random import shuffle\n",
        "from os import listdir\n",
        "import glob\n",
        "from os.path import join\n",
        "from tensorflow.keras import utils\n",
        "from sklearn.model_selection import train_test_split\n",
        "import tensorflow.compat.v1.keras.backend as K\n",
        "import tensorflow as tf\n",
        "tf.compat.v1.disable_eager_execution()\n",
        "# Training dataset loading\n",
        "train_data = np.load(\"lstm_data.npy\")\n",
        "train_label = np.load(\"lstm_labels.npy\")\n",
        "train_label = utils.to_categorical(train_label)\n",
        "print(\"Dataset Loaded...\")\n",
        "\n",
        "# Train validation split\n",
        "trainX, valX, trainY, valY = train_test_split(\n",
        "    train_data, train_label, shuffle=True, test_size=0.1\n",
        ")\n",
        "\n",
        "model_choice = 'lstm' #@param [\"lstm\", \"bidirectional\"]\n",
        "model = rnn_models(model_choice,train_data)\n",
        "\n",
        "trainable_count = int(\n",
        "    np.sum([K.count_params(p) for p in set(model.trainable_weights)])\n",
        ")\n",
        "non_trainable_count = int(\n",
        "    np.sum([K.count_params(p) for p in set(model.non_trainable_weights)])\n",
        ")\n",
        "\n",
        "# Number of trainable and non-trainable parameters\n",
        "print(\"Total params: {:,}\".format(trainable_count + non_trainable_count))\n",
        "print(\"Trainable params: {:,}\".format(trainable_count))\n",
        "print(\"Non-trainable params: {:,}\".format(non_trainable_count))\n",
        "\n"
      ],
      "metadata": {
        "colab": {
          "base_uri": "https://localhost:8080/"
        },
        "cellView": "form",
        "id": "AKEzAnbImjSU",
        "outputId": "713c4c57-9cc8-4154-ac28-9a8b433ec662"
      },
      "execution_count": 24,
      "outputs": [
        {
          "output_type": "stream",
          "name": "stdout",
          "text": [
            "Dataset Loaded...\n",
            "WARNING:tensorflow:Layer lstm_1 will not use cuDNN kernels since it doesn't meet the criteria. It will use a generic GPU kernel as fallback when running on GPU.\n",
            "Total params: 69,826\n",
            "Trainable params: 69,826\n",
            "Non-trainable params: 0\n"
          ]
        },
        {
          "output_type": "stream",
          "name": "stderr",
          "text": [
            "/usr/local/lib/python3.7/dist-packages/keras/optimizer_v2/nadam.py:73: UserWarning: The `lr` argument is deprecated, use `learning_rate` instead.\n",
            "  super(Nadam, self).__init__(name, **kwargs)\n"
          ]
        }
      ]
    },
    {
      "cell_type": "code",
      "source": [
        "model.summary()"
      ],
      "metadata": {
        "colab": {
          "base_uri": "https://localhost:8080/"
        },
        "id": "APMTaVVXFRsU",
        "outputId": "3ec46c05-ce23-478c-ce58-24edad65d9dd"
      },
      "execution_count": 25,
      "outputs": [
        {
          "output_type": "stream",
          "name": "stdout",
          "text": [
            "Model: \"model_11\"\n",
            "_________________________________________________________________\n",
            " Layer (type)                Output Shape              Param #   \n",
            "=================================================================\n",
            " main_input (InputLayer)     [(None, 25, 512)]         0         \n",
            "                                                                 \n",
            " lstm_1 (LSTM)               (None, 32)                69760     \n",
            "                                                                 \n",
            " dense_6 (Dense)             (None, 2)                 66        \n",
            "                                                                 \n",
            "=================================================================\n",
            "Total params: 69,826\n",
            "Trainable params: 69,826\n",
            "Non-trainable params: 0\n",
            "_________________________________________________________________\n"
          ]
        }
      ]
    },
    {
      "cell_type": "code",
      "source": [
        "#@title 模型訓練 \n",
        "epoch_num =  10 #@param {type:\"integer\"}\n",
        "H = model.fit(\n",
        "    trainX,\n",
        "    trainY,\n",
        "    validation_data=(valX, valY),\n",
        "    batch_size=32,\n",
        "    epochs=epoch_num,\n",
        "    shuffle=True\n",
        ")\n"
      ],
      "metadata": {
        "colab": {
          "base_uri": "https://localhost:8080/"
        },
        "id": "z_36bu3Kmtam",
        "outputId": "0e1116ca-fd58-4a11-b394-23cbe414c87a"
      },
      "execution_count": 26,
      "outputs": [
        {
          "output_type": "stream",
          "name": "stdout",
          "text": [
            "Train on 148 samples, validate on 17 samples\n",
            "Epoch 1/10\n",
            "128/148 [========================>.....] - ETA: 0s - loss: 0.3838 - accuracy: 0.7656"
          ]
        },
        {
          "output_type": "stream",
          "name": "stderr",
          "text": [
            "/usr/local/lib/python3.7/dist-packages/keras/engine/training_v1.py:2057: UserWarning: `Model.state_updates` will be removed in a future version. This property should not be used in TensorFlow 2.0, as `updates` are applied automatically.\n",
            "  updates = self.state_updates\n"
          ]
        },
        {
          "output_type": "stream",
          "name": "stdout",
          "text": [
            "\b\b\b\b\b\b\b\b\b\b\b\b\b\b\b\b\b\b\b\b\b\b\b\b\b\b\b\b\b\b\b\b\b\b\b\b\b\b\b\b\b\b\b\b\b\b\b\b\b\b\b\b\b\b\b\b\b\b\b\b\b\b\b\b\b\b\b\b\b\b\b\b\b\b\b\b\b\b\b\b\b\b\b\b\r148/148 [==============================] - 3s 19ms/sample - loss: 0.3404 - accuracy: 0.7973 - val_loss: 0.1042 - val_accuracy: 1.0000\n",
            "Epoch 2/10\n",
            "148/148 [==============================] - 0s 2ms/sample - loss: 0.0465 - accuracy: 1.0000 - val_loss: 0.0519 - val_accuracy: 1.0000\n",
            "Epoch 3/10\n",
            "148/148 [==============================] - 0s 2ms/sample - loss: 0.0209 - accuracy: 1.0000 - val_loss: 0.0290 - val_accuracy: 1.0000\n",
            "Epoch 4/10\n",
            "148/148 [==============================] - 0s 2ms/sample - loss: 0.0115 - accuracy: 1.0000 - val_loss: 0.0164 - val_accuracy: 1.0000\n",
            "Epoch 5/10\n",
            "148/148 [==============================] - 0s 2ms/sample - loss: 0.0071 - accuracy: 1.0000 - val_loss: 0.0095 - val_accuracy: 1.0000\n",
            "Epoch 6/10\n",
            "148/148 [==============================] - 0s 2ms/sample - loss: 0.0045 - accuracy: 1.0000 - val_loss: 0.0059 - val_accuracy: 1.0000\n",
            "Epoch 7/10\n",
            "148/148 [==============================] - 0s 2ms/sample - loss: 0.0033 - accuracy: 1.0000 - val_loss: 0.0042 - val_accuracy: 1.0000\n",
            "Epoch 8/10\n",
            "148/148 [==============================] - 0s 2ms/sample - loss: 0.0026 - accuracy: 1.0000 - val_loss: 0.0032 - val_accuracy: 1.0000\n",
            "Epoch 9/10\n",
            "148/148 [==============================] - 0s 2ms/sample - loss: 0.0021 - accuracy: 1.0000 - val_loss: 0.0026 - val_accuracy: 1.0000\n",
            "Epoch 10/10\n",
            "148/148 [==============================] - 0s 3ms/sample - loss: 0.0018 - accuracy: 1.0000 - val_loss: 0.0022 - val_accuracy: 1.0000\n"
          ]
        }
      ]
    },
    {
      "cell_type": "code",
      "source": [
        "#@title 繪製訓練損失與準確率變化\n",
        "from matplotlib import pyplot as plt\n",
        "plt.style.use(\"ggplot\")\n",
        "plt.figure()\n",
        "N = len(H.history[\"loss\"])\n",
        "plt.plot(np.arange(0, N), H.history[\"loss\"], label=\"train_loss\")\n",
        "plt.plot(np.arange(0, N), H.history[\"val_loss\"], label=\"val_loss\")\n",
        "plt.plot(np.arange(0, N), H.history[\"accuracy\"], label=\"train_acc\")\n",
        "plt.plot(np.arange(0, N), H.history[\"val_accuracy\"], label=\"val_acc\")\n",
        "plt.title(\"Training Loss and Accuracy\")\n",
        "plt.xlabel(\"Epoch #\")\n",
        "plt.ylabel(\"Loss/Accuracy\")\n",
        "plt.legend(loc=\"lower left\")"
      ],
      "metadata": {
        "colab": {
          "base_uri": "https://localhost:8080/",
          "height": 317
        },
        "cellView": "form",
        "id": "NPXD_cqZo-zx",
        "outputId": "6a6c29bc-1cee-4a12-d00d-929e6f098be0"
      },
      "execution_count": 7,
      "outputs": [
        {
          "output_type": "execute_result",
          "data": {
            "text/plain": [
              "<matplotlib.legend.Legend at 0x7fd9f642a750>"
            ]
          },
          "metadata": {},
          "execution_count": 7
        },
        {
          "output_type": "display_data",
          "data": {
            "text/plain": [
              "<Figure size 432x288 with 1 Axes>"
            ],
            "image/png": "[encoded data removed]"
          },
          "metadata": {}
        }
      ]
    },
    {
      "cell_type": "code",
      "source": [
        "#@title 安裝facenet_pytorch\n",
        "! pip install facenet_pytorch"
      ],
      "metadata": {
        "colab": {
          "base_uri": "https://localhost:8080/"
        },
        "cellView": "form",
        "id": "uWg7pdCfV1hE",
        "outputId": "67bece5b-b7e4-4a0e-a9ae-c7b34cf55f53"
      },
      "execution_count": 8,
      "outputs": [
        {
          "output_type": "stream",
          "name": "stdout",
          "text": [
            "Collecting facenet_pytorch\n",
            "  Downloading facenet_pytorch-2.5.2-py3-none-any.whl (1.9 MB)\n",
            "\u001b[K     |████████████████████████████████| 1.9 MB 5.2 MB/s \n",
            "\u001b[?25hRequirement already satisfied: numpy in /usr/local/lib/python3.7/dist-packages (from facenet_pytorch) (1.21.5)\n",
            "Requirement already satisfied: requests in /usr/local/lib/python3.7/dist-packages (from facenet_pytorch) (2.23.0)\n",
            "Requirement already satisfied: pillow in /usr/local/lib/python3.7/dist-packages (from facenet_pytorch) (7.1.2)\n",
            "Requirement already satisfied: torchvision in /usr/local/lib/python3.7/dist-packages (from facenet_pytorch) (0.11.1+cu111)\n",
            "Requirement already satisfied: urllib3!=1.25.0,!=1.25.1,<1.26,>=1.21.1 in /usr/local/lib/python3.7/dist-packages (from requests->facenet_pytorch) (1.24.3)\n",
            "Requirement already satisfied: chardet<4,>=3.0.2 in /usr/local/lib/python3.7/dist-packages (from requests->facenet_pytorch) (3.0.4)\n",
            "Requirement already satisfied: idna<3,>=2.5 in /usr/local/lib/python3.7/dist-packages (from requests->facenet_pytorch) (2.10)\n",
            "Requirement already satisfied: certifi>=2017.4.17 in /usr/local/lib/python3.7/dist-packages (from requests->facenet_pytorch) (2021.10.8)\n",
            "Requirement already satisfied: torch==1.10.0 in /usr/local/lib/python3.7/dist-packages (from torchvision->facenet_pytorch) (1.10.0+cu111)\n",
            "Requirement already satisfied: typing-extensions in /usr/local/lib/python3.7/dist-packages (from torch==1.10.0->torchvision->facenet_pytorch) (3.10.0.2)\n",
            "Installing collected packages: facenet-pytorch\n",
            "Successfully installed facenet-pytorch-2.5.2\n"
          ]
        }
      ]
    },
    {
      "cell_type": "code",
      "source": [
        "#@title 從Google Drive 匯入影片資料\n",
        "train_data_path = '/content/drive/MyDrive/aidataset/df_train.zip' #@param {type:\"string\"}\n",
        "cmd  = f'cp {train_data_path} ./df_train.zip'\n",
        "! $cmd\n",
        "! unzip df_train.zip"
      ],
      "metadata": {
        "colab": {
          "base_uri": "https://localhost:8080/"
        },
        "cellView": "form",
        "id": "gBILnsWVV-pZ",
        "outputId": "6f63a436-342a-419c-8874-6361b3b298dd"
      },
      "execution_count": 9,
      "outputs": [
        {
          "output_type": "stream",
          "name": "stdout",
          "text": [
            "Archive:  df_train.zip\n",
            "   creating: train/0/\n",
            "   creating: train/1/\n",
            "  inflating: train/0/id1_0002.mp4    \n",
            "  inflating: train/0/id3_0005.mp4    \n",
            "  inflating: train/0/id4_0007.mp4    \n",
            "  inflating: train/0/id4_0009.mp4    \n",
            "  inflating: train/0/id4_0008.mp4    \n",
            "  inflating: train/0/id0_0000.mp4    \n",
            "  inflating: train/0/id2_0004.mp4    \n",
            "  inflating: train/0/id3_0003.mp4    \n",
            "  inflating: train/0/id4_0005.mp4    \n",
            "  inflating: train/0/id1_0005.mp4    \n",
            "  inflating: train/0/id3_0000.mp4    \n",
            "  inflating: train/0/id2_0005.mp4    \n",
            "  inflating: train/0/id0_0009.mp4    \n",
            "  inflating: train/0/id3_0007.mp4    \n",
            "  inflating: train/0/id1_0003.mp4    \n",
            "  inflating: train/0/id4_0003.mp4    \n",
            "  inflating: train/0/id0_0006.mp4    \n",
            "  inflating: train/0/id3_0008.mp4    \n",
            "  inflating: train/0/id0_0002.mp4    \n",
            "  inflating: train/0/id1_0008.mp4    \n",
            "  inflating: train/0/id0_0003.mp4    \n",
            "  inflating: train/0/id3_0006.mp4    \n",
            "  inflating: train/0/id4_0000.mp4    \n",
            "  inflating: train/0/id3_0002.mp4    \n",
            "  inflating: train/0/id0_0007.mp4    \n",
            "  inflating: train/0/id4_0001.mp4    \n",
            "  inflating: train/0/id0_0001.mp4    \n",
            "  inflating: train/0/id1_0006.mp4    \n",
            "  inflating: train/0/id4_0002.mp4    \n",
            "  inflating: train/0/id4_0004.mp4    \n",
            "  inflating: train/0/id3_0004.mp4    \n",
            "  inflating: train/0/id0_0005.mp4    \n",
            "  inflating: train/0/id2_0008.mp4    \n",
            "  inflating: train/0/id3_0009.mp4    \n",
            "  inflating: train/0/id1_0007.mp4    \n",
            "  inflating: train/1/id4_id2_0007.mp4  \n",
            "  inflating: train/1/id0_id2_0006.mp4  \n",
            "  inflating: train/1/id4_id3_0000.mp4  \n",
            "  inflating: train/1/id4_id2_0008.mp4  \n",
            "  inflating: train/1/id2_id4_0001.mp4  \n",
            "  inflating: train/1/id2_id0_0000.mp4  \n",
            "  inflating: train/1/id4_id3_0005.mp4  \n",
            "  inflating: train/1/id0_id3_0000.mp4  \n",
            "  inflating: train/1/id3_id0_0008.mp4  \n",
            "  inflating: train/1/id4_id0_0003.mp4  \n",
            "  inflating: train/1/id4_id1_0002.mp4  \n",
            "  inflating: train/1/id3_id1_0006.mp4  \n",
            "  inflating: train/1/id4_id1_0006.mp4  \n",
            "  inflating: train/1/id2_id1_0003.mp4  \n",
            "  inflating: train/1/id4_id0_0009.mp4  \n",
            "  inflating: train/1/id2_id4_0009.mp4  \n",
            "  inflating: train/1/id1_id0_0004.mp4  \n",
            "  inflating: train/1/id0_id3_0004.mp4  \n",
            "  inflating: train/1/id1_id3_0002.mp4  \n",
            "  inflating: train/1/id3_id1_0003.mp4  \n",
            "  inflating: train/1/id4_id2_0006.mp4  \n",
            "  inflating: train/1/id1_id3_0009.mp4  \n",
            "  inflating: train/1/id3_id2_0001.mp4  \n",
            "  inflating: train/1/id0_id3_0005.mp4  \n",
            "  inflating: train/1/id3_id4_0006.mp4  \n",
            "  inflating: train/1/id0_id2_0007.mp4  \n",
            "  inflating: train/1/id2_id3_0005.mp4  \n",
            "  inflating: train/1/id3_id4_0001.mp4  \n",
            "  inflating: train/1/id2_id4_0008.mp4  \n",
            "  inflating: train/1/id0_id4_0000.mp4  \n",
            "  inflating: train/1/id1_id4_0007.mp4  \n",
            "  inflating: train/1/id0_id1_0003.mp4  \n",
            "  inflating: train/1/id4_id3_0002.mp4  \n",
            "  inflating: train/1/id3_id0_0004.mp4  \n",
            "  inflating: train/1/id3_id0_0007.mp4  \n",
            "  inflating: train/1/id2_id1_0001.mp4  \n",
            "  inflating: train/1/id2_id1_0002.mp4  \n",
            "  inflating: train/1/id2_id3_0006.mp4  \n",
            "  inflating: train/1/id2_id0_0004.mp4  \n",
            "  inflating: train/1/id0_id2_0009.mp4  \n",
            "  inflating: train/1/id4_id3_0004.mp4  \n",
            "  inflating: train/1/id1_id0_0007.mp4  \n",
            "  inflating: train/1/id1_id3_0005.mp4  \n",
            "  inflating: train/1/id0_id2_0008.mp4  \n",
            "  inflating: train/1/id3_id0_0006.mp4  \n",
            "  inflating: train/1/id4_id0_0006.mp4  \n",
            "  inflating: train/1/id2_id1_0007.mp4  \n",
            "  inflating: train/1/id1_id4_0003.mp4  \n",
            "  inflating: train/1/id0_id4_0009.mp4  \n",
            "  inflating: train/1/id1_id3_0007.mp4  \n",
            "  inflating: train/1/id4_id0_0005.mp4  \n",
            "  inflating: train/1/id3_id0_0003.mp4  \n",
            "  inflating: train/1/id0_id3_0009.mp4  \n",
            "  inflating: train/1/id4_id2_0001.mp4  \n",
            "  inflating: train/1/id3_id2_0006.mp4  \n",
            "  inflating: train/1/id3_id0_0002.mp4  \n",
            "  inflating: train/1/id1_id4_0009.mp4  \n",
            "  inflating: train/1/id0_id4_0006.mp4  \n",
            "  inflating: train/1/id0_id2_0004.mp4  \n",
            "  inflating: train/1/id3_id1_0009.mp4  \n",
            "  inflating: train/1/id1_id2_0003.mp4  \n",
            "  inflating: train/1/id3_id2_0000.mp4  \n",
            "  inflating: train/1/id0_id2_0001.mp4  \n",
            "  inflating: train/1/id2_id1_0008.mp4  \n",
            "  inflating: train/1/id0_id2_0002.mp4  \n",
            "  inflating: train/1/id0_id3_0003.mp4  \n",
            "  inflating: train/1/id4_id0_0004.mp4  \n",
            "  inflating: train/1/id0_id1_0002.mp4  \n",
            "  inflating: train/1/id4_id0_0007.mp4  \n",
            "  inflating: train/1/id1_id2_0004.mp4  \n",
            "  inflating: train/1/id1_id4_0001.mp4  \n",
            "  inflating: train/1/id4_id2_0009.mp4  \n",
            "  inflating: train/1/id1_id0_0000.mp4  \n",
            "  inflating: train/1/id0_id2_0005.mp4  \n",
            "  inflating: train/1/id3_id1_0002.mp4  \n",
            "  inflating: train/1/id1_id3_0000.mp4  \n",
            "  inflating: train/1/id0_id3_0006.mp4  \n",
            "  inflating: train/1/id4_id3_0001.mp4  \n",
            "  inflating: train/1/id4_id2_0002.mp4  \n",
            "  inflating: train/1/id2_id1_0004.mp4  \n",
            "  inflating: train/1/id0_id3_0001.mp4  \n",
            "  inflating: train/1/id2_id3_0000.mp4  \n",
            "  inflating: train/1/id4_id1_0007.mp4  \n",
            "  inflating: train/1/id3_id2_0003.mp4  \n",
            "  inflating: train/1/id1_id4_0006.mp4  \n",
            "  inflating: train/1/id0_id1_0005.mp4  \n",
            "  inflating: train/1/id0_id4_0001.mp4  \n",
            "  inflating: train/1/id1_id3_0001.mp4  \n",
            "  inflating: train/1/id4_id3_0008.mp4  \n",
            "  inflating: train/1/id4_id1_0008.mp4  \n",
            "  inflating: train/1/id4_id1_0001.mp4  \n",
            "  inflating: train/1/id2_id0_0007.mp4  \n",
            "  inflating: train/1/id4_id3_0006.mp4  \n",
            "  inflating: train/1/id1_id0_0002.mp4  \n",
            "  inflating: train/1/id2_id0_0003.mp4  \n",
            "  inflating: train/1/id3_id4_0003.mp4  \n",
            "  inflating: train/1/id0_id4_0002.mp4  \n",
            "  inflating: train/1/id0_id2_0000.mp4  \n",
            "  inflating: train/1/id4_id0_0000.mp4  \n",
            "  inflating: train/1/id3_id2_0004.mp4  \n",
            "  inflating: train/1/id1_id0_0005.mp4  \n",
            "  inflating: train/1/id0_id1_0001.mp4  \n",
            "  inflating: train/1/id2_id0_0006.mp4  \n",
            "  inflating: train/1/id0_id1_0007.mp4  \n",
            "  inflating: train/1/id2_id4_0002.mp4  \n",
            "  inflating: train/1/id1_id4_0005.mp4  \n",
            "  inflating: train/1/id4_id1_0004.mp4  \n",
            "  inflating: train/1/id4_id0_0001.mp4  \n",
            "  inflating: train/1/id2_id3_0003.mp4  \n",
            "  inflating: train/1/id2_id3_0001.mp4  \n",
            "  inflating: train/1/id4_id2_0005.mp4  \n",
            "  inflating: train/1/id3_id1_0005.mp4  \n",
            "  inflating: train/1/id2_id3_0004.mp4  \n",
            "  inflating: train/1/id4_id2_0003.mp4  \n",
            "  inflating: train/1/id4_id1_0005.mp4  \n",
            "  inflating: train/1/id3_id0_0005.mp4  \n",
            "  inflating: train/1/id0_id4_0003.mp4  \n",
            "  inflating: train/1/id2_id1_0000.mp4  \n",
            "  inflating: train/1/id4_id2_0004.mp4  \n",
            "  inflating: train/1/id3_id4_0008.mp4  \n",
            "  inflating: train/1/id0_id3_0002.mp4  \n",
            "  inflating: train/1/id1_id2_0002.mp4  \n",
            "  inflating: train/1/id1_id2_0009.mp4  \n",
            "  inflating: train/1/id2_id0_0009.mp4  \n",
            "  inflating: train/1/id1_id3_0003.mp4  \n",
            "  inflating: train/1/id1_id0_0003.mp4  \n",
            "  inflating: train/1/id1_id0_0009.mp4  \n",
            "  inflating: train/1/id0_id1_0009.mp4  \n",
            "  inflating: train/1/id4_id1_0003.mp4  \n",
            "  inflating: train/1/id3_id1_0004.mp4  \n"
          ]
        }
      ]
    },
    {
      "cell_type": "code",
      "source": [
        "#@title 將新影片放入newvideo\n",
        "! mkdir -p newvideo\n",
        "! cp /content/train/1/id0_id3_0003.mp4 newvideo/"
      ],
      "metadata": {
        "cellView": "form",
        "id": "ypg039bPWKIA"
      },
      "execution_count": 10,
      "outputs": []
    },
    {
      "cell_type": "code",
      "source": [
        "#@title 載入 CNN 模型\n",
        "from tensorflow.keras.preprocessing.image import ImageDataGenerator\n",
        "from tensorflow.keras.layers import GlobalAveragePooling2D\n",
        "from tensorflow.keras.layers import Dropout, Dense\n",
        "from tensorflow.keras.models import Model\n",
        "from tensorflow.keras.optimizers import Nadam\n",
        "from tensorflow.keras.callbacks import ModelCheckpoint, EarlyStopping\n",
        "from tensorflow.keras.callbacks import CSVLogger\n",
        "from sklearn.model_selection import train_test_split\n",
        "from tensorflow.keras.applications.xception import Xception\n",
        "from tensorflow.keras.applications.resnet50 import ResNet50\n",
        "from tensorflow.keras.applications.inception_v3 import InceptionV3\n",
        "from tensorflow.keras.applications.inception_resnet_v2 import InceptionResNetV2\n",
        "from tensorflow.keras.applications.nasnet import NASNetLarge\n",
        "from matplotlib import pyplot as plt\n",
        "from tensorflow.keras import backend as K\n",
        "import numpy as np\n",
        "import time\n",
        "import argparse\n",
        "from os.path import exists\n",
        "from os import makedirs\n",
        "import tensorflow.compat.v1.keras.backend as K\n",
        "import tensorflow as tf\n",
        "tf.compat.v1.disable_eager_execution()\n",
        "\n",
        "def cnn_model(model_name, img_size, weights):\n",
        "    \"\"\"\n",
        "    Model definition using Xception net architecture\n",
        "    \"\"\"\n",
        "    input_size = (img_size, img_size, 3)\n",
        "    if model_name == \"xception\":\n",
        "        baseModel = Xception(\n",
        "            weights=\"imagenet\",\n",
        "            include_top=False,\n",
        "            input_shape=(img_size, img_size, 3)\n",
        "        )\n",
        "    elif model_name == \"iv3\":\n",
        "        baseModel = InceptionV3(\n",
        "            weights=\"imagenet\",\n",
        "            include_top=False,\n",
        "            input_shape=(img_size, img_size, 3)\n",
        "        )\n",
        "    elif model_name == \"irv2\":\n",
        "        baseModel = InceptionResNetV2(\n",
        "            weights=\"imagenet\",\n",
        "            include_top=False,\n",
        "            input_shape=(img_size, img_size, 3)\n",
        "        )\n",
        "    elif model_name == \"resnet\":\n",
        "        baseModel = ResNet50(\n",
        "            weights=\"imagenet\",\n",
        "            include_top=False,\n",
        "            input_shape=(img_size, img_size, 3)\n",
        "        )\n",
        "\n",
        "\n",
        "    headModel = baseModel.output\n",
        "    headModel = GlobalAveragePooling2D()(headModel)\n",
        "    headModel = Dense(512, activation=\"relu\", kernel_initializer=\"he_uniform\", name=\"fc1\")(\n",
        "        headModel\n",
        "    )\n",
        "    headModel = Dropout(0.4)(headModel)\n",
        "\n",
        "    predictions = Dense(\n",
        "        2,\n",
        "        activation=\"softmax\",\n",
        "        kernel_initializer=\"he_uniform\")(\n",
        "        headModel\n",
        "    )\n",
        "    model = Model(inputs=baseModel.input, outputs=predictions)\n",
        "\n",
        "    model.load_weights(weights + \".hdf5\")\n",
        "    print(\"Weights loaded...\")\n",
        "    model_lstm = Model(\n",
        "        inputs=baseModel.input,\n",
        "        outputs=model.get_layer(\"fc1\").output\n",
        "    )\n",
        "\n",
        "    for layer in baseModel.layers:\n",
        "        layer.trainable = True\n",
        "\n",
        "    optimizer = Nadam(\n",
        "        lr=0.002, beta_1=0.9, beta_2=0.999, epsilon=1e-08, schedule_decay=0.004\n",
        "    )\n",
        "    model.compile(\n",
        "        loss=\"categorical_crossentropy\",\n",
        "        optimizer=optimizer,\n",
        "        metrics=[\"accuracy\"]\n",
        "    )\n",
        "    return model_lstm\n"
      ],
      "metadata": {
        "cellView": "form",
        "id": "MFQ_t5VlWoMR"
      },
      "execution_count": 12,
      "outputs": []
    },
    {
      "cell_type": "code",
      "source": [
        "#@title 從Google Drive 匯入CNN Weights資料\n",
        "train_data_path = '/content/drive/MyDrive/aidataset/cnn_weights.hdf5' #@param {type:\"string\"}\n",
        "cmd  = f'cp {train_data_path} ./cnn_weights.hdf5'\n",
        "! $cmd\n"
      ],
      "metadata": {
        "cellView": "form",
        "id": "MSfU1prXWz5o"
      },
      "execution_count": 13,
      "outputs": []
    },
    {
      "cell_type": "code",
      "source": [
        "#@title 取得新影片的lstm feature\n",
        "\n",
        "import cv2\n",
        "from PIL import Image\n",
        "#@title 利用CNN 擷取影片特徵\n",
        "from facenet_pytorch import MTCNN\n",
        "from os import listdir\n",
        "from os.path import join\n",
        "from glob import glob\n",
        "\n",
        "\n",
        "mtcnn = MTCNN(\n",
        "    margin=40,\n",
        "    select_largest=False,\n",
        "    post_process=False,\n",
        "    device=\"cuda:0\"\n",
        ")\n",
        "\n",
        "train_dir = \"newvideo/\"\n",
        "sub_directories = listdir(train_dir)\n",
        "\n",
        "videos = []\n",
        "videos += glob(join(train_dir, \"*.mp4\"))\n",
        "\n",
        "print(videos)\n",
        "model_choice = 'xception' #@param [\"xception\", \"iv3\", \"irv2\", \"resnet\"]\n",
        "# Loading model for feature extraction\n",
        "model2 = cnn_model(\n",
        "    model_name=model_choice,\n",
        "    img_size=160, \n",
        "    weights = 'cnn_weights'\n",
        ")\n",
        "features = []\n",
        "counter = 0\n",
        "labels = []\n",
        "\n",
        "for video in videos:\n",
        "    cap = cv2.VideoCapture(video)\n",
        "    #labels += [int(video.split(\"/\")[-2])]\n",
        "\n",
        "    batches = []\n",
        "\n",
        "    while cap.isOpened() and len(batches) < 25:\n",
        "        ret, frame = cap.read()\n",
        "        if not ret:\n",
        "            break\n",
        "\n",
        "        h, w, _ = frame.shape\n",
        "        if h >= 1080 and w >= 1920:\n",
        "            frame = cv2.resize(\n",
        "                frame,\n",
        "                (640, 480),\n",
        "                interpolation=cv2.INTER_AREA\n",
        "            )\n",
        "\n",
        "        frame = cv2.cvtColor(frame, cv2.COLOR_BGR2RGB)\n",
        "        frame = Image.fromarray(frame)\n",
        "        face = mtcnn(frame)\n",
        "\n",
        "        try:\n",
        "            face = face.permute(1, 2, 0).int().numpy()\n",
        "            batches.append(face)\n",
        "        except AttributeError:\n",
        "            print(\"Image Skipping\")\n",
        "\n",
        "    cap.release()\n",
        "    batches = np.array(batches).astype(\"float32\")\n",
        "    batches /= 255\n",
        "\n",
        "    # fc layer feature generation\n",
        "    predictions = model2.predict(batches)\n",
        "\n",
        "    features += [predictions]\n",
        "\n",
        "    if counter % 50 == 0:\n",
        "        print(\"Number of videos done:\", counter)\n",
        "    counter += 1\n",
        "\n",
        "features = np.array(features)\n"
      ],
      "metadata": {
        "colab": {
          "base_uri": "https://localhost:8080/"
        },
        "cellView": "form",
        "id": "4S6ymJu_Veja",
        "outputId": "2be879b7-19fd-4e99-8458-46d7690411e4"
      },
      "execution_count": 20,
      "outputs": [
        {
          "output_type": "stream",
          "name": "stdout",
          "text": [
            "['newvideo/id0_id3_0003.mp4']\n",
            "Weights loaded...\n"
          ]
        },
        {
          "output_type": "stream",
          "name": "stderr",
          "text": [
            "/usr/local/lib/python3.7/dist-packages/keras/optimizer_v2/nadam.py:73: UserWarning: The `lr` argument is deprecated, use `learning_rate` instead.\n",
            "  super(Nadam, self).__init__(name, **kwargs)\n",
            "/usr/local/lib/python3.7/dist-packages/keras/engine/training_v1.py:2079: UserWarning: `Model.state_updates` will be removed in a future version. This property should not be used in TensorFlow 2.0, as `updates` are applied automatically.\n",
            "  updates=self.state_updates,\n"
          ]
        },
        {
          "output_type": "stream",
          "name": "stdout",
          "text": [
            "Number of videos done: 0\n"
          ]
        }
      ]
    },
    {
      "cell_type": "code",
      "source": [
        "#@title 產生預測結果\n",
        "import numpy as np\n",
        "np.argmax(model.predict(features))"
      ],
      "metadata": {
        "colab": {
          "base_uri": "https://localhost:8080/"
        },
        "cellView": "form",
        "id": "1qCqQhUGW7Qx",
        "outputId": "a41dd660-9178-45a2-8aa2-920de8b21134"
      },
      "execution_count": 29,
      "outputs": [
        {
          "output_type": "execute_result",
          "data": {
            "text/plain": [
              "1"
            ]
          },
          "metadata": {},
          "execution_count": 29
        }
      ]
    },
    {
      "cell_type": "code",
      "source": [
        ""
      ],
      "metadata": {
        "id": "glFldHUEX3Ob"
      },
      "execution_count": null,
      "outputs": []
    }
  ]
}