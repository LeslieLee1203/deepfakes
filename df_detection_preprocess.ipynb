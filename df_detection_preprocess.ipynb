{
  "nbformat": 4,
  "nbformat_minor": 0,
  "metadata": {
    "colab": {
      "name": "20220326_df_detection_preprocess.ipynb",
      "provenance": [],
      "collapsed_sections": []
    },
    "kernelspec": {
      "name": "python3",
      "display_name": "Python 3"
    },
    "language_info": {
      "name": "python"
    },
    "accelerator": "GPU"
  },
  "cells": [
    {
      "cell_type": "markdown",
      "source": [
        "## CELEB-DF 資料集\n",
        "- https://drive.google.com/file/d/1SnCZ_DQTPxLs0ttOO9sPh2cA1fcFLLFE/view?usp=sharing\n",
        "\n",
        "篩選過後的資料\n",
        "- https://drive.google.com/file/d/1-9ngKHZ5QN2bb6kTRgKGNqjAguwSbtix/view?usp=sharing"
      ],
      "metadata": {
        "id": "VE27Qe2vhBDN"
      }
    },
    {
      "cell_type": "code",
      "source": [
        "#@title Mount Google Drive\n",
        "from google.colab import drive\n",
        "drive.mount('/content/drive')"
      ],
      "metadata": {
        "colab": {
          "base_uri": "https://localhost:8080/"
        },
        "cellView": "form",
        "id": "WrezHOODoX61",
        "outputId": "9f353290-4a6b-4d14-a5e0-89910bbc21a5"
      },
      "execution_count": null,
      "outputs": [
        {
          "output_type": "stream",
          "name": "stdout",
          "text": [
            "Drive already mounted at /content/drive; to attempt to forcibly remount, call drive.mount(\"/content/drive\", force_remount=True).\n"
          ]
        }
      ]
    },
    {
      "cell_type": "code",
      "source": [
        "#@title 從Google Drive 匯入影片資料\n",
        "train_data_path = '/content/drive/MyDrive/aidataset/df_train.zip' #@param {type:\"string\"}\n",
        "cmd  = f'cp {train_data_path} ./df_train.zip'\n",
        "! $cmd\n",
        "! unzip df_train.zip\n"
      ],
      "metadata": {
        "cellView": "form",
        "id": "P5UhelD3od-e"
      },
      "execution_count": null,
      "outputs": []
    },
    {
      "cell_type": "code",
      "source": [
        "#@title 從訓練影片切割影格 (Frame)\n",
        "import cv2\n",
        "from os import makedirs\n",
        "from os.path import join, exists\n",
        "import glob\n",
        "\n",
        "training_videos_folder = [\"train/0\",\"train/1\"]\n",
        "\n",
        "for folder in training_videos_folder:\n",
        "    videos_path = glob.glob(join(folder, \"*.mp4\"))\n",
        "    folder = folder.split(\"/\")[1]\n",
        "\n",
        "    counter = 0\n",
        "    for video_path in videos_path:\n",
        "        cap = cv2.VideoCapture(video_path)\n",
        "        vid = video_path.split(\"/\")[-1]\n",
        "        vid = vid.split(\".\")[0]\n",
        "        frameRate = cap.get(5)  # frame rate\n",
        "\n",
        "        if not exists(\"/content/train_frames/\" + folder + \"/video_\" + str(int(counter))):\n",
        "            makedirs(\"/content/train_frames/\" + folder + \"/video_\" + str(int(counter)))\n",
        "\n",
        "        while cap.isOpened():\n",
        "            frameId = cap.get(1)  # current frame number\n",
        "            ret, frame = cap.read()\n",
        "            if not ret:\n",
        "                break\n",
        "\n",
        "            filename = (\n",
        "                \"/content/train_frames/\"\n",
        "                + folder\n",
        "                + \"/video_\"\n",
        "                + str(int(counter))\n",
        "                + \"/image_\"\n",
        "                + str(int(frameId) + 1)\n",
        "                + \".jpg\"\n",
        "            )\n",
        "            cv2.imwrite(filename, frame)\n",
        "\n",
        "        cap.release()\n",
        "\n",
        "        if counter % 10 == 0:\n",
        "            print(\"Number of videos done:\", counter)\n",
        "        counter += 1"
      ],
      "metadata": {
        "cellView": "form",
        "id": "dwmFEG4P7V6D"
      },
      "execution_count": null,
      "outputs": []
    },
    {
      "cell_type": "code",
      "source": [
        "#@title 刪除多餘影格 (選擇性)\n",
        "\n",
        "vid_thresh = 100 #@param {type:\"integer\"}\n",
        "import os\n",
        "\n",
        "def delete_extra_frames(path):\n",
        "  for v in os.listdir(path):\n",
        "    for f in os.listdir(path + v):\n",
        "      vid = int(f.split('_')[1].strip('.jpg'))\n",
        "      if vid > vid_thresh:\n",
        "        os.remove(path + v + '/' + f)\n",
        "\n",
        "path = 'train_frames/0/'\n",
        "delete_extra_frames(path)\n",
        "\n",
        "path = 'train_frames/1/'\n",
        "delete_extra_frames(path)"
      ],
      "metadata": {
        "id": "eXQ5C1p4EvJm",
        "cellView": "form"
      },
      "execution_count": null,
      "outputs": []
    },
    {
      "cell_type": "code",
      "source": [
        "#@title 安裝 facenet_pytorch\n",
        "! pip install facenet_pytorch"
      ],
      "metadata": {
        "cellView": "form",
        "id": "PlTZkC1qAddN"
      },
      "execution_count": null,
      "outputs": []
    },
    {
      "cell_type": "code",
      "source": [
        "#@title 取得臉部資訊\n",
        "\n",
        "from facenet_pytorch import MTCNN\n",
        "import cv2\n",
        "from PIL import Image\n",
        "\n",
        "from os import listdir, makedirs\n",
        "import glob\n",
        "from os.path import join, exists\n",
        "from skimage.io import imsave\n",
        "import imageio.core.util\n",
        "\n",
        "import warnings\n",
        "warnings.filterwarnings(\"ignore\")\n",
        "\n",
        "def ignore_warnings(*args, **kwargs):\n",
        "    pass\n",
        "\n",
        "\n",
        "imageio.core.util._precision_warn = ignore_warnings\n",
        "\n",
        "\n",
        "mtcnn = MTCNN(\n",
        "    margin=40,\n",
        "    select_largest=False,\n",
        "    post_process=False,\n",
        "    device=\"cuda:0\"\n",
        ")\n",
        "\n",
        "\n",
        "\n",
        "\n",
        "def extractFaces(source_frames_folders,dest_faces_folder):\n",
        "  for i in source_frames_folders:\n",
        "      counter = 0\n",
        "      for j in listdir(i):\n",
        "          imgs = glob.glob(join(i, j, \"*.jpg\"))\n",
        "          if counter % 1000 == 0:\n",
        "              print(\"Number of videos done:\", counter)\n",
        "          if not exists(join(dest_faces_folder, j)):\n",
        "              makedirs(join(dest_faces_folder, j))\n",
        "          for k in imgs:\n",
        "              frame = cv2.imread(k)\n",
        "              frame = cv2.cvtColor(frame, cv2.COLOR_BGR2RGB)\n",
        "              frame = Image.fromarray(frame)\n",
        "              face = mtcnn(frame)\n",
        "\n",
        "              try:\n",
        "                  imsave(\n",
        "                      join(dest_faces_folder, j, k.split(\"/\")[-1]),\n",
        "                      face.permute(1, 2, 0).int().numpy(),\n",
        "                  )\n",
        "              except AttributeError:\n",
        "                  print(\"Image skipping\")\n",
        "          counter += 1\n",
        "\n",
        "source_frames_folders = [\"/content/train_frames/0/\"]\n",
        "dest_faces_folder = \"/content/train_face/0/\"\n",
        "extractFaces(source_frames_folders,dest_faces_folder)\n",
        "\n",
        "source_frames_folders = [\"/content/train_frames/1/\"]\n",
        "dest_faces_folder = \"/content/train_face/1/\"\n",
        "extractFaces(source_frames_folders,dest_faces_folder)"
      ],
      "metadata": {
        "cellView": "form",
        "id": "jcRYPxgYqs9x"
      },
      "execution_count": null,
      "outputs": []
    },
    {
      "cell_type": "code",
      "source": [
        "#@title 將臉部圖片資料壓縮成npy \n",
        "import cv2\n",
        "import argparse\n",
        "import numpy as np\n",
        "from keras.utils import np_utils\n",
        "import glob\n",
        "from os.path import join\n",
        "from os import listdir\n",
        "from random import shuffle\n",
        "\n",
        "\n",
        "train_path = [\"/content/train_face/1\", \"/content/train_face/0\"]\n",
        "\n",
        "list_1 = [join(train_path[0], x) for x in listdir(train_path[0])]\n",
        "list_0 = [join(train_path[1], x) for x in listdir(train_path[1])]\n",
        "\n",
        "c = 0\n",
        "img_size = 160\n",
        "frames_per_video = 25\n",
        "print(len(list_1), len(list_0))\n",
        "train_data = []\n",
        "train_label = []\n",
        "\n",
        "count = 0\n",
        "\n",
        "images = []\n",
        "labels = []\n",
        "\n",
        "counter = 0\n",
        "vid_list = list_0 + list_1\n",
        "print(vid_list)\n",
        "for x in vid_list:\n",
        "    img = glob.glob(join(x, \"*.jpg\"))\n",
        "    img.sort(key=lambda f: int(\"\".join(filter(str.isdigit, f))))\n",
        "    images += img[: frames_per_video]\n",
        "    label = [k.split(\"/\")[3] for k in img]\n",
        "\n",
        "    labels += label[: frames_per_video]\n",
        "\n",
        "    if counter % 1000 == 0:\n",
        "        print(\"Number of files done:\", counter)\n",
        "    counter += 1\n",
        "\n",
        "\n",
        "for j, k in zip(images, labels):\n",
        "\n",
        "    img = cv2.imread(j)\n",
        "    img = cv2.cvtColor(img, cv2.COLOR_BGR2RGB)\n",
        "    img = cv2.resize(\n",
        "        img, (img_size, img_size), interpolation=cv2.INTER_AREA\n",
        "    )\n",
        "    train_data.append(img)\n",
        "    train_label += [k]\n",
        "\n",
        "    if count % 10000 == 0:\n",
        "        print(\"Number of files done:\", count)\n",
        "    count += 1\n",
        "\n",
        "train_data = np.array(train_data)\n",
        "train_label = np.array(train_label)\n",
        "train_label = np_utils.to_categorical(train_label)\n",
        "print(train_data.shape, train_label.shape)\n",
        "\n",
        "np.save(\"train_data_\" + str(frames_per_video) + \"_c40.npy\", train_data)\n",
        "np.save(\"train_label_\" + str(frames_per_video) + \"_c40.npy\", train_label)\n"
      ],
      "metadata": {
        "id": "ElGuEpi2uMGb",
        "colab": {
          "base_uri": "https://localhost:8080/"
        },
        "outputId": "f841fa98-2150-4351-f610-576249684ea5",
        "cellView": "form"
      },
      "execution_count": null,
      "outputs": [
        {
          "output_type": "stream",
          "name": "stdout",
          "text": [
            "4 4\n",
            "['/content/train_face/0/video_4', '/content/train_face/0/video_3', '/content/train_face/0/video_2', '/content/train_face/0/video_1', '/content/train_face/1/video_4', '/content/train_face/1/video_3', '/content/train_face/1/video_2', '/content/train_face/1/video_1']\n",
            "Number of files done: 0\n",
            "Number of files done: 0\n",
            "(200, 160, 160, 3) (200, 2)\n"
          ]
        }
      ]
    },
    {
      "cell_type": "code",
      "source": [
        "#@title 將打包檔案搬回Google Drive\n",
        "dst_path = '/content/drive/MyDrive/aidataset/' #@param {type:\"string\"}\n",
        "cmd  = f'cp train_*.npy {dst_path}'\n",
        "! $cmd"
      ],
      "metadata": {
        "id": "6VB8RMpXQhOJ",
        "cellView": "form"
      },
      "execution_count": null,
      "outputs": []
    }
  ]
}