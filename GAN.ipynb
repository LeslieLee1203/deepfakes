{
  "nbformat": 4,
  "nbformat_minor": 0,
  "metadata": {
    "colab": {
      "name": "GAN.ipynb",
      "provenance": [],
      "collapsed_sections": []
    },
    "kernelspec": {
      "name": "python3",
      "display_name": "Python 3"
    },
    "language_info": {
      "name": "python"
    }
  },
  "cells": [
    {
      "cell_type": "code",
      "execution_count": 1,
      "metadata": {
        "colab": {
          "base_uri": "https://localhost:8080/"
        },
        "cellView": "form",
        "id": "ZIblCmImlFto",
        "outputId": "7a37b600-b1cd-44b0-9226-8047786951ff"
      },
      "outputs": [
        {
          "output_type": "stream",
          "name": "stdout",
          "text": [
            "Downloading data from https://storage.googleapis.com/tensorflow/tf-keras-datasets/mnist.npz\n",
            "11493376/11490434 [==============================] - 0s 0us/step\n",
            "11501568/11490434 [==============================] - 0s 0us/step\n"
          ]
        }
      ],
      "source": [
        "#@markdown 下載 mnist 資料集\n",
        "\n",
        "\n",
        "from tensorflow.keras.datasets import mnist\n",
        "from tensorflow.keras.layers import Input, Dense, Reshape, Flatten, Dropout\n",
        "from tensorflow.keras.layers import BatchNormalization, Activation, ZeroPadding2D\n",
        "from tensorflow.keras.layers import LeakyReLU\n",
        "from tensorflow.keras.layers import UpSampling2D, Conv2D\n",
        "from tensorflow.keras.models import Sequential, Model\n",
        "from tensorflow.keras.optimizers import Adam\n",
        "\n",
        "from tensorflow.keras.datasets import mnist\n",
        "(x_train, _ ), (x_test, _ ) = mnist.load_data()\n",
        "img_rows = 28\n",
        "img_cols = 28\n",
        "channels = 1\n",
        "\n",
        "img_shape = (img_rows, img_cols, channels)\n",
        "\n",
        "latent_dim = 100\n"
      ]
    },
    {
      "cell_type": "code",
      "source": [
        "#@markdown 建立 Discriminator\n",
        "def build_discriminator():\n",
        "    model = Sequential()\n",
        "\n",
        "    model.add(Flatten(input_shape=img_shape)) # (28,28,1)\n",
        "    model.add(Dense(512))\n",
        "    model.add(LeakyReLU(alpha=0.2))\n",
        "\n",
        "    model.add(Dense(256))\n",
        "    model.add(LeakyReLU(alpha=0.2))\n",
        "\n",
        "    model.add(Dense(1, activation='sigmoid'))\n",
        "    \n",
        "    model.summary()\n",
        "\n",
        "    img = Input(shape=img_shape)\n",
        "    validity = model(img)\n",
        "\n",
        "    return Model(img, validity)\n",
        "\n",
        "optimizer = Adam(0.0002, 0.5)\n",
        "discriminator = build_discriminator()\n",
        "discriminator.compile(loss='binary_crossentropy',\n",
        "    optimizer=optimizer,\n",
        "    metrics=['accuracy'])\n"
      ],
      "metadata": {
        "colab": {
          "base_uri": "https://localhost:8080/"
        },
        "cellView": "form",
        "id": "__9kGa-3lYIU",
        "outputId": "88ad272a-28da-49d8-db63-37ccf18620fd"
      },
      "execution_count": 2,
      "outputs": [
        {
          "output_type": "stream",
          "name": "stdout",
          "text": [
            "Model: \"sequential\"\n",
            "_________________________________________________________________\n",
            " Layer (type)                Output Shape              Param #   \n",
            "=================================================================\n",
            " flatten (Flatten)           (None, 784)               0         \n",
            "                                                                 \n",
            " dense (Dense)               (None, 512)               401920    \n",
            "                                                                 \n",
            " leaky_re_lu (LeakyReLU)     (None, 512)               0         \n",
            "                                                                 \n",
            " dense_1 (Dense)             (None, 256)               131328    \n",
            "                                                                 \n",
            " leaky_re_lu_1 (LeakyReLU)   (None, 256)               0         \n",
            "                                                                 \n",
            " dense_2 (Dense)             (None, 1)                 257       \n",
            "                                                                 \n",
            "=================================================================\n",
            "Total params: 533,505\n",
            "Trainable params: 533,505\n",
            "Non-trainable params: 0\n",
            "_________________________________________________________________\n"
          ]
        }
      ]
    },
    {
      "cell_type": "code",
      "source": [
        "#@markdown 建立 Generator\n",
        "import numpy as np\n",
        "def build_generator():\n",
        "\n",
        "    model = Sequential()\n",
        "\n",
        "    model.add(Dense(256, input_dim=latent_dim)) # Noise : 100 -> 256\n",
        "    model.add(LeakyReLU(alpha=0.2))\n",
        "    model.add(BatchNormalization())\n",
        "\n",
        "    model.add(Dense(512)) # 256 -> 512\n",
        "    model.add(LeakyReLU(alpha=0.2))\n",
        "    model.add(BatchNormalization())\n",
        "\n",
        "    model.add(Dense(1024)) # 512 -> 1024\n",
        "    model.add(LeakyReLU(alpha=0.2))\n",
        "    model.add(BatchNormalization())\n",
        "\n",
        "    model.add(Dense(np.prod(img_shape), activation='tanh')) # 1024 -> 784(28 * 28)\n",
        "    model.add(Reshape(img_shape))\n",
        "\n",
        "    model.summary()\n",
        "\n",
        "    noise = Input(shape=(latent_dim,))\n",
        "    img = model(noise)\n",
        "\n",
        "    return Model(noise, img)\n",
        "generator = build_generator()"
      ],
      "metadata": {
        "colab": {
          "base_uri": "https://localhost:8080/"
        },
        "cellView": "form",
        "id": "uN0Y3CsWr9Ll",
        "outputId": "a96fb072-7a46-4cbf-f22d-003f393af53d"
      },
      "execution_count": 3,
      "outputs": [
        {
          "output_type": "stream",
          "name": "stdout",
          "text": [
            "Model: \"sequential_1\"\n",
            "_________________________________________________________________\n",
            " Layer (type)                Output Shape              Param #   \n",
            "=================================================================\n",
            " dense_3 (Dense)             (None, 256)               25856     \n",
            "                                                                 \n",
            " leaky_re_lu_2 (LeakyReLU)   (None, 256)               0         \n",
            "                                                                 \n",
            " batch_normalization (BatchN  (None, 256)              1024      \n",
            " ormalization)                                                   \n",
            "                                                                 \n",
            " dense_4 (Dense)             (None, 512)               131584    \n",
            "                                                                 \n",
            " leaky_re_lu_3 (LeakyReLU)   (None, 512)               0         \n",
            "                                                                 \n",
            " batch_normalization_1 (Batc  (None, 512)              2048      \n",
            " hNormalization)                                                 \n",
            "                                                                 \n",
            " dense_5 (Dense)             (None, 1024)              525312    \n",
            "                                                                 \n",
            " leaky_re_lu_4 (LeakyReLU)   (None, 1024)              0         \n",
            "                                                                 \n",
            " batch_normalization_2 (Batc  (None, 1024)             4096      \n",
            " hNormalization)                                                 \n",
            "                                                                 \n",
            " dense_6 (Dense)             (None, 784)               803600    \n",
            "                                                                 \n",
            " reshape (Reshape)           (None, 28, 28, 1)         0         \n",
            "                                                                 \n",
            "=================================================================\n",
            "Total params: 1,493,520\n",
            "Trainable params: 1,489,936\n",
            "Non-trainable params: 3,584\n",
            "_________________________________________________________________\n"
          ]
        }
      ]
    },
    {
      "cell_type": "code",
      "source": [
        "#@markdown 合併模型\n",
        "z = Input(shape=(latent_dim,))\n",
        "img = generator(z)\n",
        "discriminator.trainable = False\n",
        "\n",
        "# The discriminator takes generated images as input and determines validity\n",
        "validity = discriminator(img)\n",
        "\n",
        "# The combined model  (stacked generator and discriminator)\n",
        "# Trains the generator to fool the discriminator\n",
        "combined = Model(z, validity)\n",
        "combined.compile(loss='binary_crossentropy', optimizer=optimizer)"
      ],
      "metadata": {
        "cellView": "form",
        "id": "cPoBZ4GcttZt"
      },
      "execution_count": 4,
      "outputs": []
    },
    {
      "cell_type": "code",
      "source": [
        "#@markdown 模型訓練 \n",
        "from matplotlib import pyplot as plt\n",
        "def sample_images(epoch):\n",
        "    r, c = 5, 5\n",
        "    noise = np.random.normal(0, 1, (r * c, latent_dim))\n",
        "    gen_imgs = generator.predict(noise)\n",
        "\n",
        "    # Rescale images 0 - 1\n",
        "    gen_imgs = 0.5 * gen_imgs + 0.5\n",
        "\n",
        "    fig, axs = plt.subplots(r, c)\n",
        "    cnt = 0\n",
        "    for i in range(r):\n",
        "        for j in range(c):\n",
        "            axs[i,j].imshow(gen_imgs[cnt, :,:,0], cmap='gray')\n",
        "            axs[i,j].axis('off')\n",
        "            cnt += 1\n",
        "    fig.savefig(\"/content/images/%d.png\" % epoch)\n",
        "    plt.close()\n",
        "\n",
        "\n",
        "def train(epochs, batch_size=128, sample_interval=50):\n",
        "\n",
        "    # Load the dataset\n",
        "    (X_train, _), (_, _) = mnist.load_data()\n",
        "\n",
        "    # Rescale -1 to 1\n",
        "    X_train = X_train / 127.5 - 1.\n",
        "    X_train = np.expand_dims(X_train, axis=3)\n",
        "\n",
        "    # Adversarial ground truths\n",
        "    valid = np.ones((batch_size, 1))\n",
        "    fake = np.zeros((batch_size, 1))\n",
        "\n",
        "    for epoch in range(epochs):\n",
        "\n",
        "        # ---------------------\n",
        "        #  Train Discriminator\n",
        "        # ---------------------\n",
        "\n",
        "        # Select a random batch of images\n",
        "        idx = np.random.randint(0, X_train.shape[0], batch_size)\n",
        "        imgs = X_train[idx]\n",
        "\n",
        "        noise = np.random.normal(0, 1, (batch_size, latent_dim))\n",
        "\n",
        "        # Generate a batch of new images\n",
        "        gen_imgs = generator.predict(noise)\n",
        "\n",
        "        # Train the discriminator\n",
        "        d_loss_real = discriminator.train_on_batch(imgs, valid)\n",
        "        d_loss_fake = discriminator.train_on_batch(gen_imgs, fake)\n",
        "        d_loss = 0.5 * np.add(d_loss_real, d_loss_fake)\n",
        "        # ---------------------\n",
        "        #  Train Generator\n",
        "        # ---------------------\n",
        "\n",
        "        noise = np.random.normal(0, 1, (batch_size, latent_dim))\n",
        "\n",
        "        # Train the generator (to have the discriminator label samples as valid)\n",
        "        g_loss = combined.train_on_batch(noise, valid)\n",
        "\n",
        "        # Plot the progress\n",
        "        print (\"%d [D loss: %f, acc.: %.2f%%] [G loss: %f]\" % (epoch, d_loss[0], 100*d_loss[1], g_loss))\n",
        "\n",
        "        # If at save interval => save generated image samples\n",
        "        if epoch % sample_interval == 0:\n",
        "            sample_images(epoch)\n",
        "\n",
        "! mkdir -p images\n",
        "train(100, batch_size=128, sample_interval=50)"
      ],
      "metadata": {
        "colab": {
          "base_uri": "https://localhost:8080/"
        },
        "cellView": "form",
        "id": "kVhkUg8csQSX",
        "outputId": "44f8216b-168b-4db3-95ea-b1e3c8db02d8"
      },
      "execution_count": 5,
      "outputs": [
        {
          "output_type": "stream",
          "name": "stdout",
          "text": [
            "0 [D loss: 1.009383, acc.: 33.59%] [G loss: 0.887120]\n",
            "1 [D loss: 0.392441, acc.: 98.05%] [G loss: 0.859231]\n",
            "2 [D loss: 0.285669, acc.: 100.00%] [G loss: 0.820460]\n",
            "3 [D loss: 0.243812, acc.: 100.00%] [G loss: 0.809079]\n",
            "4 [D loss: 0.211200, acc.: 100.00%] [G loss: 0.761193]\n",
            "5 [D loss: 0.194744, acc.: 100.00%] [G loss: 0.762207]\n",
            "6 [D loss: 0.175779, acc.: 100.00%] [G loss: 0.729167]\n",
            "7 [D loss: 0.163766, acc.: 100.00%] [G loss: 0.703949]\n",
            "8 [D loss: 0.158668, acc.: 100.00%] [G loss: 0.656743]\n",
            "9 [D loss: 0.156205, acc.: 100.00%] [G loss: 0.647856]\n",
            "10 [D loss: 0.156333, acc.: 100.00%] [G loss: 0.657652]\n",
            "11 [D loss: 0.144244, acc.: 100.00%] [G loss: 0.659602]\n",
            "12 [D loss: 0.145239, acc.: 100.00%] [G loss: 0.676754]\n",
            "13 [D loss: 0.152088, acc.: 100.00%] [G loss: 0.688408]\n",
            "14 [D loss: 0.163287, acc.: 100.00%] [G loss: 0.669074]\n",
            "15 [D loss: 0.161134, acc.: 100.00%] [G loss: 0.679616]\n",
            "16 [D loss: 0.158633, acc.: 100.00%] [G loss: 0.709030]\n",
            "17 [D loss: 0.163302, acc.: 100.00%] [G loss: 0.785543]\n",
            "18 [D loss: 0.167819, acc.: 100.00%] [G loss: 0.791101]\n",
            "19 [D loss: 0.183898, acc.: 100.00%] [G loss: 0.894562]\n",
            "20 [D loss: 0.190057, acc.: 100.00%] [G loss: 0.929481]\n",
            "21 [D loss: 0.198467, acc.: 99.61%] [G loss: 1.091846]\n",
            "22 [D loss: 0.186711, acc.: 100.00%] [G loss: 1.150786]\n",
            "23 [D loss: 0.178650, acc.: 100.00%] [G loss: 1.315584]\n",
            "24 [D loss: 0.188573, acc.: 100.00%] [G loss: 1.425366]\n",
            "25 [D loss: 0.186661, acc.: 99.22%] [G loss: 1.574747]\n",
            "26 [D loss: 0.175765, acc.: 100.00%] [G loss: 1.802750]\n",
            "27 [D loss: 0.154166, acc.: 100.00%] [G loss: 1.939670]\n",
            "28 [D loss: 0.157691, acc.: 99.61%] [G loss: 2.101183]\n",
            "29 [D loss: 0.138949, acc.: 100.00%] [G loss: 2.234797]\n",
            "30 [D loss: 0.125086, acc.: 100.00%] [G loss: 2.455165]\n",
            "31 [D loss: 0.115604, acc.: 100.00%] [G loss: 2.637285]\n",
            "32 [D loss: 0.115590, acc.: 100.00%] [G loss: 2.786135]\n",
            "33 [D loss: 0.103686, acc.: 100.00%] [G loss: 2.885735]\n",
            "34 [D loss: 0.087065, acc.: 100.00%] [G loss: 3.053484]\n",
            "35 [D loss: 0.083526, acc.: 100.00%] [G loss: 3.017823]\n",
            "36 [D loss: 0.080496, acc.: 100.00%] [G loss: 3.148950]\n",
            "37 [D loss: 0.073255, acc.: 100.00%] [G loss: 3.248695]\n",
            "38 [D loss: 0.079191, acc.: 100.00%] [G loss: 3.346641]\n",
            "39 [D loss: 0.072185, acc.: 100.00%] [G loss: 3.389529]\n",
            "40 [D loss: 0.078902, acc.: 100.00%] [G loss: 3.628042]\n",
            "41 [D loss: 0.069331, acc.: 100.00%] [G loss: 3.674903]\n",
            "42 [D loss: 0.067665, acc.: 100.00%] [G loss: 3.817246]\n",
            "43 [D loss: 0.062538, acc.: 100.00%] [G loss: 3.868783]\n",
            "44 [D loss: 0.067015, acc.: 100.00%] [G loss: 4.007446]\n",
            "45 [D loss: 0.065194, acc.: 100.00%] [G loss: 3.988596]\n",
            "46 [D loss: 0.056289, acc.: 100.00%] [G loss: 4.111331]\n",
            "47 [D loss: 0.060798, acc.: 100.00%] [G loss: 4.244195]\n",
            "48 [D loss: 0.055074, acc.: 100.00%] [G loss: 4.350631]\n",
            "49 [D loss: 0.052539, acc.: 100.00%] [G loss: 4.423959]\n",
            "50 [D loss: 0.058193, acc.: 100.00%] [G loss: 4.402503]\n",
            "51 [D loss: 0.060602, acc.: 100.00%] [G loss: 4.454278]\n",
            "52 [D loss: 0.045185, acc.: 100.00%] [G loss: 4.526000]\n",
            "53 [D loss: 0.043961, acc.: 100.00%] [G loss: 4.511291]\n",
            "54 [D loss: 0.043987, acc.: 100.00%] [G loss: 4.583640]\n",
            "55 [D loss: 0.046202, acc.: 100.00%] [G loss: 4.577715]\n",
            "56 [D loss: 0.050759, acc.: 100.00%] [G loss: 4.490069]\n",
            "57 [D loss: 0.037577, acc.: 100.00%] [G loss: 4.764622]\n",
            "58 [D loss: 0.048918, acc.: 100.00%] [G loss: 4.722415]\n",
            "59 [D loss: 0.034709, acc.: 100.00%] [G loss: 4.602636]\n",
            "60 [D loss: 0.038882, acc.: 100.00%] [G loss: 4.561621]\n",
            "61 [D loss: 0.036162, acc.: 100.00%] [G loss: 4.499005]\n",
            "62 [D loss: 0.038471, acc.: 100.00%] [G loss: 4.677569]\n",
            "63 [D loss: 0.040135, acc.: 100.00%] [G loss: 4.590671]\n",
            "64 [D loss: 0.029601, acc.: 100.00%] [G loss: 4.541763]\n",
            "65 [D loss: 0.035659, acc.: 100.00%] [G loss: 4.508812]\n",
            "66 [D loss: 0.040481, acc.: 99.61%] [G loss: 4.607744]\n",
            "67 [D loss: 0.047362, acc.: 99.61%] [G loss: 4.509446]\n",
            "68 [D loss: 0.035744, acc.: 99.61%] [G loss: 4.399751]\n",
            "69 [D loss: 0.031782, acc.: 100.00%] [G loss: 4.641773]\n",
            "70 [D loss: 0.043869, acc.: 100.00%] [G loss: 4.645220]\n",
            "71 [D loss: 0.052314, acc.: 99.22%] [G loss: 4.639367]\n",
            "72 [D loss: 0.037228, acc.: 100.00%] [G loss: 4.673237]\n",
            "73 [D loss: 0.034546, acc.: 100.00%] [G loss: 4.581277]\n",
            "74 [D loss: 0.065313, acc.: 98.83%] [G loss: 4.567281]\n",
            "75 [D loss: 0.036893, acc.: 100.00%] [G loss: 4.833173]\n",
            "76 [D loss: 0.053674, acc.: 99.22%] [G loss: 4.783473]\n",
            "77 [D loss: 0.103430, acc.: 95.70%] [G loss: 4.928946]\n",
            "78 [D loss: 0.048833, acc.: 99.61%] [G loss: 4.962330]\n",
            "79 [D loss: 0.063751, acc.: 99.22%] [G loss: 4.946784]\n",
            "80 [D loss: 0.065457, acc.: 98.44%] [G loss: 5.004997]\n",
            "81 [D loss: 0.074154, acc.: 97.66%] [G loss: 4.737493]\n",
            "82 [D loss: 0.059569, acc.: 98.05%] [G loss: 4.545405]\n",
            "83 [D loss: 0.074227, acc.: 98.44%] [G loss: 5.007738]\n",
            "84 [D loss: 0.302774, acc.: 87.50%] [G loss: 4.787840]\n",
            "85 [D loss: 0.052671, acc.: 98.05%] [G loss: 5.278128]\n",
            "86 [D loss: 0.122175, acc.: 94.92%] [G loss: 5.072871]\n",
            "87 [D loss: 0.060428, acc.: 98.05%] [G loss: 5.215719]\n",
            "88 [D loss: 0.116919, acc.: 94.53%] [G loss: 4.630475]\n",
            "89 [D loss: 0.085208, acc.: 95.70%] [G loss: 5.222166]\n",
            "90 [D loss: 0.055554, acc.: 98.83%] [G loss: 4.941651]\n",
            "91 [D loss: 0.257341, acc.: 88.28%] [G loss: 4.465153]\n",
            "92 [D loss: 0.041697, acc.: 99.22%] [G loss: 4.618326]\n",
            "93 [D loss: 0.099599, acc.: 96.48%] [G loss: 4.915468]\n",
            "94 [D loss: 0.230825, acc.: 89.45%] [G loss: 4.599046]\n",
            "95 [D loss: 0.063658, acc.: 98.44%] [G loss: 4.926876]\n",
            "96 [D loss: 0.277517, acc.: 89.06%] [G loss: 4.292838]\n",
            "97 [D loss: 0.055906, acc.: 98.83%] [G loss: 4.858289]\n",
            "98 [D loss: 0.134097, acc.: 95.31%] [G loss: 4.277342]\n",
            "99 [D loss: 0.094143, acc.: 96.48%] [G loss: 4.690325]\n"
          ]
        }
      ]
    },
    {
      "cell_type": "code",
      "source": [
        "#@markdown 隨機產生圖片\n",
        "n1 = np.random.normal(0, 1, (1, 100))\n",
        "gen_imgs = generator.predict(n1)\n",
        "gen_imgs = 0.5 * gen_imgs + 0.5\n",
        "plt.imshow(gen_imgs[0, :,:,0], cmap='gray')"
      ],
      "metadata": {
        "colab": {
          "base_uri": "https://localhost:8080/",
          "height": 283
        },
        "cellView": "form",
        "id": "ZB9_S27SsekE",
        "outputId": "0717aaca-adc6-4db2-96a6-3a36880e7c54"
      },
      "execution_count": 6,
      "outputs": [
        {
          "output_type": "execute_result",
          "data": {
            "text/plain": [
              "<matplotlib.image.AxesImage at 0x7fe55b8858d0>"
            ]
          },
          "metadata": {},
          "execution_count": 6
        },
        {
          "output_type": "display_data",
          "data": {
            "image/png": "[encoded data removed]",
            "text/plain": [
              "<Figure size 432x288 with 1 Axes>"
            ]
          },
          "metadata": {
            "needs_background": "light"
          }
        }
      ]
    }
  ]
}