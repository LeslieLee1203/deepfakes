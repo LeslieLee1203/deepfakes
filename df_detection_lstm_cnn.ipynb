{
  "nbformat": 4,
  "nbformat_minor": 0,
  "metadata": {
    "colab": {
      "name": "df_detection_lstm_cnn.ipynb",
      "provenance": [],
      "collapsed_sections": []
    },
    "kernelspec": {
      "name": "python3",
      "display_name": "Python 3"
    },
    "language_info": {
      "name": "python"
    }
  },
  "cells": [
    {
      "cell_type": "markdown",
      "source": [
        "**data & label 資料位置**\n",
        "\n",
        "- https://drive.google.com/file/d/1a7IPxCNENdIj_UmU0qM-nl3-WRwkMa_6/view?usp=sharing\n",
        "- https://drive.google.com/file/d/1oNj8b-rnJiYcAKRKMxu4kGCow-mELTkG/view?usp=sharing\n"
      ],
      "metadata": {
        "id": "BGQj-SZRp8nk"
      }
    },
    {
      "cell_type": "code",
      "execution_count": 1,
      "metadata": {
        "colab": {
          "base_uri": "https://localhost:8080/"
        },
        "cellView": "form",
        "id": "y_Me6b2vmJBO",
        "outputId": "2012901f-2b2c-4f0c-868e-687d245daa76"
      },
      "outputs": [
        {
          "output_type": "stream",
          "name": "stdout",
          "text": [
            "Mounted at /content/drive\n"
          ]
        }
      ],
      "source": [
        "#@title Mount Google Drive\n",
        "from google.colab import drive\n",
        "drive.mount('/content/drive')"
      ]
    },
    {
      "cell_type": "code",
      "source": [
        "#@title 從Google Drive 匯入 data & label 資料\n",
        "train_data_path = '/content/drive/MyDrive/aidataset/lstm_40fpv_data.npy' #@param {type:\"string\"}\n",
        "train_label_path =  '/content/drive/MyDrive/aidataset/lstm_40fpv_labels.npy' #@param {type:\"string\"}\n",
        "cmd  = f'cp {train_data_path} ./lstm_data.npy'\n",
        "! $cmd\n",
        "cmd  = f'cp {train_label_path} ./lstm_labels.npy'\n",
        "! $cmd"
      ],
      "metadata": {
        "cellView": "form",
        "id": "bYd0OaCSm6QH"
      },
      "execution_count": 2,
      "outputs": []
    },
    {
      "cell_type": "code",
      "source": [
        "#@title 載入 rnn 模型函數\n",
        "def rnn_models(model_name, train_data):\n",
        "    main_input = Input(\n",
        "        shape=(train_data.shape[1],\n",
        "               train_data.shape[2]),\n",
        "        name=\"main_input\"\n",
        "    )   \n",
        "\n",
        "    if model_name == \"lstm\":\n",
        "        headModel = LSTM(32)(main_input)\n",
        "\n",
        "    elif model_name == \"bidirectional\":\n",
        "        headModel = Bidirectional(LSTM(256, return_sequences=True))(main_input)\n",
        "        headModel = LSTM(32)(headModel)\n",
        "\n",
        "    predictions = Dense(\n",
        "        2,\n",
        "        activation=\"softmax\",\n",
        "        kernel_initializer=\"he_uniform\"\n",
        "    )(headModel)\n",
        "    model = Model(inputs=main_input, outputs=predictions)\n",
        "\n",
        "    # Model compilation\n",
        "    # opt = SGD(lr=1e-4, momentum=0.9, decay=1e-4 / EPOCHS)\n",
        "    optimizer = Nadam(\n",
        "        lr=0.002, beta_1=0.9, beta_2=0.999, epsilon=1e-08, schedule_decay=0.004\n",
        "    )\n",
        "    model.compile(\n",
        "        loss=\"categorical_crossentropy\",\n",
        "        optimizer=optimizer,\n",
        "        metrics=[\"accuracy\"]\n",
        "    )\n",
        "\n",
        "    return model"
      ],
      "metadata": {
        "cellView": "form",
        "id": "hQj_g4IumcPO"
      },
      "execution_count": 8,
      "outputs": []
    },
    {
      "cell_type": "code",
      "source": [
        "#@title 建立 rnn 模型\n",
        "from tensorflow.keras.layers import GlobalAveragePooling2D\n",
        "from tensorflow.keras.layers import Dropout, Dense\n",
        "from keras.models import Model\n",
        "import numpy as np\n",
        "import imageio.core.util\n",
        "from PIL import Image\n",
        "import cv2\n",
        "from tensorflow.keras.optimizers import Nadam\n",
        "from tensorflow.keras.applications.xception import Xception\n",
        "from tensorflow.keras.applications.resnet50 import ResNet50\n",
        "from tensorflow.keras.applications.inception_v3 import InceptionV3\n",
        "from tensorflow.keras.applications.inception_resnet_v2 import InceptionResNetV2\n",
        "from tensorflow.keras.applications.nasnet import NASNetLarge\n",
        "from tensorflow.keras.layers import Input, LSTM, Bidirectional\n",
        "from random import shuffle\n",
        "from os import listdir\n",
        "import glob\n",
        "from os.path import join\n",
        "from tensorflow.keras import utils\n",
        "from sklearn.model_selection import train_test_split\n",
        "import tensorflow.compat.v1.keras.backend as K\n",
        "import tensorflow as tf\n",
        "tf.compat.v1.disable_eager_execution()\n",
        "# Training dataset loading\n",
        "train_data = np.load(\"lstm_data.npy\")\n",
        "train_label = np.load(\"lstm_labels.npy\")\n",
        "train_label = utils.to_categorical(train_label)\n",
        "print(\"Dataset Loaded...\")\n",
        "\n",
        "# Train validation split\n",
        "trainX, valX, trainY, valY = train_test_split(\n",
        "    train_data, train_label, shuffle=True, test_size=0.1\n",
        ")\n",
        "\n",
        "model_choice = 'lstm' #@param [\"lstm\", \"bidirectional\"]\n",
        "model = rnn_models(model_choice,train_data)\n",
        "\n",
        "trainable_count = int(\n",
        "    np.sum([K.count_params(p) for p in set(model.trainable_weights)])\n",
        ")\n",
        "non_trainable_count = int(\n",
        "    np.sum([K.count_params(p) for p in set(model.non_trainable_weights)])\n",
        ")\n",
        "\n",
        "# Number of trainable and non-trainable parameters\n",
        "print(\"Total params: {:,}\".format(trainable_count + non_trainable_count))\n",
        "print(\"Trainable params: {:,}\".format(trainable_count))\n",
        "print(\"Non-trainable params: {:,}\".format(non_trainable_count))\n",
        "\n"
      ],
      "metadata": {
        "colab": {
          "base_uri": "https://localhost:8080/"
        },
        "cellView": "form",
        "id": "AKEzAnbImjSU",
        "outputId": "8fac1425-a12f-47a7-c5cd-2621e76a43c5"
      },
      "execution_count": 13,
      "outputs": [
        {
          "output_type": "stream",
          "name": "stdout",
          "text": [
            "Dataset Loaded...\n",
            "Total params: 69,826\n",
            "Trainable params: 69,826\n",
            "Non-trainable params: 0\n"
          ]
        },
        {
          "output_type": "stream",
          "name": "stderr",
          "text": [
            "/usr/local/lib/python3.7/dist-packages/keras/optimizer_v2/nadam.py:73: UserWarning: The `lr` argument is deprecated, use `learning_rate` instead.\n",
            "  super(Nadam, self).__init__(name, **kwargs)\n"
          ]
        }
      ]
    },
    {
      "cell_type": "code",
      "source": [
        "#@title 模型訓練 \n",
        "epoch_num =  10 #@param {type:\"integer\"}\n",
        "H = model.fit(\n",
        "    trainX,\n",
        "    trainY,\n",
        "    validation_data=(valX, valY),\n",
        "    batch_size=32,\n",
        "    epochs=epoch_num,\n",
        "    shuffle=True\n",
        ")\n"
      ],
      "metadata": {
        "colab": {
          "base_uri": "https://localhost:8080/"
        },
        "cellView": "form",
        "id": "z_36bu3Kmtam",
        "outputId": "6f84ea74-1b96-4606-cf43-a5e771bfd54d"
      },
      "execution_count": 15,
      "outputs": [
        {
          "output_type": "stream",
          "name": "stdout",
          "text": [
            "Train on 148 samples, validate on 17 samples\n",
            "148/148 [==============================] - 1s 4ms/sample - loss: 0.1905 - accuracy: 0.9459 - val_loss: 0.0662 - val_accuracy: 1.0000\n"
          ]
        },
        {
          "output_type": "stream",
          "name": "stderr",
          "text": [
            "/usr/local/lib/python3.7/dist-packages/keras/engine/training_v1.py:2057: UserWarning: `Model.state_updates` will be removed in a future version. This property should not be used in TensorFlow 2.0, as `updates` are applied automatically.\n",
            "  updates = self.state_updates\n"
          ]
        }
      ]
    },
    {
      "cell_type": "code",
      "source": [
        "#@title 繪製訓練損失與準確率變化\n",
        "from matplotlib import pyplot as plt\n",
        "plt.style.use(\"ggplot\")\n",
        "plt.figure()\n",
        "N = len(H.history[\"loss\"])\n",
        "plt.plot(np.arange(0, N), H.history[\"loss\"], label=\"train_loss\")\n",
        "plt.plot(np.arange(0, N), H.history[\"val_loss\"], label=\"val_loss\")\n",
        "plt.plot(np.arange(0, N), H.history[\"accuracy\"], label=\"train_acc\")\n",
        "plt.plot(np.arange(0, N), H.history[\"val_accuracy\"], label=\"val_acc\")\n",
        "plt.title(\"Training Loss and Accuracy\")\n",
        "plt.xlabel(\"Epoch #\")\n",
        "plt.ylabel(\"Loss/Accuracy\")\n",
        "plt.legend(loc=\"lower left\")"
      ],
      "metadata": {
        "colab": {
          "base_uri": "https://localhost:8080/",
          "height": 317
        },
        "cellView": "form",
        "id": "NPXD_cqZo-zx",
        "outputId": "4d0f191a-50f0-4a1c-fbd2-0b8b83480074"
      },
      "execution_count": 17,
      "outputs": [
        {
          "output_type": "execute_result",
          "data": {
            "text/plain": [
              "<matplotlib.legend.Legend at 0x7f698c13cc90>"
            ]
          },
          "metadata": {},
          "execution_count": 17
        },
        {
          "output_type": "display_data",
          "data": {
            "text/plain": [
              "<Figure size 432x288 with 1 Axes>"
            ],
            "image/png": "[encoded data removed]"
          },
          "metadata": {}
        }
      ]
    }
  ]
}