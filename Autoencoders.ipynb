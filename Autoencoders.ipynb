{
  "nbformat": 4,
  "nbformat_minor": 0,
  "metadata": {
    "colab": {
      "name": "Autoencoders.ipynb",
      "provenance": [],
      "collapsed_sections": []
    },
    "kernelspec": {
      "name": "python3",
      "display_name": "Python 3"
    },
    "language_info": {
      "name": "python"
    }
  },
  "cells": [
    {
      "cell_type": "code",
      "execution_count": 1,
      "metadata": {
        "colab": {
          "base_uri": "https://localhost:8080/",
          "height": 283
        },
        "cellView": "form",
        "id": "EXwKpF9sh1wY",
        "outputId": "76a0503f-36d8-4392-887a-9345b367ec04"
      },
      "outputs": [
        {
          "output_type": "execute_result",
          "data": {
            "text/plain": [
              "<matplotlib.image.AxesImage at 0x7fca89499150>"
            ]
          },
          "metadata": {},
          "execution_count": 1
        },
        {
          "output_type": "display_data",
          "data": {
            "image/png": "[encoded data removed]",
            "text/plain": [
              "<Figure size 432x288 with 1 Axes>"
            ]
          },
          "metadata": {
            "needs_background": "light"
          }
        }
      ],
      "source": [
        "#@markdown 載入MNIST資料\n",
        "from matplotlib import pyplot as plt\n",
        "from tensorflow.keras.datasets import mnist\n",
        "import numpy as np\n",
        "(x_train, _ ), (x_test, _ ) = mnist.load_data()\n",
        "plt.imshow(x_train[0])"
      ]
    },
    {
      "cell_type": "code",
      "source": [
        "#@markdown 資料前處理\n",
        "x_train = x_train.astype('float32') / 255.\n",
        "x_test = x_test.astype('float32') / 255.\n",
        "x_train = x_train.reshape((len(x_train), np.prod(x_train.shape[1:])))\n",
        "x_test = x_test.reshape((len(x_test), np.prod(x_test.shape[1:])))\n",
        "print(x_train.shape)\n",
        "print(x_test.shape)"
      ],
      "metadata": {
        "colab": {
          "base_uri": "https://localhost:8080/"
        },
        "cellView": "form",
        "id": "rWwVGqJqiAkQ",
        "outputId": "8f6d8ec9-18c3-4a52-f1bd-6f2d0e070611"
      },
      "execution_count": 2,
      "outputs": [
        {
          "output_type": "stream",
          "name": "stdout",
          "text": [
            "(60000, 784)\n",
            "(10000, 784)\n"
          ]
        }
      ]
    },
    {
      "cell_type": "code",
      "source": [
        "#@markdown 建立模型\n",
        "from tensorflow.keras.layers import Input, Dense\n",
        "from tensorflow.keras.models import Model, Sequential\n",
        "# Input : 784 -> Hidden: 32 -> Output:784\n",
        "\n",
        "# this is the size of our encoded representations\n",
        "encoding_dim = 32  # 32 floats -> compression of factor 24.5, assuming the input is 784 floats\n",
        "\n",
        "# this is our input placeholder\n",
        "input_img = Input(shape=(784,))\n",
        "\n",
        "# \"encoded\" is the encoded representation of the input\n",
        "encoded = Dense(encoding_dim, activation='relu')(input_img)\n",
        "\n",
        "# \"decoded\" is the lossy reconstruction of the input\n",
        "decoded = Dense(784, activation='sigmoid')(encoded)\n",
        "\n",
        "# this model maps an input to its reconstruction\n",
        "autoencoder = Model(input_img, decoded)\n",
        "autoencoder.summary()"
      ],
      "metadata": {
        "colab": {
          "base_uri": "https://localhost:8080/"
        },
        "cellView": "form",
        "id": "9WPPfuTmiD7N",
        "outputId": "bf7242b2-cc61-4e0b-d853-df457bc75333"
      },
      "execution_count": 3,
      "outputs": [
        {
          "output_type": "stream",
          "name": "stdout",
          "text": [
            "Model: \"model\"\n",
            "_________________________________________________________________\n",
            " Layer (type)                Output Shape              Param #   \n",
            "=================================================================\n",
            " input_1 (InputLayer)        [(None, 784)]             0         \n",
            "                                                                 \n",
            " dense (Dense)               (None, 32)                25120     \n",
            "                                                                 \n",
            " dense_1 (Dense)             (None, 784)               25872     \n",
            "                                                                 \n",
            "=================================================================\n",
            "Total params: 50,992\n",
            "Trainable params: 50,992\n",
            "Non-trainable params: 0\n",
            "_________________________________________________________________\n"
          ]
        }
      ]
    },
    {
      "cell_type": "code",
      "source": [
        "#@markdown 模型訓練\n",
        "autoencoder.compile(optimizer='adam', loss='binary_crossentropy')\n",
        "epoch_num = 5 #@param {type:\"integer\"}\n",
        "autoencoder.fit(x_train, x_train,\n",
        "                epochs=5, \n",
        "                batch_size=256,\n",
        "                shuffle=True,\n",
        "                validation_data=(x_test, x_test))"
      ],
      "metadata": {
        "colab": {
          "base_uri": "https://localhost:8080/"
        },
        "cellView": "form",
        "id": "rQs6HA_9iRMj",
        "outputId": "ced3a6ed-a708-48e6-e6a7-2edb277b5632"
      },
      "execution_count": 4,
      "outputs": [
        {
          "output_type": "stream",
          "name": "stdout",
          "text": [
            "Epoch 1/5\n",
            "235/235 [==============================] - 2s 8ms/step - loss: 0.2752 - val_loss: 0.1878\n",
            "Epoch 2/5\n",
            "235/235 [==============================] - 2s 8ms/step - loss: 0.1683 - val_loss: 0.1514\n",
            "Epoch 3/5\n",
            "235/235 [==============================] - 2s 9ms/step - loss: 0.1423 - val_loss: 0.1326\n",
            "Epoch 4/5\n",
            "235/235 [==============================] - 2s 8ms/step - loss: 0.1275 - val_loss: 0.1202\n",
            "Epoch 5/5\n",
            "235/235 [==============================] - 2s 8ms/step - loss: 0.1173 - val_loss: 0.1117\n"
          ]
        },
        {
          "output_type": "execute_result",
          "data": {
            "text/plain": [
              "<keras.callbacks.History at 0x7fca84e85210>"
            ]
          },
          "metadata": {},
          "execution_count": 4
        }
      ]
    },
    {
      "cell_type": "code",
      "source": [
        "#@markdown 用 Encoder 編碼資料\n",
        "encoder = Model(input_img, encoded)\n",
        "encoded_imgs = encoder.predict(x_test)\n",
        "print('Encoded DIM')\n",
        "print(encoded_imgs.shape)\n",
        "\n",
        "print('Latent Space')\n",
        "print(encoded_imgs)"
      ],
      "metadata": {
        "colab": {
          "base_uri": "https://localhost:8080/"
        },
        "cellView": "form",
        "id": "rzypZWDFiXgd",
        "outputId": "d160c124-cecc-4df5-d14e-f31a691688f3"
      },
      "execution_count": 5,
      "outputs": [
        {
          "output_type": "stream",
          "name": "stdout",
          "text": [
            "Encoded DIM\n",
            "(10000, 32)\n",
            "Latent Space\n",
            "[[ 0.8934294   6.0563774   6.320306   ...  0.          4.1146936\n",
            "   0.        ]\n",
            " [ 3.6232228   0.          0.8345348  ...  0.33812153  0.94854176\n",
            "   8.375474  ]\n",
            " [ 2.3738909   2.7190158   3.1275165  ...  3.9966576   3.0679765\n",
            "  10.639654  ]\n",
            " ...\n",
            " [ 8.015554   11.365533    3.8028724  ...  8.649272    5.830124\n",
            "   1.8988221 ]\n",
            " [ 3.9036915   7.820105    0.9788401  ...  5.332766    5.593743\n",
            "   7.069437  ]\n",
            " [10.235194    1.9870279   6.7421126  ... 11.620244   13.845741\n",
            "   5.1899605 ]]\n"
          ]
        }
      ]
    },
    {
      "cell_type": "code",
      "source": [
        "#@markdown 用Decoder 還原資料\n",
        "encoded_input = Input(shape=(encoding_dim,))\n",
        "decoder_layer = autoencoder.layers[-1]\n",
        "decoder = Model(encoded_input, decoder_layer(encoded_input))\n",
        "decoded_imgs = decoder.predict(encoded_imgs)\n",
        "print('Decoded DIM')\n",
        "print(decoded_imgs.shape)"
      ],
      "metadata": {
        "colab": {
          "base_uri": "https://localhost:8080/"
        },
        "cellView": "form",
        "id": "hz0ZeMrqislo",
        "outputId": "29fc420f-987a-43f4-87a8-a75c99ddceb5"
      },
      "execution_count": 6,
      "outputs": [
        {
          "output_type": "stream",
          "name": "stdout",
          "text": [
            "Decoded DIM\n",
            "(10000, 784)\n"
          ]
        }
      ]
    },
    {
      "cell_type": "code",
      "source": [
        "#@markdown 顯現還原結果\n",
        "\n",
        "import matplotlib.pyplot as plt\n",
        "\n",
        "n = 10  # how many digits we will display\n",
        "plt.figure(figsize=(20, 4))\n",
        "for i in range(n):\n",
        "  \n",
        "    # display original\n",
        "    ax = plt.subplot(2, n, i + 1)\n",
        "    plt.imshow(x_test[i].reshape(28, 28))\n",
        "    plt.gray()\n",
        "    ax.get_xaxis().set_visible(False)\n",
        "    ax.get_yaxis().set_visible(False)\n",
        "\n",
        "    # display reconstruction\n",
        "    ax = plt.subplot(2, n, i + 1 + n)\n",
        "    plt.imshow(decoded_imgs[i].reshape(28, 28))\n",
        "    plt.gray()\n",
        "    ax.get_xaxis().set_visible(False)\n",
        "    ax.get_yaxis().set_visible(False)\n",
        "plt.show()"
      ],
      "metadata": {
        "colab": {
          "base_uri": "https://localhost:8080/",
          "height": 248
        },
        "cellView": "form",
        "id": "Kvx0eXdgjAwq",
        "outputId": "7e80cfdd-7b05-49c2-c9ca-d4318d44d81b"
      },
      "execution_count": 7,
      "outputs": [
        {
          "output_type": "display_data",
          "data": {
            "image/png": "[encoded data removed]",
            "text/plain": [
              "<Figure size 1440x288 with 20 Axes>"
            ]
          },
          "metadata": {
            "needs_background": "light"
          }
        }
      ]
    },
    {
      "cell_type": "code",
      "source": [
        ""
      ],
      "metadata": {
        "id": "lgaZINR-jx-U"
      },
      "execution_count": null,
      "outputs": []
    }
  ]
}