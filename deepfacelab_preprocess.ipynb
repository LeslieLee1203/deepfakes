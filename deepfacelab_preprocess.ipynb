{
  "nbformat": 4,
  "nbformat_minor": 0,
  "metadata": {
    "colab": {
      "name": "deepfacelab_preprocess.ipynb",
      "provenance": [],
      "collapsed_sections": []
    },
    "kernelspec": {
      "name": "python3",
      "display_name": "Python 3"
    },
    "language_info": {
      "name": "python"
    },
    "accelerator": "GPU"
  },
  "cells": [
    {
      "cell_type": "code",
      "source": [
        "#@title 檢視 GPU\n",
        "! nvidia-smi"
      ],
      "metadata": {
        "colab": {
          "base_uri": "https://localhost:8080/"
        },
        "cellView": "form",
        "id": "sdJ7nZcubQDf",
        "outputId": "38e9df52-68b8-4b52-c259-bfd9734888b5"
      },
      "execution_count": 1,
      "outputs": [
        {
          "output_type": "stream",
          "name": "stdout",
          "text": [
            "Fri Mar 11 14:37:29 2022       \n",
            "+-----------------------------------------------------------------------------+\n",
            "| NVIDIA-SMI 460.32.03    Driver Version: 460.32.03    CUDA Version: 11.2     |\n",
            "|-------------------------------+----------------------+----------------------+\n",
            "| GPU  Name        Persistence-M| Bus-Id        Disp.A | Volatile Uncorr. ECC |\n",
            "| Fan  Temp  Perf  Pwr:Usage/Cap|         Memory-Usage | GPU-Util  Compute M. |\n",
            "|                               |                      |               MIG M. |\n",
            "|===============================+======================+======================|\n",
            "|   0  Tesla T4            Off  | 00000000:00:04.0 Off |                    0 |\n",
            "| N/A   36C    P8     9W /  70W |      0MiB / 15109MiB |      0%      Default |\n",
            "|                               |                      |                  N/A |\n",
            "+-------------------------------+----------------------+----------------------+\n",
            "                                                                               \n",
            "+-----------------------------------------------------------------------------+\n",
            "| Processes:                                                                  |\n",
            "|  GPU   GI   CI        PID   Type   Process name                  GPU Memory |\n",
            "|        ID   ID                                                   Usage      |\n",
            "|=============================================================================|\n",
            "|  No running processes found                                                 |\n",
            "+-----------------------------------------------------------------------------+\n"
          ]
        }
      ]
    },
    {
      "cell_type": "code",
      "execution_count": 2,
      "metadata": {
        "colab": {
          "base_uri": "https://localhost:8080/"
        },
        "cellView": "form",
        "id": "QNtYV2KjZ_DS",
        "outputId": "649b8fd7-b5a9-478e-b377-21c1ba25dfe7"
      },
      "outputs": [
        {
          "output_type": "stream",
          "name": "stdout",
          "text": [
            "Collecting colorama\n",
            "  Downloading colorama-0.4.4-py2.py3-none-any.whl (16 kB)\n",
            "Installing collected packages: colorama\n",
            "Successfully installed colorama-0.4.4\n",
            "Collecting ffmpeg-python\n",
            "  Downloading ffmpeg_python-0.2.0-py3-none-any.whl (25 kB)\n",
            "Requirement already satisfied: future in /usr/local/lib/python3.7/dist-packages (from ffmpeg-python) (0.16.0)\n",
            "Installing collected packages: ffmpeg-python\n",
            "Successfully installed ffmpeg-python-0.2.0\n"
          ]
        }
      ],
      "source": [
        "#@title 安裝 colorama, ffmpeg\n",
        "\n",
        "! pip install colorama\n",
        "! pip install ffmpeg-python"
      ]
    },
    {
      "cell_type": "code",
      "source": [
        "#@title 安裝 DeepFaceLab\n",
        "!git clone https://github.com/iperov/DeepFaceLab.git"
      ],
      "metadata": {
        "cellView": "form",
        "colab": {
          "base_uri": "https://localhost:8080/"
        },
        "id": "g-0BaNcladl4",
        "outputId": "bbe86fad-f99d-45ca-ed6f-3ef63dda666e"
      },
      "execution_count": 3,
      "outputs": [
        {
          "output_type": "stream",
          "name": "stdout",
          "text": [
            "Cloning into 'DeepFaceLab'...\n",
            "remote: Enumerating objects: 8010, done.\u001b[K\n",
            "remote: Counting objects: 100% (259/259), done.\u001b[K\n",
            "remote: Compressing objects: 100% (139/139), done.\u001b[K\n",
            "remote: Total 8010 (delta 146), reused 179 (delta 118), pack-reused 7751\u001b[K\n",
            "Receiving objects: 100% (8010/8010), 823.27 MiB | 38.65 MiB/s, done.\n",
            "Resolving deltas: 100% (5143/5143), done.\n",
            "Checking out files: 100% (211/211), done.\n"
          ]
        }
      ]
    },
    {
      "cell_type": "code",
      "source": [
        "#@title 建立 workspace\n",
        "!mkdir -p /content/workspace; mkdir -p /content/workspace/data_src; mkdir -p /content/workspace/data_src/aligned; mkdir -p /content/workspace/data_dst; mkdir -p /content/workspace/data_dst/aligned; mkdir -p /content/workspace/model  \n",
        "! ls workspace"
      ],
      "metadata": {
        "colab": {
          "base_uri": "https://localhost:8080/"
        },
        "cellView": "form",
        "id": "5SYrZBoVabzN",
        "outputId": "2bafdfb6-4a53-4739-f572-2ba9aa2c7c3f"
      },
      "execution_count": 4,
      "outputs": [
        {
          "output_type": "stream",
          "name": "stdout",
          "text": [
            "data_dst  data_src  model\n"
          ]
        }
      ]
    },
    {
      "cell_type": "code",
      "source": [
        "#@title Mount Google Drive\n",
        "from google.colab import drive\n",
        "drive.mount('/content/drive')"
      ],
      "metadata": {
        "colab": {
          "base_uri": "https://localhost:8080/"
        },
        "cellView": "form",
        "id": "KwlV62qxcY4v",
        "outputId": "1e37258c-0a8f-4d8b-91bd-1e814ff44a1d"
      },
      "execution_count": 5,
      "outputs": [
        {
          "output_type": "stream",
          "name": "stdout",
          "text": [
            "Mounted at /content/drive\n"
          ]
        }
      ]
    },
    {
      "cell_type": "code",
      "source": [
        "#@title 用youtube-dl下載影片\n",
        "! curl -L https://yt-dl.org/downloads/latest/youtube-dl -o /usr/local/bin/youtube-dl\n",
        "! chmod a+rx /usr/local/bin/youtube-dl\n",
        "src_youtube = 'https://www.youtube.com/watch?v=EKS6mfLtR2s' #@param {type:\"string\"}\n",
        "dst_youtube = 'https://www.youtube.com/watch?v=LnKlifb_dQ0'#@param {type:\"string\"}\n",
        "src_yt_cmd =  f'youtube-dl -f mp4 {src_youtube}  --output /content/workspace/data_src.mp4'\n",
        "dst_yt_cmd =  f'youtube-dl -f mp4 {dst_youtube}  --output /content/workspace/data_dst.mp4'\n",
        "! $src_yt_cmd\n",
        "! $dst_yt_cmd"
      ],
      "metadata": {
        "colab": {
          "base_uri": "https://localhost:8080/"
        },
        "cellView": "form",
        "id": "T1ba45T7dvzC",
        "outputId": "d3370d1f-b945-4cfb-e2fe-72ad25108d1c"
      },
      "execution_count": null,
      "outputs": [
        {
          "output_type": "stream",
          "name": "stdout",
          "text": [
            "  % Total    % Received % Xferd  Average Speed   Time    Time     Time  Current\n",
            "                                 Dload  Upload   Total   Spent    Left  Speed\n",
            "\r  0     0    0     0    0     0      0      0 --:--:-- --:--:-- --:--:--     0\r100     3  100     3    0     0     44      0 --:--:-- --:--:-- --:--:--    44\n",
            "\r100     3  100     3    0     0     38      0 --:--:-- --:--:-- --:--:--    38\n",
            "100   645  100   645    0     0   5466      0 --:--:-- --:--:-- --:--:--  5466\n",
            "100 1794k  100 1794k    0     0  5789k      0 --:--:-- --:--:-- --:--:-- 30.9M\n",
            "[youtube] EKS6mfLtR2s: Downloading webpage\n",
            "[download] Destination: /content/workspace/data_src.mp4\n",
            "\u001b[K[download]   0.4% of 61.07MiB at 48.91KiB/s ETA 21:13\n",
            "ERROR: Interrupted by user\n"
          ]
        }
      ]
    },
    {
      "cell_type": "code",
      "source": [
        "#@title 從 Google Drive 複製影片到workspace\n",
        "\n",
        "src_mp4 = '/content/drive/MyDrive/aidataset/deepfacelab/data_src.mp4' #@param {type:\"string\"}\n",
        "dst_mp4 = '/content/drive/MyDrive/aidataset/deepfacelab/data_dst.mp4' #@param {type:\"string\"}\n",
        "src_cmd=f\"cp {src_mp4} /content/workspace/data_src.mp4\"  \n",
        "dst_cmd=f\"cp {dst_mp4} /content/workspace/data_dst.mp4\" \n",
        "! $src_cmd\n",
        "! $dst_cmd"
      ],
      "metadata": {
        "cellView": "form",
        "id": "rZ-nZgA5a_VK"
      },
      "execution_count": 6,
      "outputs": []
    },
    {
      "cell_type": "code",
      "source": [
        "#@title 防止 Google Colab 斷開連線\n",
        "\n",
        "import IPython\n",
        "from google.colab import output\n",
        "\n",
        "display(IPython.display.Javascript('''\n",
        " function ClickConnect(){\n",
        "   btn = document.querySelector(\"colab-connect-button\")\n",
        "   if (btn != null){\n",
        "     console.log(\"Click colab-connect-button\"); \n",
        "     btn.click() \n",
        "     }\n",
        "   \n",
        "   btn = document.getElementById('ok')\n",
        "   if (btn != null){\n",
        "     console.log(\"Click reconnect\"); \n",
        "     btn.click() \n",
        "     }\n",
        "  }\n",
        "  \n",
        "setInterval(ClickConnect,60000)\n",
        "'''))\n",
        "\n",
        "print(\"Done.\")"
      ],
      "metadata": {
        "colab": {
          "base_uri": "https://localhost:8080/",
          "height": 35
        },
        "cellView": "form",
        "id": "7HbURJTmgM1t",
        "outputId": "e985359f-3bcf-4adb-f7c1-7402788e87a5"
      },
      "execution_count": 9,
      "outputs": [
        {
          "output_type": "display_data",
          "data": {
            "application/javascript": [
              "\n",
              " function ClickConnect(){\n",
              "   btn = document.querySelector(\"colab-connect-button\")\n",
              "   if (btn != null){\n",
              "     console.log(\"Click colab-connect-button\"); \n",
              "     btn.click() \n",
              "     }\n",
              "   \n",
              "   btn = document.getElementById('ok')\n",
              "   if (btn != null){\n",
              "     console.log(\"Click reconnect\"); \n",
              "     btn.click() \n",
              "     }\n",
              "  }\n",
              "  \n",
              "setInterval(ClickConnect,60000)\n"
            ],
            "text/plain": [
              "<IPython.core.display.Javascript object>"
            ]
          },
          "metadata": {}
        },
        {
          "output_type": "stream",
          "name": "stdout",
          "text": [
            "Done.\n"
          ]
        }
      ]
    },
    {
      "cell_type": "code",
      "source": [
        "#@title 從 data_src 影片擷取人物圖片\n",
        "# 開始擷取 src\n",
        "%cd /content/DeepFaceLab/\n",
        "! python main.py videoed extract-video --input-file /content/workspace/data_src.mp4 --output-dir /content/workspace/data_src/"
      ],
      "metadata": {
        "cellView": "form",
        "id": "PNXlWh3WcJE6",
        "colab": {
          "base_uri": "https://localhost:8080/"
        },
        "outputId": "f8803582-8d32-4485-fed8-db4e20882a4d"
      },
      "execution_count": 7,
      "outputs": [
        {
          "output_type": "stream",
          "name": "stdout",
          "text": [
            "/content/DeepFaceLab\n",
            "[0] Enter FPS ( ?:help ) : \n",
            "0\n",
            "[png] Output image format ( png/jpg ?:help ) : \n",
            "png\n",
            "ffmpeg version 3.4.8-0ubuntu0.2 Copyright (c) 2000-2020 the FFmpeg developers\n",
            "  built with gcc 7 (Ubuntu 7.5.0-3ubuntu1~18.04)\n",
            "  configuration: --prefix=/usr --extra-version=0ubuntu0.2 --toolchain=hardened --libdir=/usr/lib/x86_64-linux-gnu --incdir=/usr/include/x86_64-linux-gnu --enable-gpl --disable-stripping --enable-avresample --enable-avisynth --enable-gnutls --enable-ladspa --enable-libass --enable-libbluray --enable-libbs2b --enable-libcaca --enable-libcdio --enable-libflite --enable-libfontconfig --enable-libfreetype --enable-libfribidi --enable-libgme --enable-libgsm --enable-libmp3lame --enable-libmysofa --enable-libopenjpeg --enable-libopenmpt --enable-libopus --enable-libpulse --enable-librubberband --enable-librsvg --enable-libshine --enable-libsnappy --enable-libsoxr --enable-libspeex --enable-libssh --enable-libtheora --enable-libtwolame --enable-libvorbis --enable-libvpx --enable-libwavpack --enable-libwebp --enable-libx265 --enable-libxml2 --enable-libxvid --enable-libzmq --enable-libzvbi --enable-omx --enable-openal --enable-opengl --enable-sdl2 --enable-libdc1394 --enable-libdrm --enable-libiec61883 --enable-chromaprint --enable-frei0r --enable-libopencv --enable-libx264 --enable-shared\n",
            "  libavutil      55. 78.100 / 55. 78.100\n",
            "  libavcodec     57.107.100 / 57.107.100\n",
            "  libavformat    57. 83.100 / 57. 83.100\n",
            "  libavdevice    57. 10.100 / 57. 10.100\n",
            "  libavfilter     6.107.100 /  6.107.100\n",
            "  libavresample   3.  7.  0 /  3.  7.  0\n",
            "  libswscale      4.  8.100 /  4.  8.100\n",
            "  libswresample   2.  9.100 /  2.  9.100\n",
            "  libpostproc    54.  7.100 / 54.  7.100\n",
            "Input #0, mov,mp4,m4a,3gp,3g2,mj2, from '/content/workspace/data_src.mp4':\n",
            "  Metadata:\n",
            "    major_brand     : isom\n",
            "    minor_version   : 512\n",
            "    compatible_brands: isomiso2avc1mp41\n",
            "    encoder         : Lavf58.12.100\n",
            "  Duration: 00:01:06.00, start: 0.000000, bitrate: 894 kb/s\n",
            "    Stream #0:0(und): Video: h264 (Constrained Baseline) (avc1 / 0x31637661), yuv420p, 360x640, 893 kb/s, 25.02 fps, 25 tbr, 12800 tbn, 25600 tbc (default)\n",
            "    Metadata:\n",
            "      handler_name    : VideoHandler\n",
            "Stream mapping:\n",
            "  Stream #0:0 -> #0:0 (h264 (native) -> png (native))\n",
            "Press [q] to stop, [?] for help\n",
            "Output #0, image2, to '/content/workspace/data_src/%5d.png':\n",
            "  Metadata:\n",
            "    major_brand     : isom\n",
            "    minor_version   : 512\n",
            "    compatible_brands: isomiso2avc1mp41\n",
            "    encoder         : Lavf57.83.100\n",
            "    Stream #0:0(und): Video: png, rgb24, 360x640, q=2-31, 200 kb/s, 25 fps, 25 tbn, 25 tbc (default)\n",
            "    Metadata:\n",
            "      handler_name    : VideoHandler\n",
            "      encoder         : Lavc57.107.100 png\n",
            "frame= 1650 fps= 63 q=-0.0 Lsize=N/A time=00:01:06.00 bitrate=N/A speed=2.53x    \n",
            "video:422874kB audio:0kB subtitle:0kB other streams:0kB global headers:0kB muxing overhead: unknown\n",
            "Done.\n"
          ]
        }
      ]
    },
    {
      "cell_type": "code",
      "source": [
        "#@title 從 data_dst 影片擷取人物圖片\n",
        "# 開始擷取 dst\n",
        "%cd /content/DeepFaceLab/\n",
        "! python main.py videoed extract-video --input-file /content/workspace/data_dst.mp4 --output-dir /content/workspace/data_dst/"
      ],
      "metadata": {
        "cellView": "form",
        "id": "amm-f45IcMW5",
        "colab": {
          "base_uri": "https://localhost:8080/"
        },
        "outputId": "f2cedea6-2852-42fc-d726-0cc559c77050"
      },
      "execution_count": 8,
      "outputs": [
        {
          "output_type": "stream",
          "name": "stdout",
          "text": [
            "/content/DeepFaceLab\n",
            "[0] Enter FPS ( ?:help ) : \n",
            "0\n",
            "[png] Output image format ( png/jpg ?:help ) : \n",
            "png\n",
            "ffmpeg version 3.4.8-0ubuntu0.2 Copyright (c) 2000-2020 the FFmpeg developers\n",
            "  built with gcc 7 (Ubuntu 7.5.0-3ubuntu1~18.04)\n",
            "  configuration: --prefix=/usr --extra-version=0ubuntu0.2 --toolchain=hardened --libdir=/usr/lib/x86_64-linux-gnu --incdir=/usr/include/x86_64-linux-gnu --enable-gpl --disable-stripping --enable-avresample --enable-avisynth --enable-gnutls --enable-ladspa --enable-libass --enable-libbluray --enable-libbs2b --enable-libcaca --enable-libcdio --enable-libflite --enable-libfontconfig --enable-libfreetype --enable-libfribidi --enable-libgme --enable-libgsm --enable-libmp3lame --enable-libmysofa --enable-libopenjpeg --enable-libopenmpt --enable-libopus --enable-libpulse --enable-librubberband --enable-librsvg --enable-libshine --enable-libsnappy --enable-libsoxr --enable-libspeex --enable-libssh --enable-libtheora --enable-libtwolame --enable-libvorbis --enable-libvpx --enable-libwavpack --enable-libwebp --enable-libx265 --enable-libxml2 --enable-libxvid --enable-libzmq --enable-libzvbi --enable-omx --enable-openal --enable-opengl --enable-sdl2 --enable-libdc1394 --enable-libdrm --enable-libiec61883 --enable-chromaprint --enable-frei0r --enable-libopencv --enable-libx264 --enable-shared\n",
            "  libavutil      55. 78.100 / 55. 78.100\n",
            "  libavcodec     57.107.100 / 57.107.100\n",
            "  libavformat    57. 83.100 / 57. 83.100\n",
            "  libavdevice    57. 10.100 / 57. 10.100\n",
            "  libavfilter     6.107.100 /  6.107.100\n",
            "  libavresample   3.  7.  0 /  3.  7.  0\n",
            "  libswscale      4.  8.100 /  4.  8.100\n",
            "  libswresample   2.  9.100 /  2.  9.100\n",
            "  libpostproc    54.  7.100 / 54.  7.100\n",
            "Input #0, mov,mp4,m4a,3gp,3g2,mj2, from '/content/workspace/data_dst.mp4':\n",
            "  Metadata:\n",
            "    major_brand     : isom\n",
            "    minor_version   : 512\n",
            "    compatible_brands: isomiso2avc1mp41\n",
            "    encoder         : Lavf58.12.100\n",
            "  Duration: 00:00:41.02, start: 0.000000, bitrate: 1643 kb/s\n",
            "    Stream #0:0(und): Video: h264 (Constrained Baseline) (avc1 / 0x31637661), yuv420p, 1280x720, 1544 kb/s, 25.02 fps, 25 tbr, 12800 tbn, 25600 tbc (default)\n",
            "    Metadata:\n",
            "      handler_name    : VideoHandler\n",
            "    Stream #0:1(und): Audio: aac (LC) (mp4a / 0x6134706D), 44100 Hz, mono, fltp, 94 kb/s (default)\n",
            "    Metadata:\n",
            "      handler_name    : SoundHandler\n",
            "Stream mapping:\n",
            "  Stream #0:0 -> #0:0 (h264 (native) -> png (native))\n",
            "Press [q] to stop, [?] for help\n",
            "Output #0, image2, to '/content/workspace/data_dst/%5d.png':\n",
            "  Metadata:\n",
            "    major_brand     : isom\n",
            "    minor_version   : 512\n",
            "    compatible_brands: isomiso2avc1mp41\n",
            "    encoder         : Lavf57.83.100\n",
            "    Stream #0:0(und): Video: png, rgb24, 1280x720, q=2-31, 200 kb/s, 25 fps, 25 tbn, 25 tbc (default)\n",
            "    Metadata:\n",
            "      handler_name    : VideoHandler\n",
            "      encoder         : Lavc57.107.100 png\n",
            "frame= 1025 fps= 19 q=-0.0 Lsize=N/A time=00:00:41.00 bitrate=N/A speed=0.779x    \n",
            "video:868293kB audio:0kB subtitle:0kB other streams:0kB global headers:0kB muxing overhead: unknown\n",
            "Done.\n"
          ]
        }
      ]
    },
    {
      "cell_type": "code",
      "source": [
        "#@title data_src 影片降噪 (選擇性)\n",
        "%cd /content/DeepFaceLab/\n",
        "! python  main.py videoed denoise-image-sequence --input-dir /content/workspace/data_src "
      ],
      "metadata": {
        "colab": {
          "base_uri": "https://localhost:8080/"
        },
        "cellView": "form",
        "id": "Ft3TMDDrfI5U",
        "outputId": "1415f3f6-c13a-43a8-e5a6-31e54b4a7cf7"
      },
      "execution_count": 10,
      "outputs": [
        {
          "output_type": "stream",
          "name": "stdout",
          "text": [
            "/content/DeepFaceLab\n",
            "[7] Denoise factor? ( 1-20 ) : \n",
            "7\n",
            "ffmpeg version 3.4.8-0ubuntu0.2 Copyright (c) 2000-2020 the FFmpeg developers\n",
            "  built with gcc 7 (Ubuntu 7.5.0-3ubuntu1~18.04)\n",
            "  configuration: --prefix=/usr --extra-version=0ubuntu0.2 --toolchain=hardened --libdir=/usr/lib/x86_64-linux-gnu --incdir=/usr/include/x86_64-linux-gnu --enable-gpl --disable-stripping --enable-avresample --enable-avisynth --enable-gnutls --enable-ladspa --enable-libass --enable-libbluray --enable-libbs2b --enable-libcaca --enable-libcdio --enable-libflite --enable-libfontconfig --enable-libfreetype --enable-libfribidi --enable-libgme --enable-libgsm --enable-libmp3lame --enable-libmysofa --enable-libopenjpeg --enable-libopenmpt --enable-libopus --enable-libpulse --enable-librubberband --enable-librsvg --enable-libshine --enable-libsnappy --enable-libsoxr --enable-libspeex --enable-libssh --enable-libtheora --enable-libtwolame --enable-libvorbis --enable-libvpx --enable-libwavpack --enable-libwebp --enable-libx265 --enable-libxml2 --enable-libxvid --enable-libzmq --enable-libzvbi --enable-omx --enable-openal --enable-opengl --enable-sdl2 --enable-libdc1394 --enable-libdrm --enable-libiec61883 --enable-chromaprint --enable-frei0r --enable-libopencv --enable-libx264 --enable-shared\n",
            "  libavutil      55. 78.100 / 55. 78.100\n",
            "  libavcodec     57.107.100 / 57.107.100\n",
            "  libavformat    57. 83.100 / 57. 83.100\n",
            "  libavdevice    57. 10.100 / 57. 10.100\n",
            "  libavfilter     6.107.100 /  6.107.100\n",
            "  libavresample   3.  7.  0 /  3.  7.  0\n",
            "  libswscale      4.  8.100 /  4.  8.100\n",
            "  libswresample   2.  9.100 /  2.  9.100\n",
            "  libpostproc    54.  7.100 / 54.  7.100\n",
            "Input #0, image2, from '/content/workspace/data_src/%6d.png':\n",
            "  Duration: 00:01:06.00, start: 0.000000, bitrate: N/A\n",
            "    Stream #0:0: Video: png, rgb24(pc), 360x640, 25 fps, 25 tbr, 25 tbn, 25 tbc\n",
            "Stream mapping:\n",
            "  Stream #0:0 (png) -> hqdn3d\n",
            "  hqdn3d -> Stream #0:0 (png)\n",
            "Press [q] to stop, [?] for help\n",
            "Output #0, image2, to '/content/workspace/data_src/%6d.png':\n",
            "  Metadata:\n",
            "    encoder         : Lavf57.83.100\n",
            "    Stream #0:0: Video: png, rgb24, 360x640, q=2-31, 200 kb/s, 25 fps, 25 tbn, 25 tbc\n",
            "    Metadata:\n",
            "      encoder         : Lavc57.107.100 png\n",
            "frame= 1650 fps= 52 q=-0.0 Lsize=N/A time=00:01:06.00 bitrate=N/A speed=2.09x    \n",
            "video:337981kB audio:0kB subtitle:0kB other streams:0kB global headers:0kB muxing overhead: unknown\n",
            "Done.\n"
          ]
        }
      ]
    },
    {
      "cell_type": "code",
      "source": [
        "#@title data_dst 影片降噪 (選擇性)\n",
        "%cd /content/DeepFaceLab/\n",
        "! python  main.py videoed denoise-image-sequence --input-dir /content/workspace/data_dst "
      ],
      "metadata": {
        "colab": {
          "base_uri": "https://localhost:8080/"
        },
        "cellView": "form",
        "id": "6mhMOrpJgsbV",
        "outputId": "6ede8935-228c-4ba1-8e75-3f66251228ab"
      },
      "execution_count": 11,
      "outputs": [
        {
          "output_type": "stream",
          "name": "stdout",
          "text": [
            "/content/DeepFaceLab\n",
            "[7] Denoise factor? ( 1-20 ) : \n",
            "7\n",
            "ffmpeg version 3.4.8-0ubuntu0.2 Copyright (c) 2000-2020 the FFmpeg developers\n",
            "  built with gcc 7 (Ubuntu 7.5.0-3ubuntu1~18.04)\n",
            "  configuration: --prefix=/usr --extra-version=0ubuntu0.2 --toolchain=hardened --libdir=/usr/lib/x86_64-linux-gnu --incdir=/usr/include/x86_64-linux-gnu --enable-gpl --disable-stripping --enable-avresample --enable-avisynth --enable-gnutls --enable-ladspa --enable-libass --enable-libbluray --enable-libbs2b --enable-libcaca --enable-libcdio --enable-libflite --enable-libfontconfig --enable-libfreetype --enable-libfribidi --enable-libgme --enable-libgsm --enable-libmp3lame --enable-libmysofa --enable-libopenjpeg --enable-libopenmpt --enable-libopus --enable-libpulse --enable-librubberband --enable-librsvg --enable-libshine --enable-libsnappy --enable-libsoxr --enable-libspeex --enable-libssh --enable-libtheora --enable-libtwolame --enable-libvorbis --enable-libvpx --enable-libwavpack --enable-libwebp --enable-libx265 --enable-libxml2 --enable-libxvid --enable-libzmq --enable-libzvbi --enable-omx --enable-openal --enable-opengl --enable-sdl2 --enable-libdc1394 --enable-libdrm --enable-libiec61883 --enable-chromaprint --enable-frei0r --enable-libopencv --enable-libx264 --enable-shared\n",
            "  libavutil      55. 78.100 / 55. 78.100\n",
            "  libavcodec     57.107.100 / 57.107.100\n",
            "  libavformat    57. 83.100 / 57. 83.100\n",
            "  libavdevice    57. 10.100 / 57. 10.100\n",
            "  libavfilter     6.107.100 /  6.107.100\n",
            "  libavresample   3.  7.  0 /  3.  7.  0\n",
            "  libswscale      4.  8.100 /  4.  8.100\n",
            "  libswresample   2.  9.100 /  2.  9.100\n",
            "  libpostproc    54.  7.100 / 54.  7.100\n",
            "Input #0, image2, from '/content/workspace/data_dst/%6d.png':\n",
            "  Duration: 00:00:41.00, start: 0.000000, bitrate: N/A\n",
            "    Stream #0:0: Video: png, rgb24(pc), 1280x720, 25 fps, 25 tbr, 25 tbn, 25 tbc\n",
            "Stream mapping:\n",
            "  Stream #0:0 (png) -> hqdn3d\n",
            "  hqdn3d -> Stream #0:0 (png)\n",
            "Press [q] to stop, [?] for help\n",
            "Output #0, image2, to '/content/workspace/data_dst/%6d.png':\n",
            "  Metadata:\n",
            "    encoder         : Lavf57.83.100\n",
            "    Stream #0:0: Video: png, rgb24, 1280x720, q=2-31, 200 kb/s, 25 fps, 25 tbn, 25 tbc\n",
            "    Metadata:\n",
            "      encoder         : Lavc57.107.100 png\n",
            "frame= 1025 fps= 15 q=-0.0 Lsize=N/A time=00:00:41.00 bitrate=N/A speed=0.584x    \n",
            "video:741558kB audio:0kB subtitle:0kB other streams:0kB global headers:0kB muxing overhead: unknown\n",
            "Done.\n"
          ]
        }
      ]
    },
    {
      "cell_type": "code",
      "source": [
        "#@title 校正 data_src 影片\n",
        "%cd /content/DeepFaceLab/\n",
        "! python main.py extract --input-dir /content/workspace/data_src --output-dir /content/workspace/data_src/aligned --detector s3fd"
      ],
      "metadata": {
        "colab": {
          "base_uri": "https://localhost:8080/"
        },
        "cellView": "form",
        "id": "2ipSI9bhg8lM",
        "outputId": "4dd5dfd1-7efe-43b5-add5-75cf35c3cf45"
      },
      "execution_count": 12,
      "outputs": [
        {
          "output_type": "stream",
          "name": "stdout",
          "text": [
            "/content/DeepFaceLab\n",
            "\n",
            "Choose one or several GPU idxs (separated by comma).\n",
            "\n",
            "[CPU] : CPU\n",
            "  [0] : Tesla T4\n",
            "\n",
            "[0] Which GPU indexes to choose? : 0\n",
            "0\n",
            "\n",
            "[wf] Face type ( f/wf/head ?:help ) : \n",
            "wf\n",
            "[0] Max number of faces from image ( ?:help ) : \n",
            "0\n",
            "[512] Image size ( 256-2048 ?:help ) : \n",
            "512\n",
            "[90] Jpeg quality ( 1-100 ?:help ) : \n",
            "90\n",
            "[n] Write debug images to aligned_debug? ( y/n ) : y\n",
            "Extracting faces...\n",
            "Running on Tesla T4\n",
            "100% 1650/1650 [09:20<00:00,  2.95it/s]\n",
            "-------------------------\n",
            "Images found:        1650\n",
            "Faces detected:      1650\n",
            "-------------------------\n",
            "Done.\n"
          ]
        }
      ]
    },
    {
      "cell_type": "code",
      "source": [
        "#@title 校正 data_dst 影片\n",
        "%cd /content/DeepFaceLab/\n",
        "! python main.py extract --input-dir /content/workspace/data_dst --output-dir /content/workspace/data_dst/aligned --detector s3fd"
      ],
      "metadata": {
        "colab": {
          "base_uri": "https://localhost:8080/"
        },
        "cellView": "form",
        "id": "SNC0_Jd5hQBf",
        "outputId": "a2bf9764-ded8-46b7-de98-1b431fabf749"
      },
      "execution_count": 13,
      "outputs": [
        {
          "output_type": "stream",
          "name": "stdout",
          "text": [
            "/content/DeepFaceLab\n",
            "\n",
            "Choose one or several GPU idxs (separated by comma).\n",
            "\n",
            "[CPU] : CPU\n",
            "  [0] : Tesla T4\n",
            "\n",
            "[0] Which GPU indexes to choose? : \n",
            "0\n",
            "\n",
            "[wf] Face type ( f/wf/head ?:help ) : \n",
            "wf\n",
            "[0] Max number of faces from image ( ?:help ) : \n",
            "0\n",
            "[512] Image size ( 256-2048 ?:help ) : \n",
            "512\n",
            "[90] Jpeg quality ( 1-100 ?:help ) : \n",
            "90\n",
            "[n] Write debug images to aligned_debug? ( y/n ) : y\n",
            "Extracting faces...\n",
            "Running on Tesla T4\n",
            "100% 1025/1025 [07:34<00:00,  2.26it/s]\n",
            "-------------------------\n",
            "Images found:        1025\n",
            "Faces detected:      1023\n",
            "-------------------------\n",
            "Done.\n"
          ]
        }
      ]
    },
    {
      "cell_type": "code",
      "source": [
        "#@title 排序 data_src 影格  (選擇性)\n",
        "%cd /content/DeepFaceLab/\n",
        "! python main.py sort --input-dir /content/workspace/data_src/aligned --by hist"
      ],
      "metadata": {
        "colab": {
          "base_uri": "https://localhost:8080/"
        },
        "cellView": "form",
        "id": "rOh9VF2phubS",
        "outputId": "3d11a855-c323-4b0f-b3c5-1b3e40d12591"
      },
      "execution_count": 14,
      "outputs": [
        {
          "output_type": "stream",
          "name": "stdout",
          "text": [
            "/content/DeepFaceLab\n",
            "Running sort tool.\n",
            "\n",
            "Sorting by histogram similarity...\n",
            "Running on 1 threads\n",
            "Sorting: 100% 1650/1650 [00:10<00:00, 161.16it/s]\n",
            "Renaming: 100% 1650/1650 [00:00<00:00, 23538.90it/s]\n",
            "Done.\n"
          ]
        }
      ]
    },
    {
      "cell_type": "code",
      "source": [
        "#@title 排序 data_dst 影格 (選擇性)\n",
        "%cd /content/DeepFaceLab/\n",
        "! python main.py sort --input-dir /content/workspace/data_dst/aligned --by hist"
      ],
      "metadata": {
        "colab": {
          "base_uri": "https://localhost:8080/"
        },
        "cellView": "form",
        "id": "u_wKoKbdl9ix",
        "outputId": "ff1963dd-fe4e-4446-b840-59d0129517e8"
      },
      "execution_count": 15,
      "outputs": [
        {
          "output_type": "stream",
          "name": "stdout",
          "text": [
            "/content/DeepFaceLab\n",
            "Running sort tool.\n",
            "\n",
            "Sorting by histogram similarity...\n",
            "Running on 1 threads\n",
            "Sorting: 100% 1023/1023 [00:05<00:00, 183.20it/s]\n",
            "Renaming: 100% 1023/1023 [00:00<00:00, 25694.33it/s]\n",
            "Done.\n"
          ]
        }
      ]
    },
    {
      "cell_type": "code",
      "source": [
        "#@title 加強 data_src 影格解析度 (選擇性)\n",
        "%cd /content/DeepFaceLab/\n",
        "! python  main.py facesettool enhance --input-dir /content/workspace/data_src/aligned"
      ],
      "metadata": {
        "cellView": "form",
        "id": "zmHE-6DOmMcU"
      },
      "execution_count": null,
      "outputs": []
    },
    {
      "cell_type": "code",
      "source": [
        "#@title 加強 data_dst 影格解析度 (選擇性)\n",
        "%cd /content/DeepFaceLab/\n",
        "! python  main.py facesettool enhance --input-dir /content/workspace/data_dst/aligned"
      ],
      "metadata": {
        "cellView": "form",
        "id": "jNYkHL1omeUT"
      },
      "execution_count": null,
      "outputs": []
    },
    {
      "cell_type": "code",
      "source": [
        "#@title 打包 data_src 影格\n",
        "%cd /content/DeepFaceLab/\n",
        "!python main.py util --input-dir /content/workspace/data_src/aligned  --pack-faceset"
      ],
      "metadata": {
        "colab": {
          "base_uri": "https://localhost:8080/"
        },
        "cellView": "form",
        "id": "RmcN-442p5r-",
        "outputId": "1facc7f4-5f73-4041-88b2-d48c461d2c10"
      },
      "execution_count": 21,
      "outputs": [
        {
          "output_type": "stream",
          "name": "stdout",
          "text": [
            "/content/DeepFaceLab\n",
            "Performing faceset packing...\n",
            "\n",
            "Loading samples: 100% 1650/1650 [00:06<00:00, 240.50it/s]\n",
            "Processing: 100% 1650/1650 [00:00<00:00, 19446.34it/s]\n",
            "Packing: 100% 1650/1650 [00:00<00:00, 19627.90it/s]\n",
            "[y] Delete original files? ( y/n ) : n\n",
            "Done.\n"
          ]
        }
      ]
    },
    {
      "cell_type": "code",
      "source": [
        "#@title 打包 data_dst 影格\n",
        "%cd /content/DeepFaceLab/\n",
        "!python main.py util --input-dir /content/workspace/data_dst/aligned  --pack-faceset"
      ],
      "metadata": {
        "colab": {
          "base_uri": "https://localhost:8080/"
        },
        "cellView": "form",
        "id": "-1swRpapqBXu",
        "outputId": "ed117c2b-a233-40cf-f941-b4ee43031397"
      },
      "execution_count": 22,
      "outputs": [
        {
          "output_type": "stream",
          "name": "stdout",
          "text": [
            "/content/DeepFaceLab\n",
            "Performing faceset packing...\n",
            "\n",
            "Loading samples: 100% 1023/1023 [00:05<00:00, 185.43it/s]\n",
            "Processing: 100% 1023/1023 [00:00<00:00, 18527.53it/s]\n",
            "Packing: 100% 1023/1023 [00:00<00:00, 17538.20it/s]\n",
            "[y] Delete original files? ( y/n ) : n\n",
            "Done.\n"
          ]
        }
      ]
    },
    {
      "cell_type": "code",
      "source": [
        "#@title 壓縮素材\n",
        "% cd /content/\n",
        "workspace = 'deepfacelab_ws' #@param {type:\"string\"}\n",
        "cmd = f'zip -r {workspace} workspace/*'\n",
        "! $cmd"
      ],
      "metadata": {
        "cellView": "form",
        "id": "hx4Zz4KnqA3z"
      },
      "execution_count": null,
      "outputs": []
    },
    {
      "cell_type": "code",
      "source": [
        "#@title 將素材搬移至 Google Drive\n",
        "workspace_dir = '/content/drive/MyDrive/aidataset/deepfacelab/' #@param {type:\"string\"}\n",
        "cmd  = f'cp {workspace}.zip {workspace_dir}'\n",
        "! $cmd"
      ],
      "metadata": {
        "cellView": "form",
        "id": "Zqb6s37kqzrq"
      },
      "execution_count": 24,
      "outputs": []
    }
  ]
}