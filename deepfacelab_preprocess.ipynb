{
  "nbformat": 4,
  "nbformat_minor": 0,
  "metadata": {
    "colab": {
      "name": "deepfacelab_preprocess.ipynb",
      "provenance": [],
      "collapsed_sections": []
    },
    "kernelspec": {
      "name": "python3",
      "display_name": "Python 3"
    },
    "language_info": {
      "name": "python"
    }
  },
  "cells": [
    {
      "cell_type": "code",
      "source": [
        "#@title 檢視 GPU\n",
        "! nvidia-smi"
      ],
      "metadata": {
        "colab": {
          "base_uri": "https://localhost:8080/"
        },
        "cellView": "form",
        "id": "sdJ7nZcubQDf",
        "outputId": "3e5f7bc4-aaa0-4e08-fbb6-0519d6e8d0c1"
      },
      "execution_count": 9,
      "outputs": [
        {
          "output_type": "stream",
          "name": "stdout",
          "text": [
            "NVIDIA-SMI has failed because it couldn't communicate with the NVIDIA driver. Make sure that the latest NVIDIA driver is installed and running.\n",
            "\n"
          ]
        }
      ]
    },
    {
      "cell_type": "code",
      "execution_count": 10,
      "metadata": {
        "colab": {
          "base_uri": "https://localhost:8080/"
        },
        "cellView": "form",
        "id": "QNtYV2KjZ_DS",
        "outputId": "e12d5fb8-be75-4fb1-80c4-9f90a6f4bee3"
      },
      "outputs": [
        {
          "output_type": "stream",
          "name": "stdout",
          "text": [
            "Requirement already satisfied: colorama in /usr/local/lib/python3.7/dist-packages (0.4.4)\n",
            "Requirement already satisfied: ffmpeg-python in /usr/local/lib/python3.7/dist-packages (0.2.0)\n",
            "Requirement already satisfied: future in /usr/local/lib/python3.7/dist-packages (from ffmpeg-python) (0.16.0)\n"
          ]
        }
      ],
      "source": [
        "#@title 安裝 colorama, ffmpeg\n",
        "\n",
        "! pip install colorama\n",
        "! pip install ffmpeg-python"
      ]
    },
    {
      "cell_type": "code",
      "source": [
        "#@title 安裝 DeepFaceLab\n",
        "!git clone https://github.com/iperov/DeepFaceLab.git"
      ],
      "metadata": {
        "cellView": "form",
        "colab": {
          "base_uri": "https://localhost:8080/"
        },
        "id": "g-0BaNcladl4",
        "outputId": "fa0d3d16-7e38-4b8b-8885-0f5398795f5d"
      },
      "execution_count": 2,
      "outputs": [
        {
          "output_type": "stream",
          "name": "stdout",
          "text": [
            "Cloning into 'DeepFaceLab'...\n",
            "remote: Enumerating objects: 8010, done.\u001b[K\n",
            "remote: Counting objects: 100% (259/259), done.\u001b[K\n",
            "remote: Compressing objects: 100% (140/140), done.\u001b[K\n",
            "remote: Total 8010 (delta 146), reused 178 (delta 117), pack-reused 7751\u001b[K\n",
            "Receiving objects: 100% (8010/8010), 823.29 MiB | 29.97 MiB/s, done.\n",
            "Resolving deltas: 100% (5140/5140), done.\n",
            "Checking out files: 100% (211/211), done.\n"
          ]
        }
      ]
    },
    {
      "cell_type": "code",
      "source": [
        "#@title 建立 workspace\n",
        "!mkdir -p /content/workspace; mkdir -p /content/workspace/data_src; mkdir -p /content/workspace/data_src/aligned; mkdir -p /content/workspace/data_dst; mkdir -p /content/workspace/data_dst/aligned; mkdir -p /content/workspace/model  \n",
        "! ls workspace"
      ],
      "metadata": {
        "colab": {
          "base_uri": "https://localhost:8080/"
        },
        "cellView": "form",
        "id": "5SYrZBoVabzN",
        "outputId": "3596c0e0-cfef-4dc0-b1b1-07922ff5df92"
      },
      "execution_count": 7,
      "outputs": [
        {
          "output_type": "stream",
          "name": "stdout",
          "text": [
            "data_dst  data_src  model\n"
          ]
        }
      ]
    },
    {
      "cell_type": "code",
      "source": [
        "#@title Mount Google Drive\n",
        "from google.colab import drive\n",
        "drive.mount('/content/drive')"
      ],
      "metadata": {
        "colab": {
          "base_uri": "https://localhost:8080/"
        },
        "cellView": "form",
        "id": "KwlV62qxcY4v",
        "outputId": "788bc15a-c685-443f-d609-6a260aa38b5e"
      },
      "execution_count": 11,
      "outputs": [
        {
          "output_type": "stream",
          "name": "stdout",
          "text": [
            "Mounted at /content/drive\n"
          ]
        }
      ]
    },
    {
      "cell_type": "code",
      "source": [
        "#@title 用youtube-dl下載影片\n",
        "! curl -L https://yt-dl.org/downloads/latest/youtube-dl -o /usr/local/bin/youtube-dl\n",
        "! chmod a+rx /usr/local/bin/youtube-dl\n",
        "src_youtube = 'https://www.youtube.com/watch?v=EKS6mfLtR2s' #@param {type:\"string\"}\n",
        "dst_youtube = 'https://www.youtube.com/watch?v=EKS6mfLtR2s'#@param {type:\"string\"}\n",
        "src_yt_cmd =  f'youtube-dl -f mp4 {src_youtube}  --output /content/workspace/data_src.mp4'\n",
        "dst_yt_cmd =  f'youtube-dl -f mp4 {dst_youtube}  --output /content/workspace/data_dst.mp4'\n",
        "! $src_yt_cmd"
      ],
      "metadata": {
        "colab": {
          "base_uri": "https://localhost:8080/"
        },
        "cellView": "form",
        "id": "T1ba45T7dvzC",
        "outputId": "d3370d1f-b945-4cfb-e2fe-72ad25108d1c"
      },
      "execution_count": 26,
      "outputs": [
        {
          "output_type": "stream",
          "name": "stdout",
          "text": [
            "  % Total    % Received % Xferd  Average Speed   Time    Time     Time  Current\n",
            "                                 Dload  Upload   Total   Spent    Left  Speed\n",
            "\r  0     0    0     0    0     0      0      0 --:--:-- --:--:-- --:--:--     0\r100     3  100     3    0     0     44      0 --:--:-- --:--:-- --:--:--    44\n",
            "\r100     3  100     3    0     0     38      0 --:--:-- --:--:-- --:--:--    38\n",
            "100   645  100   645    0     0   5466      0 --:--:-- --:--:-- --:--:--  5466\n",
            "100 1794k  100 1794k    0     0  5789k      0 --:--:-- --:--:-- --:--:-- 30.9M\n",
            "[youtube] EKS6mfLtR2s: Downloading webpage\n",
            "[download] Destination: /content/workspace/data_src.mp4\n",
            "\u001b[K[download]   0.4% of 61.07MiB at 48.91KiB/s ETA 21:13\n",
            "ERROR: Interrupted by user\n"
          ]
        }
      ]
    },
    {
      "cell_type": "code",
      "source": [
        "#@title 從 Google Drive 複製影片到workspace\n",
        "\n",
        "src_mp4 = '/content/drive/MyDrive/aidataset/deepfacelab/data_src.mp4' #@param {type:\"string\"}\n",
        "dst_mp4 = '/content/drive/MyDrive/aidataset/deepfacelab/data_dst.mp4' #@param {type:\"string\"}\n",
        "src_cmd=f\"cp {src_mp4} /content/workspace/data_src.mp4\"  \n",
        "dst_cmd=f\"cp {dst_mp4} /content/workspace/data_dst.mp4\" \n",
        "! $src_cmd\n",
        "! $dst_cmd"
      ],
      "metadata": {
        "cellView": "form",
        "id": "rZ-nZgA5a_VK"
      },
      "execution_count": 15,
      "outputs": []
    },
    {
      "cell_type": "code",
      "source": [
        "#@title 從 data_src 影片擷取人物圖片\n",
        "# 開始擷取 src\n",
        "%cd /content/DeepFaceLab/\n",
        "! python main.py videoed extract-video --input-file /content/workspace/data_src.mp4 --output-dir /content/workspace/data_src/"
      ],
      "metadata": {
        "cellView": "form",
        "id": "PNXlWh3WcJE6"
      },
      "execution_count": null,
      "outputs": []
    },
    {
      "cell_type": "code",
      "source": [
        "#@title 從 data_dst 影片擷取人物圖片\n",
        "# 開始擷取 dst\n",
        "%cd /content/DeepFaceLab/\n",
        "! python main.py videoed extract-video --input-file /content/workspace/data_dst.mp4 --output-dir /content/workspace/data_dst/"
      ],
      "metadata": {
        "cellView": "form",
        "id": "amm-f45IcMW5"
      },
      "execution_count": null,
      "outputs": []
    }
  ]
}