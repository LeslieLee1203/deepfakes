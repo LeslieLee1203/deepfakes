{
  "nbformat": 4,
  "nbformat_minor": 0,
  "metadata": {
    "colab": {
      "name": "Demo20211020_deepfacelab",
      "provenance": [],
      "collapsed_sections": [
        "hqwOlJG4MdLC",
        "WTuyUxgdLA13",
        "avAcSL_uvtq_"
      ],
      "machine_shape": "hm"
    },
    "kernelspec": {
      "name": "python3",
      "display_name": "Python 3"
    },
    "accelerator": "GPU"
  },
  "cells": [
    {
      "cell_type": "code",
      "metadata": {
        "colab": {
          "base_uri": "https://localhost:8080/",
          "height": 34
        },
        "id": "TxwpdVBl1R9I",
        "outputId": "c551609a-a586-4afb-90ac-ad5ba6130f5c"
      },
      "source": [
        "import IPython\n",
        "from google.colab import output\n",
        "\n",
        "display(IPython.display.Javascript('''\n",
        " function ClickConnect(){\n",
        "   btn = document.querySelector(\"colab-connect-button\")\n",
        "   if (btn != null){\n",
        "     console.log(\"Click colab-connect-button\"); \n",
        "     btn.click() \n",
        "     }\n",
        "   \n",
        "   btn = document.getElementById('ok')\n",
        "   if (btn != null){\n",
        "     console.log(\"Click reconnect\"); \n",
        "     btn.click() \n",
        "     }\n",
        "  }\n",
        "  \n",
        "setInterval(ClickConnect,60000)\n",
        "'''))\n",
        "\n",
        "print(\"Done.\")"
      ],
      "execution_count": null,
      "outputs": [
        {
          "output_type": "display_data",
          "data": {
            "application/javascript": [
              "\n",
              " function ClickConnect(){\n",
              "   btn = document.querySelector(\"colab-connect-button\")\n",
              "   if (btn != null){\n",
              "     console.log(\"Click colab-connect-button\"); \n",
              "     btn.click() \n",
              "     }\n",
              "   \n",
              "   btn = document.getElementById('ok')\n",
              "   if (btn != null){\n",
              "     console.log(\"Click reconnect\"); \n",
              "     btn.click() \n",
              "     }\n",
              "  }\n",
              "  \n",
              "setInterval(ClickConnect,60000)\n"
            ],
            "text/plain": [
              "<IPython.core.display.Javascript object>"
            ]
          },
          "metadata": {}
        },
        {
          "output_type": "stream",
          "name": "stdout",
          "text": [
            "Done.\n"
          ]
        }
      ]
    },
    {
      "cell_type": "code",
      "metadata": {
        "id": "WJe71S6gbzt3",
        "colab": {
          "base_uri": "https://localhost:8080/"
        },
        "outputId": "308cbe2d-bafc-45af-a1c3-5fcf31634418"
      },
      "source": [
        "!nvidia-smi"
      ],
      "execution_count": null,
      "outputs": [
        {
          "output_type": "stream",
          "name": "stdout",
          "text": [
            "Thu Nov 18 05:59:57 2021       \n",
            "+-----------------------------------------------------------------------------+\n",
            "| NVIDIA-SMI 495.44       Driver Version: 460.32.03    CUDA Version: 11.2     |\n",
            "|-------------------------------+----------------------+----------------------+\n",
            "| GPU  Name        Persistence-M| Bus-Id        Disp.A | Volatile Uncorr. ECC |\n",
            "| Fan  Temp  Perf  Pwr:Usage/Cap|         Memory-Usage | GPU-Util  Compute M. |\n",
            "|                               |                      |               MIG M. |\n",
            "|===============================+======================+======================|\n",
            "|   0  Tesla P100-PCIE...  Off  | 00000000:00:04.0 Off |                    0 |\n",
            "| N/A   35C    P0    27W / 250W |      0MiB / 16280MiB |      0%      Default |\n",
            "|                               |                      |                  N/A |\n",
            "+-------------------------------+----------------------+----------------------+\n",
            "                                                                               \n",
            "+-----------------------------------------------------------------------------+\n",
            "| Processes:                                                                  |\n",
            "|  GPU   GI   CI        PID   Type   Process name                  GPU Memory |\n",
            "|        ID   ID                                                   Usage      |\n",
            "|=============================================================================|\n",
            "|  No running processes found                                                 |\n",
            "+-----------------------------------------------------------------------------+\n"
          ]
        }
      ]
    },
    {
      "cell_type": "code",
      "metadata": {
        "colab": {
          "base_uri": "https://localhost:8080/"
        },
        "id": "mKKJOMGoDQa1",
        "outputId": "432ecf96-318b-494b-9c90-f2f5bd2ab995"
      },
      "source": [
        "! pip install colorama\n",
        "! pip install ffmpeg-python"
      ],
      "execution_count": null,
      "outputs": [
        {
          "output_type": "stream",
          "name": "stdout",
          "text": [
            "Requirement already satisfied: colorama in /usr/local/lib/python3.7/dist-packages (0.4.4)\n",
            "Requirement already satisfied: ffmpeg-python in /usr/local/lib/python3.7/dist-packages (0.2.0)\n",
            "Requirement already satisfied: future in /usr/local/lib/python3.7/dist-packages (from ffmpeg-python) (0.16.0)\n"
          ]
        }
      ]
    },
    {
      "cell_type": "code",
      "metadata": {
        "colab": {
          "base_uri": "https://localhost:8080/"
        },
        "id": "xYxmyebu-o-S",
        "outputId": "cb8d4eed-e65a-44d2-e9c8-8cd1f11fbcd1"
      },
      "source": [
        "!git clone https://github.com/iperov/DeepFaceLab.git"
      ],
      "execution_count": null,
      "outputs": [
        {
          "output_type": "stream",
          "name": "stdout",
          "text": [
            "Cloning into 'DeepFaceLab'...\n",
            "remote: Enumerating objects: 8007, done.\u001b[K\n",
            "remote: Counting objects: 100% (256/256), done.\u001b[K\n",
            "remote: Compressing objects: 100% (138/138), done.\u001b[K\n",
            "remote: Total 8007 (delta 144), reused 176 (delta 116), pack-reused 7751\u001b[K\n",
            "Receiving objects: 100% (8007/8007), 823.27 MiB | 30.53 MiB/s, done.\n",
            "Resolving deltas: 100% (5140/5140), done.\n",
            "Checking out files: 100% (211/211), done.\n"
          ]
        }
      ]
    },
    {
      "cell_type": "markdown",
      "metadata": {
        "id": "aCVTIWy1lJ7I"
      },
      "source": [
        "## 建立 Workspace"
      ]
    },
    {
      "cell_type": "code",
      "metadata": {
        "colab": {
          "base_uri": "https://localhost:8080/"
        },
        "id": "ZpxmIiadTVTG",
        "outputId": "f21741f9-33f9-4c39-c8bf-25791bc7d11e"
      },
      "source": [
        "from google.colab import drive\n",
        "drive.mount('/content/drive')"
      ],
      "execution_count": null,
      "outputs": [
        {
          "output_type": "stream",
          "name": "stdout",
          "text": [
            "Mounted at /content/drive\n"
          ]
        }
      ]
    },
    {
      "cell_type": "code",
      "metadata": {
        "id": "_UmKUCoKD7zA",
        "colab": {
          "base_uri": "https://localhost:8080/"
        },
        "outputId": "ace30aee-2c86-44c4-813b-456cb04f0eb8"
      },
      "source": [
        "!mkdir /content/workspace; mkdir /content/workspace/data_src; mkdir /content/workspace/data_src/aligned; mkdir /content/workspace/data_dst; mkdir /content/workspace/data_dst/aligned; mkdir /content/workspace/model  "
      ],
      "execution_count": null,
      "outputs": [
        {
          "output_type": "stream",
          "name": "stdout",
          "text": [
            "mkdir: cannot create directory ‘/content/workspace’: File exists\n",
            "mkdir: cannot create directory ‘/content/workspace/data_src’: File exists\n",
            "mkdir: cannot create directory ‘/content/workspace/data_src/aligned’: File exists\n",
            "mkdir: cannot create directory ‘/content/workspace/data_dst’: File exists\n",
            "mkdir: cannot create directory ‘/content/workspace/data_dst/aligned’: File exists\n",
            "mkdir: cannot create directory ‘/content/workspace/model’: File exists\n"
          ]
        }
      ]
    },
    {
      "cell_type": "code",
      "metadata": {
        "id": "zrLicFgBFXoZ"
      },
      "source": [
        "!cp /content/drive/MyDrive/aidataset/deepfacelab/data_src.mp4 /content/workspace/\n",
        "!cp /content/drive/MyDrive/aidataset/deepfacelab/data_dst.mp4 /content/workspace/"
      ],
      "execution_count": null,
      "outputs": []
    },
    {
      "cell_type": "markdown",
      "metadata": {
        "id": "yEKDDVPRlYlz"
      },
      "source": [
        "## 從 data_src 影片擷取人物圖片"
      ]
    },
    {
      "cell_type": "code",
      "metadata": {
        "colab": {
          "base_uri": "https://localhost:8080/"
        },
        "id": "akEMot3FD3-c",
        "outputId": "25be35cd-ddde-4e99-b810-c787f8bb84ab"
      },
      "source": [
        "# 開始擷取 src\n",
        "%cd /content/DeepFaceLab/\n",
        "! python main.py videoed extract-video --input-file /content/workspace/data_src.mp4 --output-dir /content/workspace/data_src/"
      ],
      "execution_count": null,
      "outputs": [
        {
          "metadata": {
            "tags": null
          },
          "name": "stdout",
          "output_type": "stream",
          "text": [
            "/content/DeepFaceLab\n",
            "[0] Enter FPS ( ?:help ) : "
          ]
        }
      ]
    },
    {
      "cell_type": "markdown",
      "metadata": {
        "id": "wBiBjx8MlwHt"
      },
      "source": [
        "## 從 data_dst 影片擷取人物圖片"
      ]
    },
    {
      "cell_type": "code",
      "metadata": {
        "id": "w0R_LRPsF43c",
        "colab": {
          "base_uri": "https://localhost:8080/"
        },
        "outputId": "2604acaf-dfad-4c48-a1e4-8a1a0bae3b24"
      },
      "source": [
        "# 開始擷取 dst\n",
        "%cd /content/DeepFaceLab/\n",
        "! python main.py videoed extract-video --input-file /content/workspace/data_dst.mp4 --output-dir /content/workspace/data_dst/"
      ],
      "execution_count": null,
      "outputs": [
        {
          "output_type": "stream",
          "name": "stdout",
          "text": [
            "/content/DeepFaceLab\n",
            "[0] Enter FPS ( ?:help ) : \n",
            "0\n",
            "[png] Output image format ( png/jpg ?:help ) : \n",
            "png\n",
            "ffmpeg version 3.4.8-0ubuntu0.2 Copyright (c) 2000-2020 the FFmpeg developers\n",
            "  built with gcc 7 (Ubuntu 7.5.0-3ubuntu1~18.04)\n",
            "  configuration: --prefix=/usr --extra-version=0ubuntu0.2 --toolchain=hardened --libdir=/usr/lib/x86_64-linux-gnu --incdir=/usr/include/x86_64-linux-gnu --enable-gpl --disable-stripping --enable-avresample --enable-avisynth --enable-gnutls --enable-ladspa --enable-libass --enable-libbluray --enable-libbs2b --enable-libcaca --enable-libcdio --enable-libflite --enable-libfontconfig --enable-libfreetype --enable-libfribidi --enable-libgme --enable-libgsm --enable-libmp3lame --enable-libmysofa --enable-libopenjpeg --enable-libopenmpt --enable-libopus --enable-libpulse --enable-librubberband --enable-librsvg --enable-libshine --enable-libsnappy --enable-libsoxr --enable-libspeex --enable-libssh --enable-libtheora --enable-libtwolame --enable-libvorbis --enable-libvpx --enable-libwavpack --enable-libwebp --enable-libx265 --enable-libxml2 --enable-libxvid --enable-libzmq --enable-libzvbi --enable-omx --enable-openal --enable-opengl --enable-sdl2 --enable-libdc1394 --enable-libdrm --enable-libiec61883 --enable-chromaprint --enable-frei0r --enable-libopencv --enable-libx264 --enable-shared\n",
            "  libavutil      55. 78.100 / 55. 78.100\n",
            "  libavcodec     57.107.100 / 57.107.100\n",
            "  libavformat    57. 83.100 / 57. 83.100\n",
            "  libavdevice    57. 10.100 / 57. 10.100\n",
            "  libavfilter     6.107.100 /  6.107.100\n",
            "  libavresample   3.  7.  0 /  3.  7.  0\n",
            "  libswscale      4.  8.100 /  4.  8.100\n",
            "  libswresample   2.  9.100 /  2.  9.100\n",
            "  libpostproc    54.  7.100 / 54.  7.100\n",
            "Input #0, mov,mp4,m4a,3gp,3g2,mj2, from '/content/workspace/data_dst.mp4':\n",
            "  Metadata:\n",
            "    major_brand     : isom\n",
            "    minor_version   : 512\n",
            "    compatible_brands: isomiso2avc1mp41\n",
            "    encoder         : Lavf58.12.100\n",
            "  Duration: 00:00:45.02, start: 0.000000, bitrate: 413 kb/s\n",
            "    Stream #0:0(und): Video: h264 (Constrained Baseline) (avc1 / 0x31637661), yuv420p, 852x480, 312 kb/s, 25.02 fps, 25 tbr, 12800 tbn, 25600 tbc (default)\n",
            "    Metadata:\n",
            "      handler_name    : VideoHandler\n",
            "    Stream #0:1(und): Audio: aac (LC) (mp4a / 0x6134706D), 44100 Hz, mono, fltp, 95 kb/s (default)\n",
            "    Metadata:\n",
            "      handler_name    : SoundHandler\n",
            "Stream mapping:\n",
            "  Stream #0:0 -> #0:0 (h264 (native) -> png (native))\n",
            "Press [q] to stop, [?] for help\n",
            "Output #0, image2, to '/content/workspace/data_dst/%5d.png':\n",
            "  Metadata:\n",
            "    major_brand     : isom\n",
            "    minor_version   : 512\n",
            "    compatible_brands: isomiso2avc1mp41\n",
            "    encoder         : Lavf57.83.100\n",
            "    Stream #0:0(und): Video: png, rgb24, 852x480, q=2-31, 200 kb/s, 25 fps, 25 tbn, 25 tbc (default)\n",
            "    Metadata:\n",
            "      handler_name    : VideoHandler\n",
            "      encoder         : Lavc57.107.100 png\n",
            "frame= 1125 fps= 94 q=-0.0 Lsize=N/A time=00:00:45.00 bitrate=N/A speed=3.78x    \n",
            "video:367605kB audio:0kB subtitle:0kB other streams:0kB global headers:0kB muxing overhead: unknown\n",
            "Done.\n"
          ]
        }
      ]
    },
    {
      "cell_type": "markdown",
      "metadata": {
        "id": "nAG9fPD_n7Sa"
      },
      "source": [
        "## denoise src 影片"
      ]
    },
    {
      "cell_type": "code",
      "metadata": {
        "colab": {
          "base_uri": "https://localhost:8080/"
        },
        "id": "hmyEhMuj3axf",
        "outputId": "e0ce0273-40e4-4016-c4e3-92f40acd5aaa"
      },
      "source": [
        "%cd /content/DeepFaceLab/\n",
        "! python  main.py videoed denoise-image-sequence --input-dir /content/workspace/data_src "
      ],
      "execution_count": null,
      "outputs": [
        {
          "output_type": "stream",
          "name": "stdout",
          "text": [
            "/content/DeepFaceLab\n",
            "[7] Denoise factor? ( 1-20 ) : \n",
            "7\n",
            "ffmpeg version 3.4.8-0ubuntu0.2 Copyright (c) 2000-2020 the FFmpeg developers\n",
            "  built with gcc 7 (Ubuntu 7.5.0-3ubuntu1~18.04)\n",
            "  configuration: --prefix=/usr --extra-version=0ubuntu0.2 --toolchain=hardened --libdir=/usr/lib/x86_64-linux-gnu --incdir=/usr/include/x86_64-linux-gnu --enable-gpl --disable-stripping --enable-avresample --enable-avisynth --enable-gnutls --enable-ladspa --enable-libass --enable-libbluray --enable-libbs2b --enable-libcaca --enable-libcdio --enable-libflite --enable-libfontconfig --enable-libfreetype --enable-libfribidi --enable-libgme --enable-libgsm --enable-libmp3lame --enable-libmysofa --enable-libopenjpeg --enable-libopenmpt --enable-libopus --enable-libpulse --enable-librubberband --enable-librsvg --enable-libshine --enable-libsnappy --enable-libsoxr --enable-libspeex --enable-libssh --enable-libtheora --enable-libtwolame --enable-libvorbis --enable-libvpx --enable-libwavpack --enable-libwebp --enable-libx265 --enable-libxml2 --enable-libxvid --enable-libzmq --enable-libzvbi --enable-omx --enable-openal --enable-opengl --enable-sdl2 --enable-libdc1394 --enable-libdrm --enable-libiec61883 --enable-chromaprint --enable-frei0r --enable-libopencv --enable-libx264 --enable-shared\n",
            "  libavutil      55. 78.100 / 55. 78.100\n",
            "  libavcodec     57.107.100 / 57.107.100\n",
            "  libavformat    57. 83.100 / 57. 83.100\n",
            "  libavdevice    57. 10.100 / 57. 10.100\n",
            "  libavfilter     6.107.100 /  6.107.100\n",
            "  libavresample   3.  7.  0 /  3.  7.  0\n",
            "  libswscale      4.  8.100 /  4.  8.100\n",
            "  libswresample   2.  9.100 /  2.  9.100\n",
            "  libpostproc    54.  7.100 / 54.  7.100\n",
            "Input #0, image2, from '/content/workspace/data_src/%6d.png':\n",
            "  Duration: 00:01:02.88, start: 0.000000, bitrate: N/A\n",
            "    Stream #0:0: Video: png, rgb24(pc), 360x640 [SAR 1:1 DAR 9:16], 25 fps, 25 tbr, 25 tbn, 25 tbc\n",
            "Stream mapping:\n",
            "  Stream #0:0 (png) -> hqdn3d\n",
            "  hqdn3d -> Stream #0:0 (png)\n",
            "Press [q] to stop, [?] for help\n",
            "Output #0, image2, to '/content/workspace/data_src/%6d.png':\n",
            "  Metadata:\n",
            "    encoder         : Lavf57.83.100\n",
            "    Stream #0:0: Video: png, rgb24, 360x640 [SAR 1:1 DAR 9:16], q=2-31, 200 kb/s, 25 fps, 25 tbn, 25 tbc\n",
            "    Metadata:\n",
            "      encoder         : Lavc57.107.100 png\n",
            "frame= 1572 fps=109 q=-0.0 Lsize=N/A time=00:01:02.88 bitrate=N/A speed=4.35x    \n",
            "video:316785kB audio:0kB subtitle:0kB other streams:0kB global headers:0kB muxing overhead: unknown\n",
            "Done.\n"
          ]
        }
      ]
    },
    {
      "cell_type": "markdown",
      "metadata": {
        "id": "X7hTZH7FoCcZ"
      },
      "source": [
        "## denoise dst 影片"
      ]
    },
    {
      "cell_type": "code",
      "metadata": {
        "colab": {
          "base_uri": "https://localhost:8080/"
        },
        "id": "QU8S1WN163i-",
        "outputId": "6308a696-ecce-46ca-bede-1db2debc2d68"
      },
      "source": [
        "%cd /content/DeepFaceLab/\n",
        "! python  main.py videoed denoise-image-sequence --input-dir /content/workspace/data_dst "
      ],
      "execution_count": null,
      "outputs": [
        {
          "output_type": "stream",
          "name": "stdout",
          "text": [
            "/content/DeepFaceLab\n",
            "[7] Denoise factor? ( 1-20 ) : \n",
            "7\n",
            "ffmpeg version 3.4.8-0ubuntu0.2 Copyright (c) 2000-2020 the FFmpeg developers\n",
            "  built with gcc 7 (Ubuntu 7.5.0-3ubuntu1~18.04)\n",
            "  configuration: --prefix=/usr --extra-version=0ubuntu0.2 --toolchain=hardened --libdir=/usr/lib/x86_64-linux-gnu --incdir=/usr/include/x86_64-linux-gnu --enable-gpl --disable-stripping --enable-avresample --enable-avisynth --enable-gnutls --enable-ladspa --enable-libass --enable-libbluray --enable-libbs2b --enable-libcaca --enable-libcdio --enable-libflite --enable-libfontconfig --enable-libfreetype --enable-libfribidi --enable-libgme --enable-libgsm --enable-libmp3lame --enable-libmysofa --enable-libopenjpeg --enable-libopenmpt --enable-libopus --enable-libpulse --enable-librubberband --enable-librsvg --enable-libshine --enable-libsnappy --enable-libsoxr --enable-libspeex --enable-libssh --enable-libtheora --enable-libtwolame --enable-libvorbis --enable-libvpx --enable-libwavpack --enable-libwebp --enable-libx265 --enable-libxml2 --enable-libxvid --enable-libzmq --enable-libzvbi --enable-omx --enable-openal --enable-opengl --enable-sdl2 --enable-libdc1394 --enable-libdrm --enable-libiec61883 --enable-chromaprint --enable-frei0r --enable-libopencv --enable-libx264 --enable-shared\n",
            "  libavutil      55. 78.100 / 55. 78.100\n",
            "  libavcodec     57.107.100 / 57.107.100\n",
            "  libavformat    57. 83.100 / 57. 83.100\n",
            "  libavdevice    57. 10.100 / 57. 10.100\n",
            "  libavfilter     6.107.100 /  6.107.100\n",
            "  libavresample   3.  7.  0 /  3.  7.  0\n",
            "  libswscale      4.  8.100 /  4.  8.100\n",
            "  libswresample   2.  9.100 /  2.  9.100\n",
            "  libpostproc    54.  7.100 / 54.  7.100\n",
            "Input #0, image2, from '/content/workspace/data_dst/%6d.png':\n",
            "  Duration: 00:00:45.00, start: 0.000000, bitrate: N/A\n",
            "    Stream #0:0: Video: png, rgb24(pc), 852x480, 25 fps, 25 tbr, 25 tbn, 25 tbc\n",
            "Stream mapping:\n",
            "  Stream #0:0 (png) -> hqdn3d\n",
            "  hqdn3d -> Stream #0:0 (png)\n",
            "Press [q] to stop, [?] for help\n",
            "Output #0, image2, to '/content/workspace/data_dst/%6d.png':\n",
            "  Metadata:\n",
            "    encoder         : Lavf57.83.100\n",
            "    Stream #0:0: Video: png, rgb24, 852x480, q=2-31, 200 kb/s, 25 fps, 25 tbn, 25 tbc\n",
            "    Metadata:\n",
            "      encoder         : Lavc57.107.100 png\n",
            "frame= 1125 fps= 70 q=-0.0 Lsize=N/A time=00:00:45.00 bitrate=N/A speed=2.79x    \n",
            "video:330301kB audio:0kB subtitle:0kB other streams:0kB global headers:0kB muxing overhead: unknown\n",
            "Done.\n"
          ]
        }
      ]
    },
    {
      "cell_type": "markdown",
      "metadata": {
        "id": "6vSBg3fqoXFw"
      },
      "source": [
        "## src aligned 影片"
      ]
    },
    {
      "cell_type": "code",
      "metadata": {
        "id": "_aczWav9Dqqx",
        "colab": {
          "base_uri": "https://localhost:8080/"
        },
        "outputId": "d959ca20-23c7-4b2c-ca9a-4415705d11f9"
      },
      "source": [
        "%cd /content/DeepFaceLab/\n",
        "! python main.py extract --input-dir /content/workspace/data_src --output-dir /content/workspace/data_src/aligned --detector s3fd"
      ],
      "execution_count": null,
      "outputs": [
        {
          "output_type": "stream",
          "name": "stdout",
          "text": [
            "/content/DeepFaceLab\n",
            "\n",
            "Choose one or several GPU idxs (separated by comma).\n",
            "\n",
            "[CPU] : CPU\n",
            "  [0] : Tesla P100-PCIE-16GB\n",
            "\n",
            "[0] Which GPU indexes to choose? : \n",
            "0\n",
            "\n",
            "[wf] Face type ( f/wf/head ?:help ) : f\n",
            "f\n",
            "[0] Max number of faces from image ( ?:help ) : \n",
            "0\n",
            "[512] Image size ( 256-2048 ?:help ) : \n",
            "512\n",
            "[90] Jpeg quality ( 1-100 ?:help ) : 100\n",
            "100\n",
            "[n] Write debug images to aligned_debug? ( y/n ) : y\n",
            "Extracting faces...\n",
            "Running on Tesla P100-PCIE-16GB\n",
            "100% 1/1 [00:17<00:00, 17.82s/it]\n",
            "-------------------------\n",
            "Images found:        1\n",
            "Faces detected:      1\n",
            "-------------------------\n",
            "Done.\n"
          ]
        }
      ]
    },
    {
      "cell_type": "markdown",
      "metadata": {
        "id": "T4py4LHfo3K6"
      },
      "source": [
        "## dst aligned 影片"
      ]
    },
    {
      "cell_type": "code",
      "metadata": {
        "colab": {
          "base_uri": "https://localhost:8080/"
        },
        "id": "c1N7QHcg6_Un",
        "outputId": "e6b6a3e9-0815-4aad-eb68-2c73db743da8"
      },
      "source": [
        "%cd /content/DeepFaceLab/\n",
        "! python main.py extract --input-dir /content/workspace/data_dst --output-dir /content/workspace/data_dst/aligned --detector s3fd"
      ],
      "execution_count": null,
      "outputs": [
        {
          "output_type": "stream",
          "name": "stdout",
          "text": [
            "/content/DeepFaceLab\n",
            "\n",
            "Choose one or several GPU idxs (separated by comma).\n",
            "\n",
            "[CPU] : CPU\n",
            "  [0] : Tesla P100-PCIE-16GB\n",
            "\n",
            "[0] Which GPU indexes to choose? : \n",
            "0\n",
            "\n",
            "[wf] Face type ( f/wf/head ?:help ) : ㄑ\n",
            "[wf] Face type ( f/wf/head ?:help ) : f\n",
            "f\n",
            "[0] Max number of faces from image ( ?:help ) : \n",
            "0\n",
            "[512] Image size ( 256-2048 ?:help ) : \n",
            "512\n",
            "[90] Jpeg quality ( 1-100 ?:help ) : 100\n",
            "100\n",
            "[n] Write debug images to aligned_debug? ( y/n ) : y\n",
            "Extracting faces...\n",
            "Running on Tesla P100-PCIE-16GB\n",
            "100% 1/1 [00:03<00:00,  3.86s/it]\n",
            "-------------------------\n",
            "Images found:        1\n",
            "Faces detected:      1\n",
            "-------------------------\n",
            "Done.\n"
          ]
        }
      ]
    },
    {
      "cell_type": "markdown",
      "metadata": {
        "id": "lK70-BmXripo"
      },
      "source": [
        "## 排序 src 影格"
      ]
    },
    {
      "cell_type": "code",
      "metadata": {
        "colab": {
          "base_uri": "https://localhost:8080/"
        },
        "id": "J6-YYnFt5V8w",
        "outputId": "d8773a1d-eb86-40a5-c1dc-d52651409eb2"
      },
      "source": [
        "%cd /content/DeepFaceLab/\n",
        "! python main.py sort --input-dir /content/workspace/data_src/aligned --by hist"
      ],
      "execution_count": null,
      "outputs": [
        {
          "output_type": "stream",
          "name": "stdout",
          "text": [
            "/content/DeepFaceLab\n",
            "Running sort tool.\n",
            "\n",
            "Sorting by histogram similarity...\n",
            "Running on 1 threads\n",
            "Sorting: 100% 1572/1572 [00:11<00:00, 141.57it/s]\n",
            "Renaming: 100% 1572/1572 [00:00<00:00, 27503.29it/s]\n",
            "Done.\n"
          ]
        }
      ]
    },
    {
      "cell_type": "markdown",
      "metadata": {
        "id": "G2sX16rut-FH"
      },
      "source": [
        "## 排序 dst 影格"
      ]
    },
    {
      "cell_type": "code",
      "metadata": {
        "colab": {
          "base_uri": "https://localhost:8080/"
        },
        "id": "zVeQiFch8swF",
        "outputId": "cace19f7-6e66-465f-a0fb-4e892f51263b"
      },
      "source": [
        "%cd /content/DeepFaceLab/\n",
        "! python main.py sort --input-dir /content/workspace/data_dst/aligned --by hist"
      ],
      "execution_count": null,
      "outputs": [
        {
          "output_type": "stream",
          "name": "stdout",
          "text": [
            "/content/DeepFaceLab\n",
            "Running sort tool.\n",
            "\n",
            "Sorting by histogram similarity...\n",
            "Running on 1 threads\n",
            "Sorting: 100% 974/974 [00:05<00:00, 162.60it/s]\n",
            "Renaming: 100% 974/974 [00:00<00:00, 27181.20it/s]\n",
            "Done.\n"
          ]
        }
      ]
    },
    {
      "cell_type": "markdown",
      "metadata": {
        "id": "-BAB98nguDRg"
      },
      "source": [
        "##  加強 src 影格"
      ]
    },
    {
      "cell_type": "code",
      "metadata": {
        "colab": {
          "base_uri": "https://localhost:8080/"
        },
        "id": "h0g7sPzN5ltf",
        "outputId": "15e1802f-8fba-48c5-b3c5-411ac72381aa"
      },
      "source": [
        "%cd /content/DeepFaceLab/\n",
        "! python  main.py facesettool enhance --input-dir /content/workspace/data_src/aligned"
      ],
      "execution_count": null,
      "outputs": [
        {
          "output_type": "stream",
          "name": "stdout",
          "text": [
            "/content/DeepFaceLab\n",
            "\n",
            "Choose one or several GPU idxs (separated by comma).\n",
            "\n",
            "[CPU] : CPU\n",
            "  [0] : Tesla P100-PCIE-16GB\n",
            "\n",
            "[0] Which GPU indexes to choose? : \n",
            "0\n",
            "\n",
            "Enhancing faceset in data_src/aligned\n",
            "Processing to data_src/aligned_enhanced\n",
            "Running on Tesla P100-PCIE-16GB.\n",
            "100% 1/1 [00:03<00:00,  3.18s/it]\n",
            "[y] \n",
            "Merge data_src/aligned_enhanced to data_src/aligned ? ( y/n ) : y\n",
            "Copying processed files to data_src/aligned\n",
            "Removing data_src/aligned_enhanced\n",
            "Done.\n"
          ]
        }
      ]
    },
    {
      "cell_type": "markdown",
      "metadata": {
        "id": "-3IKubKY25mS"
      },
      "source": [
        "## 加強 dst 影格"
      ]
    },
    {
      "cell_type": "code",
      "metadata": {
        "colab": {
          "base_uri": "https://localhost:8080/"
        },
        "id": "xcZOmePE8xrd",
        "outputId": "16341aad-c4d1-4f74-9dfb-87e74793d651"
      },
      "source": [
        "%cd /content/DeepFaceLab/\n",
        "! python  main.py facesettool enhance --input-dir /content/workspace/data_dst/aligned"
      ],
      "execution_count": null,
      "outputs": [
        {
          "output_type": "stream",
          "name": "stdout",
          "text": [
            "/content/DeepFaceLab\n",
            "\n",
            "Choose one or several GPU idxs (separated by comma).\n",
            "\n",
            "[CPU] : CPU\n",
            "  [0] : Tesla P100-PCIE-16GB\n",
            "\n",
            "[0] Which GPU indexes to choose? : \n",
            "0\n",
            "\n",
            "Enhancing faceset in data_dst/aligned\n",
            "Processing to data_dst/aligned_enhanced\n",
            "Running on Tesla P100-PCIE-16GB.\n",
            "100% 1/1 [00:03<00:00,  3.13s/it]\n",
            "[y] \n",
            "Merge data_dst/aligned_enhanced to data_dst/aligned ? ( y/n ) : y\n",
            "Copying processed files to data_dst/aligned\n",
            "Removing data_dst/aligned_enhanced\n",
            "Done.\n"
          ]
        }
      ]
    },
    {
      "cell_type": "markdown",
      "metadata": {
        "id": "I9U6lqG36_aT"
      },
      "source": [
        "## 修改 src 影格大小"
      ]
    },
    {
      "cell_type": "code",
      "metadata": {
        "colab": {
          "base_uri": "https://localhost:8080/"
        },
        "id": "PiL7OpxQ5xAR",
        "outputId": "9c9c1b98-e381-43d2-bfda-b5c7364c1291"
      },
      "source": [
        "%cd /content/DeepFaceLab/\n",
        "! python  main.py facesettool resize --input-dir /content/workspace/data_src/aligned"
      ],
      "execution_count": null,
      "outputs": [
        {
          "output_type": "stream",
          "name": "stdout",
          "text": [
            "/content/DeepFaceLab\n",
            "[512] New image size ( 128-2048 ) : \n",
            "512\n",
            "[same] Change face type ( h/mf/f/wf/head/same ) : \n",
            "same\n",
            "Resizing faceset in data_src/aligned\n",
            "Processing to data_src/aligned_resized\n",
            "Running on CPU #0\n",
            "Running on CPU #2\n",
            "Running on CPU #1\n",
            "Running on CPU #3\n",
            "100% 1/1 [00:00<00:00, 11.24it/s]\n",
            "[y] \n",
            "Merge data_src/aligned_resized to data_src/aligned ? ( y/n ) : y\n",
            "Copying processed files to data_src/aligned\n",
            "Removing data_src/aligned_resized\n",
            "Done.\n"
          ]
        }
      ]
    },
    {
      "cell_type": "markdown",
      "metadata": {
        "id": "sfVythLXE7Fc"
      },
      "source": [
        "## 修改 dst 影格大小"
      ]
    },
    {
      "cell_type": "code",
      "metadata": {
        "colab": {
          "base_uri": "https://localhost:8080/"
        },
        "id": "R9RAS9fCM8EA",
        "outputId": "0957d4ae-1467-460a-d3cc-f6fc64690802"
      },
      "source": [
        "%cd /content/DeepFaceLab/\n",
        "! python  main.py facesettool resize --input-dir /content/workspace/data_dst/aligned"
      ],
      "execution_count": null,
      "outputs": [
        {
          "output_type": "stream",
          "name": "stdout",
          "text": [
            "/content/DeepFaceLab\n",
            "[512] New image size ( 128-2048 ) : \n",
            "512\n",
            "[same] Change face type ( h/mf/f/wf/head/same ) : \n",
            "same\n",
            "Resizing faceset in data_dst/aligned\n",
            "Processing to data_dst/aligned_resized\n",
            "Running on CPU #0\n",
            "Running on CPU #2\n",
            "Running on CPU #1\n",
            "Running on CPU #3\n",
            "100% 1/1 [00:00<00:00, 11.87it/s]\n",
            "[y] \n",
            "Merge data_dst/aligned_resized to data_dst/aligned ? ( y/n ) : y\n",
            "Copying processed files to data_dst/aligned\n",
            "Removing data_dst/aligned_resized\n",
            "Done.\n"
          ]
        }
      ]
    },
    {
      "cell_type": "markdown",
      "metadata": {
        "id": "J20K9L9JFAho"
      },
      "source": [
        "## 打包影格"
      ]
    },
    {
      "cell_type": "code",
      "metadata": {
        "colab": {
          "base_uri": "https://localhost:8080/"
        },
        "id": "2ris2f_x6CDV",
        "outputId": "389e7ac0-0f3a-42e3-cb25-963b1b888c00"
      },
      "source": [
        "%cd /content/DeepFaceLab/\n",
        "!python main.py util --input-dir /content/workspace/data_src/aligned  --pack-faceset"
      ],
      "execution_count": null,
      "outputs": [
        {
          "output_type": "stream",
          "name": "stdout",
          "text": [
            "/content/DeepFaceLab\n",
            "Performing faceset packing...\n",
            "\n",
            "Loading samples: 100% 1/1 [00:00<00:00, 22.87it/s]\n",
            "Processing: 100% 1/1 [00:00<00:00, 9510.89it/s]\n",
            "Packing: 100% 1/1 [00:00<00:00, 2876.75it/s]\n",
            "[y] Delete original files? ( y/n ) : y\n",
            "Deleting files: 100% 1/1 [00:00<00:00, 4002.20it/s]\n",
            "Done.\n"
          ]
        }
      ]
    },
    {
      "cell_type": "code",
      "metadata": {
        "colab": {
          "base_uri": "https://localhost:8080/"
        },
        "id": "nuhawf5HNSeC",
        "outputId": "7280ceb2-9f94-4652-fb45-42851e4e6a24"
      },
      "source": [
        "%cd /content/DeepFaceLab/\n",
        "!python main.py util --input-dir /content/workspace/data_dst/aligned  --pack-faceset"
      ],
      "execution_count": null,
      "outputs": [
        {
          "output_type": "stream",
          "name": "stdout",
          "text": [
            "/content/DeepFaceLab\n",
            "Performing faceset packing...\n",
            "\n",
            "Loading samples: 100% 1/1 [00:00<00:00, 22.42it/s]\n",
            "Processing: 100% 1/1 [00:00<00:00, 8525.01it/s]\n",
            "Packing: 100% 1/1 [00:00<00:00, 2985.27it/s]\n",
            "[y] Delete original files? ( y/n ) : y\n",
            "Deleting files: 100% 1/1 [00:00<00:00, 5229.81it/s]\n",
            "Done.\n"
          ]
        }
      ]
    },
    {
      "cell_type": "markdown",
      "metadata": {
        "id": "DUSyh15G6ZoR"
      },
      "source": [
        "## DST"
      ]
    },
    {
      "cell_type": "code",
      "metadata": {
        "colab": {
          "base_uri": "https://localhost:8080/"
        },
        "id": "gUOkcvkAFcQT",
        "outputId": "e83b1de4-3e2b-4fa7-f123-2e797b1d751a"
      },
      "source": [
        "! pwd"
      ],
      "execution_count": null,
      "outputs": [
        {
          "output_type": "stream",
          "name": "stdout",
          "text": [
            "/content/DeepFaceLab\n"
          ]
        }
      ]
    },
    {
      "cell_type": "code",
      "metadata": {
        "id": "YrcrsWgLWwAC"
      },
      "source": [
        "% cd /content/\n",
        "! zip -r deepfakes_workspace2 workspace/*"
      ],
      "execution_count": null,
      "outputs": []
    },
    {
      "cell_type": "code",
      "metadata": {
        "id": "0-Ln3_uWXCfJ"
      },
      "source": [
        "! cp deepfakes_workspace2.zip /content/drive/MyDrive/aidataset/deepfacelab/"
      ],
      "execution_count": null,
      "outputs": []
    },
    {
      "cell_type": "markdown",
      "metadata": {
        "id": "Nbiifb5CF9e_"
      },
      "source": [
        "## Unzip"
      ]
    },
    {
      "cell_type": "code",
      "metadata": {
        "id": "O2_kbQlqXLfL"
      },
      "source": [
        "#! cp /content/drive/MyDrive/aidataset/deepfacelab/deepfakes_workspace2.zip ./\n",
        "! unzip deepfakes_workspace2.zip"
      ],
      "execution_count": null,
      "outputs": []
    },
    {
      "cell_type": "code",
      "metadata": {
        "id": "dXkEJkThIT0B"
      },
      "source": [
        "#% cd /content/\n",
        "! mv /content/content/workspace /content/workspace"
      ],
      "execution_count": null,
      "outputs": []
    },
    {
      "cell_type": "code",
      "metadata": {
        "id": "9CSa-j85GEn_"
      },
      "source": [
        "! mkdir /content/drive/MyDrive/aidataset/deepfacelab/model2"
      ],
      "execution_count": null,
      "outputs": []
    },
    {
      "cell_type": "code",
      "metadata": {
        "id": "nwpXkmaZ_AIB",
        "colab": {
          "base_uri": "https://localhost:8080/"
        },
        "outputId": "e96afeb8-5ca3-4333-eafe-d3785ce60726"
      },
      "source": [
        "%cd /content/DeepFaceLab/\n",
        "! python main.py train --training-data-src-dir /content/workspace/data_src/aligned --training-data-dst-dir /content/workspace/data_dst/aligned  --model-dir /content/drive/MyDrive/aidataset/deepfacelab/model2 --model SAEHD\n"
      ],
      "execution_count": null,
      "outputs": [
        {
          "output_type": "stream",
          "name": "stdout",
          "text": [
            "/content/DeepFaceLab\n",
            "Running trainer.\n",
            "\n",
            "Choose one of saved models, or enter a name to create a new model.\n",
            "[r] : rename\n",
            "[d] : delete\n",
            "\n",
            "[0] : new - latest\n",
            " : \n",
            "0\n",
            "Loading new_SAEHD model...\n",
            "\n",
            "Choose one or several GPU idxs (separated by comma).\n",
            "\n",
            "[CPU] : CPU\n",
            "  [0] : Tesla P100-PCIE-16GB\n",
            "\n",
            "[0] Which GPU indexes to choose? : \n",
            "0\n",
            "\n",
            "Initializing models: 100% 5/5 [00:13<00:00,  2.72s/it]\n",
            "Loaded 1572 packed faces from /content/workspace/data_src/aligned\n",
            "Loaded 974 packed faces from /content/workspace/data_dst/aligned\n",
            "================= Model Summary =================\n",
            "==                                             ==\n",
            "==            Model name: new_SAEHD            ==\n",
            "==                                             ==\n",
            "==     Current iteration: 236722               ==\n",
            "==                                             ==\n",
            "==--------------- Model Options ---------------==\n",
            "==                                             ==\n",
            "==            resolution: 128                  ==\n",
            "==             face_type: wf                   ==\n",
            "==     models_opt_on_gpu: True                 ==\n",
            "==                 archi: liae-ud              ==\n",
            "==               ae_dims: 256                  ==\n",
            "==                e_dims: 64                   ==\n",
            "==                d_dims: 64                   ==\n",
            "==           d_mask_dims: 22                   ==\n",
            "==       masked_training: True                 ==\n",
            "==       eyes_mouth_prio: True                 ==\n",
            "==           uniform_yaw: False                ==\n",
            "==         blur_out_mask: True                 ==\n",
            "==             adabelief: True                 ==\n",
            "==            lr_dropout: y                    ==\n",
            "==           random_warp: True                 ==\n",
            "==      random_hsv_power: 0.1                  ==\n",
            "==       true_face_power: 0.0                  ==\n",
            "==      face_style_power: 0.0                  ==\n",
            "==        bg_style_power: 0.0                  ==\n",
            "==               ct_mode: rct                  ==\n",
            "==              clipgrad: True                 ==\n",
            "==              pretrain: False                ==\n",
            "==       autobackup_hour: 1                    ==\n",
            "== write_preview_history: False                ==\n",
            "==           target_iter: 0                    ==\n",
            "==       random_src_flip: True                 ==\n",
            "==       random_dst_flip: True                 ==\n",
            "==            batch_size: 8                    ==\n",
            "==             gan_power: 0.0                  ==\n",
            "==        gan_patch_size: 16                   ==\n",
            "==              gan_dims: 16                   ==\n",
            "==                                             ==\n",
            "==---------------- Running On -----------------==\n",
            "==                                             ==\n",
            "==          Device index: 0                    ==\n",
            "==                  Name: Tesla P100-PCIE-16GB ==\n",
            "==                  VRAM: 15.07GB              ==\n",
            "==                                             ==\n",
            "=================================================\n",
            "Starting. Press \"Enter\" to stop training and save model.\n",
            "[05:47:59][#240066][0299ms][0.3310][0.2550]Process Process-8:\n",
            "Traceback (most recent call last):\n",
            "  File \"/usr/lib/python3.7/multiprocessing/process.py\", line 297, in _bootstrap\n",
            "    self.run()\n",
            "  File \"/usr/lib/python3.7/multiprocessing/process.py\", line 99, in run\n",
            "    self._target(*self._args, **self._kwargs)\n",
            "  File \"/content/DeepFaceLab/models/ModelBase.py\", line 676, in process\n",
            "    time.sleep(0.01)\n",
            "KeyboardInterrupt\n",
            "Done.\n"
          ]
        }
      ]
    },
    {
      "cell_type": "code",
      "metadata": {
        "id": "rhQtD-6Bo7HB"
      },
      "source": [
        "!wget -q --no-check-certificate -r https://github.com/chervonij/DFL-Colab/releases/download/pretrain-CelebA/pretrain_CelebA.zip -O /content/pretrain_faceset.zip\n",
        "  "
      ],
      "execution_count": null,
      "outputs": []
    },
    {
      "cell_type": "code",
      "metadata": {
        "id": "iezmKcJUANt5"
      },
      "source": [
        "! mv /content/pretrain_faceset.zip /content/workspace/model/"
      ],
      "execution_count": null,
      "outputs": []
    },
    {
      "cell_type": "code",
      "metadata": {
        "id": "LHZgQjsfBbpi"
      },
      "source": [
        "! python DeepFaceLab/main.py videoed extract-video --input-file workspace/data_src.* --output-dir workspace/data_src/"
      ],
      "execution_count": null,
      "outputs": []
    },
    {
      "cell_type": "markdown",
      "metadata": {
        "id": "avAcSL_uvtq_"
      },
      "source": [
        "## Merge frames"
      ]
    },
    {
      "cell_type": "code",
      "metadata": {
        "id": "M4Aj6npo3Xoz"
      },
      "source": [
        "! cp /content/drive/MyDrive/aidataset/deepfacelab/deepfakes_workspace.zip ./"
      ],
      "execution_count": null,
      "outputs": []
    },
    {
      "cell_type": "code",
      "metadata": {
        "id": "YF4DFEnx3xwq"
      },
      "source": [
        "! unzip deepfakes_workspace.zip"
      ],
      "execution_count": null,
      "outputs": []
    },
    {
      "cell_type": "code",
      "metadata": {
        "id": "nkYxQIN-4F_T"
      },
      "source": [
        "! mv content/workspace ./ "
      ],
      "execution_count": null,
      "outputs": []
    },
    {
      "cell_type": "code",
      "metadata": {
        "id": "9UxfkV8j4914"
      },
      "source": [
        "--pretraining_data_path /content/pretrain"
      ],
      "execution_count": null,
      "outputs": []
    },
    {
      "cell_type": "code",
      "metadata": {
        "colab": {
          "base_uri": "https://localhost:8080/"
        },
        "id": "mZABBTG_33i-",
        "outputId": "55a34642-6099-4402-9241-51436659eaaa"
      },
      "source": [
        "%cd /content/DeepFaceLab/\n",
        "! python main.py merge --input-dir /content/workspace/data_src --output-dir /content/workspace/data_src/merged --output-mask-dir /content/workspace/data_src/merged_mask --aligned-dir /content/workspace/data_src/aligned --model-dir /content/drive/MyDrive/aidataset/deepfacelab/model --model SAEHD"
      ],
      "execution_count": null,
      "outputs": [
        {
          "output_type": "stream",
          "name": "stdout",
          "text": [
            "/content/DeepFaceLab\n",
            "Running merger.\n",
            "\n",
            "Choose one of saved models, or enter a name to create a new model.\n",
            "[r] : rename\n",
            "[d] : delete\n",
            "\n",
            "[0] : new - latest\n",
            " : \n",
            "0\n",
            "Loading new_SAEHD model...\n",
            "\n",
            "Choose one or several GPU idxs (separated by comma).\n",
            "\n",
            "[CPU] : CPU\n",
            "  [0] : Tesla P100-PCIE-16GB\n",
            "\n",
            "[0] Which GPU indexes to choose? : \n",
            "0\n",
            "\n",
            "Initializing models: 100% 4/4 [00:00<00:00,  4.19it/s]\n",
            "================= Model Summary =================\n",
            "==                                             ==\n",
            "==            Model name: new_SAEHD            ==\n",
            "==                                             ==\n",
            "==     Current iteration: 330842               ==\n",
            "==                                             ==\n",
            "==--------------- Model Options ---------------==\n",
            "==                                             ==\n",
            "==            resolution: 128                  ==\n",
            "==             face_type: f                    ==\n",
            "==     models_opt_on_gpu: True                 ==\n",
            "==                 archi: liae-ud              ==\n",
            "==               ae_dims: 256                  ==\n",
            "==                e_dims: 64                   ==\n",
            "==                d_dims: 64                   ==\n",
            "==           d_mask_dims: 22                   ==\n",
            "==       masked_training: True                 ==\n",
            "==       eyes_mouth_prio: True                 ==\n",
            "==           uniform_yaw: True                 ==\n",
            "==         blur_out_mask: True                 ==\n",
            "==             adabelief: True                 ==\n",
            "==            lr_dropout: y                    ==\n",
            "==           random_warp: True                 ==\n",
            "==      random_hsv_power: 0.1                  ==\n",
            "==       true_face_power: 0.0                  ==\n",
            "==      face_style_power: 0.0                  ==\n",
            "==        bg_style_power: 0.0                  ==\n",
            "==               ct_mode: rct                  ==\n",
            "==              clipgrad: True                 ==\n",
            "==              pretrain: False                ==\n",
            "==       autobackup_hour: 1                    ==\n",
            "== write_preview_history: False                ==\n",
            "==           target_iter: 0                    ==\n",
            "==       random_src_flip: True                 ==\n",
            "==       random_dst_flip: True                 ==\n",
            "==            batch_size: 8                    ==\n",
            "==             gan_power: 0.1                  ==\n",
            "==        gan_patch_size: 16                   ==\n",
            "==              gan_dims: 16                   ==\n",
            "==                                             ==\n",
            "==---------------- Running On -----------------==\n",
            "==                                             ==\n",
            "==          Device index: 0                    ==\n",
            "==                  Name: Tesla P100-PCIE-16GB ==\n",
            "==                  VRAM: 15.07GB              ==\n",
            "==                                             ==\n",
            "=================================================\n",
            "Choose mode: \n",
            "(0) original\n",
            "(1) overlay\n",
            "(2) hist-match\n",
            "(3) seamless\n",
            "(4) seamless-hist-match\n",
            "(5) raw-rgb\n",
            "(6) raw-predict\n",
            "\n",
            "[1] : 1\n",
            "1\n",
            "Choose mask mode: \n",
            "(0) full\n",
            "(1) dst\n",
            "(2) learned-prd\n",
            "(3) learned-dst\n",
            "(4) learned-prd*learned-dst\n",
            "(5) learned-prd+learned-dst\n",
            "(6) XSeg-prd\n",
            "(7) XSeg-dst\n",
            "(8) XSeg-prd*XSeg-dst\n",
            "(9) learned-prd*learned-dst*XSeg-prd*XSeg-dst\n",
            "\n",
            "[1] : 3\n",
            "3\n",
            "[0] Choose erode mask modifier ( -400..400 ) : \n",
            "0\n",
            "[0] Choose blur mask modifier ( 0..400 ) : \n",
            "0\n",
            "[0] Choose motion blur power ( 0..100 ) : \n",
            "0\n",
            "[0] Choose output face scale modifier ( -50..50 ) : \n",
            "0\n",
            "Color transfer to predicted face ( rct/lct/mkl/mkl-m/idt/idt-m/sot-m/mix-m ) : rct\n",
            "rct\n",
            "Choose sharpen mode: \n",
            "(0) None\n",
            "(1) box\n",
            "(2) gaussian\n",
            "\n",
            "[0] ( ?:help ) : 1\n",
            "1\n",
            "[0] Choose blur/sharpen amount ( -100..100 ) : \n",
            "0\n",
            "[0] Choose super resolution power ( 0..100 ?:help ) : \n",
            "0\n",
            "[0] Choose image degrade by denoise power ( 0..500 ) : \n",
            "0\n",
            "[0] Choose image degrade by bicubic rescale power ( 0..100 ) : \n",
            "0\n",
            "[0] Degrade color power of final image ( 0..100 ) : \n",
            "0\n",
            "\n",
            "[8] Number of workers? ( 1-4 ?:help ) : \n",
            "8\n",
            "Using packed faceset.\n",
            "Collecting alignments: 100% 1/1 [00:00<00:00, 68.11it/s]\n",
            "Computing motion vectors: 100% 1/1 [00:00<00:00, 659.38it/s]\n",
            "Running on CPU1.\n",
            "Running on CPU5.\n",
            "Running on CPU0.\n",
            "Running on CPU3.\n",
            "Running on CPU4.\n",
            "Running on CPU7.\n",
            "Running on CPU2.\n",
            "Running on CPU6.\n",
            "Merging: 100% 1/1 [00:01<00:00,  1.57s/it]\n",
            "Done.\n"
          ]
        }
      ]
    },
    {
      "cell_type": "code",
      "metadata": {
        "colab": {
          "base_uri": "https://localhost:8080/"
        },
        "id": "lP9ONarp5L3I",
        "outputId": "3789f89f-4e73-435c-dd97-6bbdd28e0c54"
      },
      "source": [
        "%cd /content/DeepFaceLab/\n",
        "! python main.py merge"
      ],
      "execution_count": null,
      "outputs": [
        {
          "output_type": "stream",
          "name": "stdout",
          "text": [
            "/content/DeepFaceLab\n",
            "usage: main.py merge [-h] --input-dir INPUT_DIR --output-dir OUTPUT_DIR\n",
            "                     --output-mask-dir OUTPUT_MASK_DIR\n",
            "                     [--aligned-dir ALIGNED_DIR] --model-dir MODEL_DIR --model\n",
            "                     {AMP,Quick96,SAEHD,XSeg}\n",
            "                     [--force-model-name FORCE_MODEL_NAME] [--cpu-only]\n",
            "                     [--force-gpu-idxs FORCE_GPU_IDXS]\n",
            "main.py merge: error: the following arguments are required: --input-dir, --output-dir, --output-mask-dir, --model-dir, --model\n"
          ]
        }
      ]
    },
    {
      "cell_type": "code",
      "metadata": {
        "id": "A3Y8K22Sv9Gn"
      },
      "source": [
        "#@title Merge\n",
        "Model = \"SAEHD\" #@param [\"SAEHD\", \"AMP\", \"Quick96\" ]\n",
        "\n",
        "cmd = \"DeepFaceLab/main.py merge --input-dir workspace/data_dst --output-dir workspace/data_dst/merged --output-mask-dir workspace/data_dst/merged_mask --aligned-dir workspace/data_dst/aligned --model-dir workspace/model --model \"+Model\n",
        "\n",
        "%cd \"/content\"\n",
        "!python $cmd"
      ],
      "execution_count": null,
      "outputs": []
    },
    {
      "cell_type": "code",
      "metadata": {
        "colab": {
          "base_uri": "https://localhost:8080/"
        },
        "id": "IBqOGpWe4eYH",
        "outputId": "2c247ca4-5577-48e0-de2c-a7092d158d3a"
      },
      "source": [
        "%cd /content/DeepFaceLab/\n",
        "!python main.py videoed video-from-sequence --input-dir /content/workspace/data_dst/merged --output-file /content/workspace/result.mp4 --reference-file /content/workspace/data_dst.mp4 --include-audio"
      ],
      "execution_count": null,
      "outputs": [
        {
          "output_type": "stream",
          "name": "stdout",
          "text": [
            "/content/DeepFaceLab\n",
            "[16] Bitrate of output file in MB/s : \n",
            "16\n",
            "ffmpeg version 3.4.8-0ubuntu0.2 Copyright (c) 2000-2020 the FFmpeg developers\n",
            "  built with gcc 7 (Ubuntu 7.5.0-3ubuntu1~18.04)\n",
            "  configuration: --prefix=/usr --extra-version=0ubuntu0.2 --toolchain=hardened --libdir=/usr/lib/x86_64-linux-gnu --incdir=/usr/include/x86_64-linux-gnu --enable-gpl --disable-stripping --enable-avresample --enable-avisynth --enable-gnutls --enable-ladspa --enable-libass --enable-libbluray --enable-libbs2b --enable-libcaca --enable-libcdio --enable-libflite --enable-libfontconfig --enable-libfreetype --enable-libfribidi --enable-libgme --enable-libgsm --enable-libmp3lame --enable-libmysofa --enable-libopenjpeg --enable-libopenmpt --enable-libopus --enable-libpulse --enable-librubberband --enable-librsvg --enable-libshine --enable-libsnappy --enable-libsoxr --enable-libspeex --enable-libssh --enable-libtheora --enable-libtwolame --enable-libvorbis --enable-libvpx --enable-libwavpack --enable-libwebp --enable-libx265 --enable-libxml2 --enable-libxvid --enable-libzmq --enable-libzvbi --enable-omx --enable-openal --enable-opengl --enable-sdl2 --enable-libdc1394 --enable-libdrm --enable-libiec61883 --enable-chromaprint --enable-frei0r --enable-libopencv --enable-libx264 --enable-shared\n",
            "  libavutil      55. 78.100 / 55. 78.100\n",
            "  libavcodec     57.107.100 / 57.107.100\n",
            "  libavformat    57. 83.100 / 57. 83.100\n",
            "  libavdevice    57. 10.100 / 57. 10.100\n",
            "  libavfilter     6.107.100 /  6.107.100\n",
            "  libavresample   3.  7.  0 /  3.  7.  0\n",
            "  libswscale      4.  8.100 /  4.  8.100\n",
            "  libswresample   2.  9.100 /  2.  9.100\n",
            "  libpostproc    54.  7.100 / 54.  7.100\n",
            "Input #0, image2pipe, from 'pipe:':\n",
            "  Duration: N/A, bitrate: N/A\n",
            "    Stream #0:0: Video: png, rgb24(pc), 852x480, 25 fps, 25 tbr, 25 tbn, 25 tbc\n",
            "Input #1, mov,mp4,m4a,3gp,3g2,mj2, from '/content/workspace/data_dst.mp4':\n",
            "  Metadata:\n",
            "    major_brand     : isom\n",
            "    minor_version   : 512\n",
            "    compatible_brands: isomiso2avc1mp41\n",
            "    encoder         : Lavf58.12.100\n",
            "  Duration: 00:00:45.02, start: 0.000000, bitrate: 413 kb/s\n",
            "    Stream #1:0(und): Video: h264 (Constrained Baseline) (avc1 / 0x31637661), yuv420p, 852x480, 312 kb/s, 25.02 fps, 25 tbr, 12800 tbn, 25600 tbc (default)\n",
            "    Metadata:\n",
            "      handler_name    : VideoHandler\n",
            "    Stream #1:1(und): Audio: aac (LC) (mp4a / 0x6134706D), 44100 Hz, mono, fltp, 95 kb/s (default)\n",
            "    Metadata:\n",
            "      handler_name    : SoundHandler\n",
            "Stream mapping:\n",
            "  Stream #0:0 -> #0:0 (png (native) -> h264 (libx264))\n",
            "  Stream #1:1 -> #0:1 (aac (native) -> aac (native))\n",
            "\u001b[0;35m[image2pipe @ 0x55b0ecf0a000] \u001b[0m\u001b[0;33mThread message queue blocking; consider raising the thread_queue_size option (current value: 8)\n",
            "\u001b[0m\u001b[1;36m[libx264 @ 0x55b0ed00e000] \u001b[0musing cpu capabilities: MMX2 SSE2Fast SSSE3 SSE4.2 AVX FMA3 BMI2 AVX2\n",
            "\u001b[1;36m[libx264 @ 0x55b0ed00e000] \u001b[0mprofile High, level 4.1\n",
            "\u001b[1;36m[libx264 @ 0x55b0ed00e000] \u001b[0m264 - core 152 r2854 e9a5903 - H.264/MPEG-4 AVC codec - Copyleft 2003-2017 - http://www.videolan.org/x264.html - options: cabac=1 ref=3 deblock=1:0:0 analyse=0x3:0x113 me=hex subme=7 psy=1 psy_rd=1.00:0.00 mixed_ref=1 me_range=16 chroma_me=1 trellis=1 8x8dct=1 cqm=0 deadzone=21,11 fast_pskip=1 chroma_qp_offset=-2 threads=6 lookahead_threads=1 sliced_threads=0 nr=0 decimate=1 interlaced=0 bluray_compat=0 constrained_intra=0 bframes=3 b_pyramid=2 b_adapt=1 b_bias=0 direct=1 weightb=1 open_gop=0 weightp=2 keyint=250 keyint_min=25 scenecut=40 intra_refresh=0 rc_lookahead=40 rc=abr mbtree=1 bitrate=16000 ratetol=1.0 qcomp=0.60 qpmin=0 qpmax=69 qpstep=4 ip_ratio=1.40 aq=1:1.00\n",
            "Output #0, mp4, to '/content/workspace/result.mp4':\n",
            "  Metadata:\n",
            "    encoder         : Lavf57.83.100\n",
            "    Stream #0:0: Video: h264 (libx264) (avc1 / 0x31637661), yuv420p(progressive), 852x480, q=-1--1, 16000 kb/s, 25 fps, 12800 tbn, 25 tbc\n",
            "    Metadata:\n",
            "      encoder         : Lavc57.107.100 libx264\n",
            "    Side data:\n",
            "      cpb: bitrate max/min/avg: 0/0/16000000 buffer size: 0 vbv_delay: -1\n",
            "    Stream #0:1(und): Audio: aac (LC) (mp4a / 0x6134706D), 48000 Hz, mono, fltp, 192 kb/s (default)\n",
            "    Metadata:\n",
            "      handler_name    : SoundHandler\n",
            "      encoder         : Lavc57.107.100 aac\n",
            "frame= 1125 fps= 51 q=-1.0 Lsize=   36318kB time=00:00:45.01 bitrate=6609.6kbits/s speed=2.06x    \n",
            "video:35418kB audio:866kB subtitle:0kB other streams:0kB global headers:0kB muxing overhead: 0.095655%\n",
            "\u001b[1;36m[libx264 @ 0x55b0ed00e000] \u001b[0mframe I:9     Avg QP: 0.10  size:117829\n",
            "\u001b[1;36m[libx264 @ 0x55b0ed00e000] \u001b[0mframe P:306   Avg QP: 0.10  size: 55157\n",
            "\u001b[1;36m[libx264 @ 0x55b0ed00e000] \u001b[0mframe B:810   Avg QP: 0.87  size: 22628\n",
            "\u001b[1;36m[libx264 @ 0x55b0ed00e000] \u001b[0mconsecutive B-frames:  3.1%  1.6%  3.2% 92.1%\n",
            "\u001b[1;36m[libx264 @ 0x55b0ed00e000] \u001b[0mmb I  I16..4: 24.7% 11.7% 63.6%\n",
            "\u001b[1;36m[libx264 @ 0x55b0ed00e000] \u001b[0mmb P  I16..4:  2.5%  2.3%  9.0%  P16..4: 23.2%  8.3%  7.9%  0.0%  0.0%    skip:46.9%\n",
            "\u001b[1;36m[libx264 @ 0x55b0ed00e000] \u001b[0mmb B  I16..4:  0.2%  0.2%  1.0%  B16..8: 25.6%  5.8%  3.6%  direct: 2.9%  skip:60.8%  L0:53.3% L1:39.9% BI: 6.8%\n",
            "\u001b[1;36m[libx264 @ 0x55b0ed00e000] \u001b[0mfinal ratefactor: -13.13\n",
            "\u001b[1;36m[libx264 @ 0x55b0ed00e000] \u001b[0m8x8 transform intra:15.1% inter:27.3%\n",
            "\u001b[1;36m[libx264 @ 0x55b0ed00e000] \u001b[0mcoded y,uvDC,uvAC intra: 87.7% 80.6% 78.2% inter: 24.1% 22.4% 22.3%\n",
            "\u001b[1;36m[libx264 @ 0x55b0ed00e000] \u001b[0mi16 v,h,dc,p: 41% 26% 17% 16%\n",
            "\u001b[1;36m[libx264 @ 0x55b0ed00e000] \u001b[0mi8 v,h,dc,ddl,ddr,vr,hd,vl,hu: 41% 25% 12%  3%  3%  4%  4%  5%  4%\n",
            "\u001b[1;36m[libx264 @ 0x55b0ed00e000] \u001b[0mi4 v,h,dc,ddl,ddr,vr,hd,vl,hu: 40% 27%  8%  4%  5%  4%  4%  4%  4%\n",
            "\u001b[1;36m[libx264 @ 0x55b0ed00e000] \u001b[0mi8c dc,h,v,p: 36% 25% 30%  8%\n",
            "\u001b[1;36m[libx264 @ 0x55b0ed00e000] \u001b[0mWeighted P-Frames: Y:0.0% UV:0.0%\n",
            "\u001b[1;36m[libx264 @ 0x55b0ed00e000] \u001b[0mref P L0: 83.4%  5.9%  8.1%  2.7%\n",
            "\u001b[1;36m[libx264 @ 0x55b0ed00e000] \u001b[0mref B L0: 94.3%  5.0%  0.7%\n",
            "\u001b[1;36m[libx264 @ 0x55b0ed00e000] \u001b[0mref B L1: 98.7%  1.3%\n",
            "\u001b[1;36m[libx264 @ 0x55b0ed00e000] \u001b[0mkb/s:6447.47\n",
            "\u001b[1;36m[aac @ 0x55b0ed00ef00] \u001b[0mQavg: 58826.039\n",
            "Done.\n"
          ]
        }
      ]
    },
    {
      "cell_type": "code",
      "metadata": {
        "id": "JNeGfiZpxlnz"
      },
      "source": [
        "#@title Get result video \n",
        "Mode = \"result video\" #@param [\"result video\", \"result_mask video\"]\n",
        "Copy_to_Drive = True #@param {type:\"boolean\"}\n",
        "\n",
        "\n",
        "if Mode == \"result video\":\n",
        "  !python DeepFaceLab/main.py videoed video-from-sequence --input-dir workspace/data_dst/merged --output-file workspace/result.mp4 --reference-file workspace/data_dst.mp4 --include-audio\n",
        "  if Copy_to_Drive:\n",
        "    !cp /content/workspace/result.mp4 /content/drive/My\\ Drive/\n",
        "elif Mode == \"result_mask video\":\n",
        "  !python DeepFaceLab/main.py videoed video-from-sequence --input-dir workspace/data_dst/merged_mask --output-file workspace/result_mask.mp4 --reference-file workspace/data_dst.mp4\n",
        "  if Copy_to_Drive:\n",
        "    !cp /content/workspace/result_mask.mp4 /content/drive/My\\ Drive/\n"
      ],
      "execution_count": null,
      "outputs": []
    }
  ]
}