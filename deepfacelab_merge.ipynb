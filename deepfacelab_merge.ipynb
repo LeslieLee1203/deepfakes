{
  "nbformat": 4,
  "nbformat_minor": 0,
  "metadata": {
    "colab": {
      "name": "deepfacelab_merge.ipynb",
      "provenance": [],
      "collapsed_sections": []
    },
    "kernelspec": {
      "name": "python3",
      "display_name": "Python 3"
    },
    "language_info": {
      "name": "python"
    },
    "accelerator": "GPU"
  },
  "cells": [
    {
      "cell_type": "code",
      "source": [
        "#@title 檢視 GPU\n",
        "! nvidia-smi"
      ],
      "metadata": {
        "colab": {
          "base_uri": "https://localhost:8080/"
        },
        "cellView": "form",
        "id": "sdJ7nZcubQDf",
        "outputId": "f57ab196-459a-4680-e8b6-afcf154de9fd"
      },
      "execution_count": 1,
      "outputs": [
        {
          "output_type": "stream",
          "name": "stdout",
          "text": [
            "Sat Mar 12 04:45:48 2022       \n",
            "+-----------------------------------------------------------------------------+\n",
            "| NVIDIA-SMI 460.32.03    Driver Version: 460.32.03    CUDA Version: 11.2     |\n",
            "|-------------------------------+----------------------+----------------------+\n",
            "| GPU  Name        Persistence-M| Bus-Id        Disp.A | Volatile Uncorr. ECC |\n",
            "| Fan  Temp  Perf  Pwr:Usage/Cap|         Memory-Usage | GPU-Util  Compute M. |\n",
            "|                               |                      |               MIG M. |\n",
            "|===============================+======================+======================|\n",
            "|   0  Tesla P100-PCIE...  Off  | 00000000:00:04.0 Off |                    0 |\n",
            "| N/A   37C    P0    26W / 250W |      0MiB / 16280MiB |      0%      Default |\n",
            "|                               |                      |                  N/A |\n",
            "+-------------------------------+----------------------+----------------------+\n",
            "                                                                               \n",
            "+-----------------------------------------------------------------------------+\n",
            "| Processes:                                                                  |\n",
            "|  GPU   GI   CI        PID   Type   Process name                  GPU Memory |\n",
            "|        ID   ID                                                   Usage      |\n",
            "|=============================================================================|\n",
            "|  No running processes found                                                 |\n",
            "+-----------------------------------------------------------------------------+\n"
          ]
        }
      ]
    },
    {
      "cell_type": "code",
      "execution_count": 2,
      "metadata": {
        "colab": {
          "base_uri": "https://localhost:8080/"
        },
        "cellView": "form",
        "id": "QNtYV2KjZ_DS",
        "outputId": "deed2001-f662-4429-db58-672db85a1e1a"
      },
      "outputs": [
        {
          "output_type": "stream",
          "name": "stdout",
          "text": [
            "Collecting colorama\n",
            "  Downloading colorama-0.4.4-py2.py3-none-any.whl (16 kB)\n",
            "Installing collected packages: colorama\n",
            "Successfully installed colorama-0.4.4\n",
            "Collecting ffmpeg-python\n",
            "  Downloading ffmpeg_python-0.2.0-py3-none-any.whl (25 kB)\n",
            "Requirement already satisfied: future in /usr/local/lib/python3.7/dist-packages (from ffmpeg-python) (0.16.0)\n",
            "Installing collected packages: ffmpeg-python\n",
            "Successfully installed ffmpeg-python-0.2.0\n"
          ]
        }
      ],
      "source": [
        "#@title 安裝 colorama, ffmpeg\n",
        "\n",
        "! pip install colorama\n",
        "! pip install ffmpeg-python"
      ]
    },
    {
      "cell_type": "code",
      "source": [
        "#@title 安裝 DeepFaceLab\n",
        "!git clone https://github.com/iperov/DeepFaceLab.git"
      ],
      "metadata": {
        "cellView": "form",
        "colab": {
          "base_uri": "https://localhost:8080/"
        },
        "id": "g-0BaNcladl4",
        "outputId": "3e19855a-c622-4ee0-fa89-94cdd312dc81"
      },
      "execution_count": 3,
      "outputs": [
        {
          "output_type": "stream",
          "name": "stdout",
          "text": [
            "Cloning into 'DeepFaceLab'...\n",
            "remote: Enumerating objects: 8010, done.\u001b[K\n",
            "remote: Counting objects: 100% (259/259), done.\u001b[K\n",
            "remote: Compressing objects: 100% (140/140), done.\u001b[K\n",
            "remote: Total 8010 (delta 146), reused 178 (delta 117), pack-reused 7751\u001b[K\n",
            "Receiving objects: 100% (8010/8010), 823.29 MiB | 13.80 MiB/s, done.\n",
            "Resolving deltas: 100% (5140/5140), done.\n",
            "Checking out files: 100% (211/211), done.\n"
          ]
        }
      ]
    },
    {
      "cell_type": "code",
      "source": [
        "#@title Mount Google Drive\n",
        "from google.colab import drive\n",
        "drive.mount('/content/drive')"
      ],
      "metadata": {
        "colab": {
          "base_uri": "https://localhost:8080/"
        },
        "cellView": "form",
        "id": "KwlV62qxcY4v",
        "outputId": "e5b12d52-564d-4389-ab4f-f0edbd5facbf"
      },
      "execution_count": 4,
      "outputs": [
        {
          "output_type": "stream",
          "name": "stdout",
          "text": [
            "Mounted at /content/drive\n"
          ]
        }
      ]
    },
    {
      "cell_type": "code",
      "source": [
        "#@title 防止 Google Colab 斷開連線\n",
        "\n",
        "import IPython\n",
        "from google.colab import output\n",
        "\n",
        "display(IPython.display.Javascript('''\n",
        " function ClickConnect(){\n",
        "   btn = document.querySelector(\"colab-connect-button\")\n",
        "   if (btn != null){\n",
        "     console.log(\"Click colab-connect-button\"); \n",
        "     btn.click() \n",
        "     }\n",
        "   \n",
        "   btn = document.getElementById('ok')\n",
        "   if (btn != null){\n",
        "     console.log(\"Click reconnect\"); \n",
        "     btn.click() \n",
        "     }\n",
        "  }\n",
        "  \n",
        "setInterval(ClickConnect,60000)\n",
        "'''))\n",
        "\n",
        "print(\"Done.\")"
      ],
      "metadata": {
        "colab": {
          "base_uri": "https://localhost:8080/",
          "height": 35
        },
        "cellView": "form",
        "id": "7HbURJTmgM1t",
        "outputId": "851067fc-36eb-43b9-f7d6-fe2ac2238852"
      },
      "execution_count": 5,
      "outputs": [
        {
          "output_type": "display_data",
          "data": {
            "text/plain": [
              "<IPython.core.display.Javascript object>"
            ],
            "application/javascript": [
              "\n",
              " function ClickConnect(){\n",
              "   btn = document.querySelector(\"colab-connect-button\")\n",
              "   if (btn != null){\n",
              "     console.log(\"Click colab-connect-button\"); \n",
              "     btn.click() \n",
              "     }\n",
              "   \n",
              "   btn = document.getElementById('ok')\n",
              "   if (btn != null){\n",
              "     console.log(\"Click reconnect\"); \n",
              "     btn.click() \n",
              "     }\n",
              "  }\n",
              "  \n",
              "setInterval(ClickConnect,60000)\n"
            ]
          },
          "metadata": {}
        },
        {
          "output_type": "stream",
          "name": "stdout",
          "text": [
            "Done.\n"
          ]
        }
      ]
    },
    {
      "cell_type": "code",
      "source": [
        "#@title 將素材從 Google Drive 搬回 VM\n",
        "workspace_file = '/content/drive/MyDrive/aidataset/deepfacelab/deepfacelab_ws.zip' #@param {type:\"string\"}\n",
        "cmd  = f'cp {workspace_file} ./'\n",
        "! $cmd"
      ],
      "metadata": {
        "cellView": "form",
        "id": "Zqb6s37kqzrq"
      },
      "execution_count": 6,
      "outputs": []
    },
    {
      "cell_type": "code",
      "source": [
        "#@title 解壓縮Workspace\n",
        "zip_file = 'deepfacelab_ws.zip' #@param {type:\"string\"}\n",
        "cmd  = f'unzip  {zip_file}'\n",
        "! $cmd"
      ],
      "metadata": {
        "cellView": "form",
        "id": "Scqv3ILhtLF2"
      },
      "execution_count": null,
      "outputs": []
    },
    {
      "cell_type": "code",
      "source": [
        "#@title 合併影格\n",
        "%cd /content/DeepFaceLab/\n",
        "model_path = '/content/drive/MyDrive/aidataset/deepfacelab/model_20220312' #@param {type:\"string\"}\n",
        "cmd = f'python main.py merge --input-dir /content/workspace/data_dst --output-dir /content/workspace/data_dst/merged --output-mask-dir /content/workspace/data_dst/merged_mask --aligned-dir /content/workspace/data_dst/aligned --model-dir {model_path} --model SAEHD'\n",
        "! $cmd"
      ],
      "metadata": {
        "cellView": "form",
        "id": "Xb0nRCnNc2YM"
      },
      "execution_count": null,
      "outputs": []
    },
    {
      "cell_type": "code",
      "source": [
        "#@title 影片生成\n",
        "%cd /content/DeepFaceLab/\n",
        "output_mp4 = '/content/workspace/result.mp4' #@param {type:\"string\"}\n",
        "cmd = f'python main.py videoed video-from-sequence --input-dir /content/workspace/data_dst/merged --output-file {output_mp4} --reference-file /content/workspace/data_dst.mp4 --include-audio'\n",
        "! $cmd"
      ],
      "metadata": {
        "cellView": "form",
        "id": "F-BMk0_IdkEi"
      },
      "execution_count": null,
      "outputs": []
    },
    {
      "cell_type": "code",
      "source": [
        "#@title 將影片搬至Google Drive\n",
        "gd_path = '/content/drive/MyDrive/aidataset/' #@param {type:\"string\"}\n",
        "cmd = f'cp /content/workspace/result.mp4 {gd_path}'\n",
        "! $cmd"
      ],
      "metadata": {
        "cellView": "form",
        "id": "02YsOSVUd7av"
      },
      "execution_count": null,
      "outputs": []
    }
  ]
}