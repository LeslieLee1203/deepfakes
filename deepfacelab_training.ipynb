{
  "nbformat": 4,
  "nbformat_minor": 0,
  "metadata": {
    "colab": {
      "name": "deepfacelab_training.ipynb",
      "provenance": [],
      "collapsed_sections": []
    },
    "kernelspec": {
      "name": "python3",
      "display_name": "Python 3"
    },
    "language_info": {
      "name": "python"
    },
    "accelerator": "GPU"
  },
  "cells": [
    {
      "cell_type": "code",
      "source": [
        "#@title 檢視 GPU\n",
        "! nvidia-smi"
      ],
      "metadata": {
        "colab": {
          "base_uri": "https://localhost:8080/"
        },
        "cellView": "form",
        "id": "sdJ7nZcubQDf",
        "outputId": "c4aaa3cd-7556-432b-98ae-bca71f5e6fee"
      },
      "execution_count": 1,
      "outputs": [
        {
          "output_type": "stream",
          "name": "stdout",
          "text": [
            "Fri Mar 11 15:55:59 2022       \n",
            "+-----------------------------------------------------------------------------+\n",
            "| NVIDIA-SMI 460.32.03    Driver Version: 460.32.03    CUDA Version: 11.2     |\n",
            "|-------------------------------+----------------------+----------------------+\n",
            "| GPU  Name        Persistence-M| Bus-Id        Disp.A | Volatile Uncorr. ECC |\n",
            "| Fan  Temp  Perf  Pwr:Usage/Cap|         Memory-Usage | GPU-Util  Compute M. |\n",
            "|                               |                      |               MIG M. |\n",
            "|===============================+======================+======================|\n",
            "|   0  Tesla P100-PCIE...  Off  | 00000000:00:04.0 Off |                    0 |\n",
            "| N/A   35C    P0    26W / 250W |      0MiB / 16280MiB |      0%      Default |\n",
            "|                               |                      |                  N/A |\n",
            "+-------------------------------+----------------------+----------------------+\n",
            "                                                                               \n",
            "+-----------------------------------------------------------------------------+\n",
            "| Processes:                                                                  |\n",
            "|  GPU   GI   CI        PID   Type   Process name                  GPU Memory |\n",
            "|        ID   ID                                                   Usage      |\n",
            "|=============================================================================|\n",
            "|  No running processes found                                                 |\n",
            "+-----------------------------------------------------------------------------+\n"
          ]
        }
      ]
    },
    {
      "cell_type": "code",
      "execution_count": 2,
      "metadata": {
        "colab": {
          "base_uri": "https://localhost:8080/"
        },
        "cellView": "form",
        "id": "QNtYV2KjZ_DS",
        "outputId": "f73da9a8-4eaf-4d03-899f-52170b44a78d"
      },
      "outputs": [
        {
          "output_type": "stream",
          "name": "stdout",
          "text": [
            "Collecting colorama\n",
            "  Downloading colorama-0.4.4-py2.py3-none-any.whl (16 kB)\n",
            "Installing collected packages: colorama\n",
            "Successfully installed colorama-0.4.4\n",
            "Collecting ffmpeg-python\n",
            "  Downloading ffmpeg_python-0.2.0-py3-none-any.whl (25 kB)\n",
            "Requirement already satisfied: future in /usr/local/lib/python3.7/dist-packages (from ffmpeg-python) (0.16.0)\n",
            "Installing collected packages: ffmpeg-python\n",
            "Successfully installed ffmpeg-python-0.2.0\n"
          ]
        }
      ],
      "source": [
        "#@title 安裝 colorama, ffmpeg\n",
        "\n",
        "! pip install colorama\n",
        "! pip install ffmpeg-python"
      ]
    },
    {
      "cell_type": "code",
      "source": [
        "#@title 安裝 DeepFaceLab\n",
        "!git clone https://github.com/iperov/DeepFaceLab.git"
      ],
      "metadata": {
        "cellView": "form",
        "colab": {
          "base_uri": "https://localhost:8080/"
        },
        "id": "g-0BaNcladl4",
        "outputId": "61a9a139-b6f7-4326-e2c9-4ef5541564ab"
      },
      "execution_count": 3,
      "outputs": [
        {
          "output_type": "stream",
          "name": "stdout",
          "text": [
            "Cloning into 'DeepFaceLab'...\n",
            "remote: Enumerating objects: 8010, done.\u001b[K\n",
            "remote: Counting objects: 100% (259/259), done.\u001b[K\n",
            "remote: Compressing objects: 100% (139/139), done.\u001b[K\n",
            "remote: Total 8010 (delta 146), reused 179 (delta 118), pack-reused 7751\u001b[K\n",
            "Receiving objects: 100% (8010/8010), 823.27 MiB | 36.82 MiB/s, done.\n",
            "Resolving deltas: 100% (5142/5142), done.\n",
            "Checking out files: 100% (211/211), done.\n"
          ]
        }
      ]
    },
    {
      "cell_type": "code",
      "source": [
        "#@title Mount Google Drive\n",
        "from google.colab import drive\n",
        "drive.mount('/content/drive')"
      ],
      "metadata": {
        "colab": {
          "base_uri": "https://localhost:8080/"
        },
        "cellView": "form",
        "id": "KwlV62qxcY4v",
        "outputId": "3bf09435-9920-4892-c0ed-f37ec643b5c7"
      },
      "execution_count": 4,
      "outputs": [
        {
          "output_type": "stream",
          "name": "stdout",
          "text": [
            "Mounted at /content/drive\n"
          ]
        }
      ]
    },
    {
      "cell_type": "code",
      "source": [
        "#@title 防止 Google Colab 斷開連線\n",
        "\n",
        "import IPython\n",
        "from google.colab import output\n",
        "\n",
        "display(IPython.display.Javascript('''\n",
        " function ClickConnect(){\n",
        "   btn = document.querySelector(\"colab-connect-button\")\n",
        "   if (btn != null){\n",
        "     console.log(\"Click colab-connect-button\"); \n",
        "     btn.click() \n",
        "     }\n",
        "   \n",
        "   btn = document.getElementById('ok')\n",
        "   if (btn != null){\n",
        "     console.log(\"Click reconnect\"); \n",
        "     btn.click() \n",
        "     }\n",
        "  }\n",
        "  \n",
        "setInterval(ClickConnect,60000)\n",
        "'''))\n",
        "\n",
        "print(\"Done.\")"
      ],
      "metadata": {
        "colab": {
          "base_uri": "https://localhost:8080/",
          "height": 35
        },
        "cellView": "form",
        "id": "7HbURJTmgM1t",
        "outputId": "2be7a00c-c02e-4828-c2a6-4b3f9303a0bd"
      },
      "execution_count": 5,
      "outputs": [
        {
          "output_type": "display_data",
          "data": {
            "application/javascript": [
              "\n",
              " function ClickConnect(){\n",
              "   btn = document.querySelector(\"colab-connect-button\")\n",
              "   if (btn != null){\n",
              "     console.log(\"Click colab-connect-button\"); \n",
              "     btn.click() \n",
              "     }\n",
              "   \n",
              "   btn = document.getElementById('ok')\n",
              "   if (btn != null){\n",
              "     console.log(\"Click reconnect\"); \n",
              "     btn.click() \n",
              "     }\n",
              "  }\n",
              "  \n",
              "setInterval(ClickConnect,60000)\n"
            ],
            "text/plain": [
              "<IPython.core.display.Javascript object>"
            ]
          },
          "metadata": {}
        },
        {
          "output_type": "stream",
          "name": "stdout",
          "text": [
            "Done.\n"
          ]
        }
      ]
    },
    {
      "cell_type": "code",
      "source": [
        "#@title 將素材從 Google Drive 搬回 VM\n",
        "workspace_file = '/content/drive/MyDrive/aidataset/deepfacelab/deepfacelab_ws.zip' #@param {type:\"string\"}\n",
        "cmd  = f'cp {workspace_file} ./'\n",
        "! $cmd"
      ],
      "metadata": {
        "cellView": "form",
        "id": "Zqb6s37kqzrq"
      },
      "execution_count": 6,
      "outputs": []
    },
    {
      "cell_type": "code",
      "source": [
        "#@title 解壓縮Workspace\n",
        "zip_file = 'deepfacelab_ws.zip' #@param {type:\"string\"}\n",
        "cmd  = f'unzip  {zip_file}'\n",
        "! $cmd"
      ],
      "metadata": {
        "cellView": "form",
        "id": "Scqv3ILhtLF2"
      },
      "execution_count": null,
      "outputs": []
    },
    {
      "cell_type": "code",
      "source": [
        "## Pretained Models\n"
      ],
      "metadata": {
        "id": "Y-wi-zIS1bzs"
      },
      "execution_count": null,
      "outputs": []
    },
    {
      "cell_type": "markdown",
      "source": [
        "## Pretrained Models\n",
        "\n",
        "- https://mrdeepfakes.com/forums/thread-sharing-dfl-2-0-readytotrain-model#\n",
        "\n",
        "- https://disk.yandex.ru/d/7i5XTKIKVg5UUg\n",
        "\n",
        "This is heavily pretrained model to train your own Ready-To-Merge model for 224 res using RTM WF Faceset.\n",
        "\n",
        "How to use this model.\n",
        "\n",
        "1. place RTM WF Faceset to workspace/data_dst/aligned\n",
        "\n",
        "2. place your celeb to workspace/data_src/aligned\n",
        "\n",
        "3. place this model folder to workspace/model\n",
        "\n",
        "4. do not change settings, train +500.000 iters\n",
        "\n",
        "5. random_warp OFF, train +500.000, periodically disable masked training for 5.000 iters and enable again\n",
        "\n",
        "6. GAN 0.1 power, patch size 28, dims 32 train +500.000"
      ],
      "metadata": {
        "id": "AQ82OzQV1eT2"
      }
    },
    {
      "cell_type": "code",
      "source": [
        "#@title 訓練 DeepFakes 模型\n",
        "import os\n",
        "model_path = '/content/drive/MyDrive/aidataset/deepfacelab/model_20220312' #@param {type:\"string\"}\n",
        "if os.path.exists(model_path):\n",
        "  os.mkdir(model_path)\n",
        "%cd /content/DeepFaceLab/\n",
        "cmd = f'python main.py train --training-data-src-dir /content/workspace/data_src/aligned --training-data-dst-dir /content/workspace/data_dst/aligned  --model-dir {model_path} --model SAEHD'\n",
        "! $cmd"
      ],
      "metadata": {
        "cellView": "form",
        "id": "AQsRjacktdrJ"
      },
      "execution_count": null,
      "outputs": []
    }
  ]
}